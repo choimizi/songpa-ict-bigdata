{
 "cells": [
  {
   "cell_type": "code",
   "execution_count": 3,
   "id": "05f5d8ce",
   "metadata": {},
   "outputs": [
    {
     "data": {
      "text/html": [
       "<div>\n",
       "<style scoped>\n",
       "    .dataframe tbody tr th:only-of-type {\n",
       "        vertical-align: middle;\n",
       "    }\n",
       "\n",
       "    .dataframe tbody tr th {\n",
       "        vertical-align: top;\n",
       "    }\n",
       "\n",
       "    .dataframe thead th {\n",
       "        text-align: right;\n",
       "    }\n",
       "</style>\n",
       "<table border=\"1\" class=\"dataframe\">\n",
       "  <thead>\n",
       "    <tr style=\"text-align: right;\">\n",
       "      <th></th>\n",
       "      <th>이름</th>\n",
       "      <th>나이</th>\n",
       "      <th>신장</th>\n",
       "      <th>체중</th>\n",
       "      <th>혈액형</th>\n",
       "    </tr>\n",
       "  </thead>\n",
       "  <tbody>\n",
       "    <tr>\n",
       "      <th>0</th>\n",
       "      <td>이서진</td>\n",
       "      <td>53</td>\n",
       "      <td>173</td>\n",
       "      <td>75</td>\n",
       "      <td>A</td>\n",
       "    </tr>\n",
       "    <tr>\n",
       "      <th>1</th>\n",
       "      <td>정유미</td>\n",
       "      <td>42</td>\n",
       "      <td>160</td>\n",
       "      <td>55</td>\n",
       "      <td>B</td>\n",
       "    </tr>\n",
       "    <tr>\n",
       "      <th>2</th>\n",
       "      <td>박서준</td>\n",
       "      <td>36</td>\n",
       "      <td>180</td>\n",
       "      <td>74</td>\n",
       "      <td>B</td>\n",
       "    </tr>\n",
       "    <tr>\n",
       "      <th>3</th>\n",
       "      <td>최우식</td>\n",
       "      <td>32</td>\n",
       "      <td>179</td>\n",
       "      <td>68</td>\n",
       "      <td>O</td>\n",
       "    </tr>\n",
       "    <tr>\n",
       "      <th>4</th>\n",
       "      <td>고민시</td>\n",
       "      <td>27</td>\n",
       "      <td>163</td>\n",
       "      <td>52</td>\n",
       "      <td>AB</td>\n",
       "    </tr>\n",
       "    <tr>\n",
       "      <th>5</th>\n",
       "      <td>나영석</td>\n",
       "      <td>45</td>\n",
       "      <td>169</td>\n",
       "      <td>66</td>\n",
       "      <td>B</td>\n",
       "    </tr>\n",
       "  </tbody>\n",
       "</table>\n",
       "</div>"
      ],
      "text/plain": [
       "    이름  나이   신장  체중 혈액형\n",
       "0  이서진  53  173  75   A\n",
       "1  정유미  42  160  55   B\n",
       "2  박서준  36  180  74   B\n",
       "3  최우식  32  179  68   O\n",
       "4  고민시  27  163  52  AB\n",
       "5  나영석  45  169  66   B"
      ]
     },
     "execution_count": 3,
     "metadata": {},
     "output_type": "execute_result"
    }
   ],
   "source": [
    "import numpy as np\n",
    "import pandas as pd\n",
    "df=pd.DataFrame({'이름':['이서진','정유미','박서준','최우식','고민시','나영석'],\n",
    "                '나이':[53,42,36,32,27,45],\n",
    "                '신장':[173,160,180,179,163,169],\n",
    "                '체중':[75,55,74,68,52,66],\n",
    "                '혈액형':['A','B','B','O','AB','B']})\n",
    "df"
   ]
  },
  {
   "cell_type": "code",
   "execution_count": 4,
   "id": "10754f91",
   "metadata": {},
   "outputs": [
    {
     "data": {
      "text/html": [
       "<div>\n",
       "<style scoped>\n",
       "    .dataframe tbody tr th:only-of-type {\n",
       "        vertical-align: middle;\n",
       "    }\n",
       "\n",
       "    .dataframe tbody tr th {\n",
       "        vertical-align: top;\n",
       "    }\n",
       "\n",
       "    .dataframe thead th {\n",
       "        text-align: right;\n",
       "    }\n",
       "</style>\n",
       "<table border=\"1\" class=\"dataframe\">\n",
       "  <thead>\n",
       "    <tr style=\"text-align: right;\">\n",
       "      <th></th>\n",
       "      <th>이름</th>\n",
       "      <th>나이</th>\n",
       "      <th>신장</th>\n",
       "      <th>체중</th>\n",
       "      <th>혈액형</th>\n",
       "    </tr>\n",
       "  </thead>\n",
       "  <tbody>\n",
       "    <tr>\n",
       "      <th>0</th>\n",
       "      <td>이서진</td>\n",
       "      <td>53</td>\n",
       "      <td>173</td>\n",
       "      <td>75</td>\n",
       "      <td>A</td>\n",
       "    </tr>\n",
       "    <tr>\n",
       "      <th>1</th>\n",
       "      <td>정유미</td>\n",
       "      <td>42</td>\n",
       "      <td>160</td>\n",
       "      <td>55</td>\n",
       "      <td>B</td>\n",
       "    </tr>\n",
       "    <tr>\n",
       "      <th>2</th>\n",
       "      <td>박서준</td>\n",
       "      <td>36</td>\n",
       "      <td>180</td>\n",
       "      <td>74</td>\n",
       "      <td>B</td>\n",
       "    </tr>\n",
       "    <tr>\n",
       "      <th>3</th>\n",
       "      <td>최우식</td>\n",
       "      <td>32</td>\n",
       "      <td>179</td>\n",
       "      <td>68</td>\n",
       "      <td>O</td>\n",
       "    </tr>\n",
       "    <tr>\n",
       "      <th>4</th>\n",
       "      <td>고민시</td>\n",
       "      <td>27</td>\n",
       "      <td>163</td>\n",
       "      <td>52</td>\n",
       "      <td>AB</td>\n",
       "    </tr>\n",
       "    <tr>\n",
       "      <th>5</th>\n",
       "      <td>나영석</td>\n",
       "      <td>45</td>\n",
       "      <td>169</td>\n",
       "      <td>66</td>\n",
       "      <td>B</td>\n",
       "    </tr>\n",
       "    <tr>\n",
       "      <th>6</th>\n",
       "      <td>심진화</td>\n",
       "      <td>44</td>\n",
       "      <td>162</td>\n",
       "      <td>65</td>\n",
       "      <td>AB</td>\n",
       "    </tr>\n",
       "  </tbody>\n",
       "</table>\n",
       "</div>"
      ],
      "text/plain": [
       "    이름  나이   신장  체중 혈액형\n",
       "0  이서진  53  173  75   A\n",
       "1  정유미  42  160  55   B\n",
       "2  박서준  36  180  74   B\n",
       "3  최우식  32  179  68   O\n",
       "4  고민시  27  163  52  AB\n",
       "5  나영석  45  169  66   B\n",
       "6  심진화  44  162  65  AB"
      ]
     },
     "execution_count": 4,
     "metadata": {},
     "output_type": "execute_result"
    }
   ],
   "source": [
    "df.loc[6]=['심진화',44,162,65,'AB']\n",
    "df"
   ]
  },
  {
   "cell_type": "code",
   "execution_count": 5,
   "id": "de100ffb",
   "metadata": {},
   "outputs": [
    {
     "data": {
      "text/html": [
       "<div>\n",
       "<style scoped>\n",
       "    .dataframe tbody tr th:only-of-type {\n",
       "        vertical-align: middle;\n",
       "    }\n",
       "\n",
       "    .dataframe tbody tr th {\n",
       "        vertical-align: top;\n",
       "    }\n",
       "\n",
       "    .dataframe thead th {\n",
       "        text-align: right;\n",
       "    }\n",
       "</style>\n",
       "<table border=\"1\" class=\"dataframe\">\n",
       "  <thead>\n",
       "    <tr style=\"text-align: right;\">\n",
       "      <th></th>\n",
       "      <th>이름</th>\n",
       "      <th>나이</th>\n",
       "      <th>신장</th>\n",
       "      <th>체중</th>\n",
       "      <th>혈액형</th>\n",
       "      <th>소속사</th>\n",
       "    </tr>\n",
       "  </thead>\n",
       "  <tbody>\n",
       "    <tr>\n",
       "      <th>0</th>\n",
       "      <td>이서진</td>\n",
       "      <td>53</td>\n",
       "      <td>173</td>\n",
       "      <td>75</td>\n",
       "      <td>A</td>\n",
       "      <td>SM</td>\n",
       "    </tr>\n",
       "    <tr>\n",
       "      <th>1</th>\n",
       "      <td>정유미</td>\n",
       "      <td>42</td>\n",
       "      <td>160</td>\n",
       "      <td>55</td>\n",
       "      <td>B</td>\n",
       "      <td>쿠팡</td>\n",
       "    </tr>\n",
       "    <tr>\n",
       "      <th>2</th>\n",
       "      <td>박서준</td>\n",
       "      <td>36</td>\n",
       "      <td>180</td>\n",
       "      <td>74</td>\n",
       "      <td>B</td>\n",
       "      <td>카카오</td>\n",
       "    </tr>\n",
       "    <tr>\n",
       "      <th>3</th>\n",
       "      <td>최우식</td>\n",
       "      <td>32</td>\n",
       "      <td>179</td>\n",
       "      <td>68</td>\n",
       "      <td>O</td>\n",
       "      <td>SM</td>\n",
       "    </tr>\n",
       "    <tr>\n",
       "      <th>4</th>\n",
       "      <td>고민시</td>\n",
       "      <td>27</td>\n",
       "      <td>163</td>\n",
       "      <td>52</td>\n",
       "      <td>AB</td>\n",
       "      <td>JYP</td>\n",
       "    </tr>\n",
       "    <tr>\n",
       "      <th>5</th>\n",
       "      <td>나영석</td>\n",
       "      <td>45</td>\n",
       "      <td>169</td>\n",
       "      <td>66</td>\n",
       "      <td>B</td>\n",
       "      <td>SM</td>\n",
       "    </tr>\n",
       "    <tr>\n",
       "      <th>6</th>\n",
       "      <td>심진화</td>\n",
       "      <td>44</td>\n",
       "      <td>162</td>\n",
       "      <td>65</td>\n",
       "      <td>AB</td>\n",
       "      <td>무소속</td>\n",
       "    </tr>\n",
       "  </tbody>\n",
       "</table>\n",
       "</div>"
      ],
      "text/plain": [
       "    이름  나이   신장  체중 혈액형  소속사\n",
       "0  이서진  53  173  75   A   SM\n",
       "1  정유미  42  160  55   B   쿠팡\n",
       "2  박서준  36  180  74   B  카카오\n",
       "3  최우식  32  179  68   O   SM\n",
       "4  고민시  27  163  52  AB  JYP\n",
       "5  나영석  45  169  66   B   SM\n",
       "6  심진화  44  162  65  AB  무소속"
      ]
     },
     "execution_count": 5,
     "metadata": {},
     "output_type": "execute_result"
    }
   ],
   "source": [
    "df.insert(5,'소속사',['SM','쿠팡','카카오','SM','JYP','SM','무소속'])\n",
    "df"
   ]
  },
  {
   "cell_type": "code",
   "execution_count": 6,
   "id": "2e73c044",
   "metadata": {},
   "outputs": [
    {
     "data": {
      "text/html": [
       "<div>\n",
       "<style scoped>\n",
       "    .dataframe tbody tr th:only-of-type {\n",
       "        vertical-align: middle;\n",
       "    }\n",
       "\n",
       "    .dataframe tbody tr th {\n",
       "        vertical-align: top;\n",
       "    }\n",
       "\n",
       "    .dataframe thead th {\n",
       "        text-align: right;\n",
       "    }\n",
       "</style>\n",
       "<table border=\"1\" class=\"dataframe\">\n",
       "  <thead>\n",
       "    <tr style=\"text-align: right;\">\n",
       "      <th></th>\n",
       "      <th>이름</th>\n",
       "      <th>나이</th>\n",
       "      <th>신장</th>\n",
       "      <th>체중</th>\n",
       "      <th>혈액형</th>\n",
       "      <th>소속사</th>\n",
       "    </tr>\n",
       "  </thead>\n",
       "  <tbody>\n",
       "    <tr>\n",
       "      <th>0</th>\n",
       "      <td>이서진</td>\n",
       "      <td>53</td>\n",
       "      <td>173</td>\n",
       "      <td>75</td>\n",
       "      <td>A</td>\n",
       "      <td>SM</td>\n",
       "    </tr>\n",
       "    <tr>\n",
       "      <th>2</th>\n",
       "      <td>박서준</td>\n",
       "      <td>36</td>\n",
       "      <td>180</td>\n",
       "      <td>74</td>\n",
       "      <td>B</td>\n",
       "      <td>카카오</td>\n",
       "    </tr>\n",
       "    <tr>\n",
       "      <th>3</th>\n",
       "      <td>최우식</td>\n",
       "      <td>32</td>\n",
       "      <td>179</td>\n",
       "      <td>68</td>\n",
       "      <td>O</td>\n",
       "      <td>SM</td>\n",
       "    </tr>\n",
       "  </tbody>\n",
       "</table>\n",
       "</div>"
      ],
      "text/plain": [
       "    이름  나이   신장  체중 혈액형  소속사\n",
       "0  이서진  53  173  75   A   SM\n",
       "2  박서준  36  180  74   B  카카오\n",
       "3  최우식  32  179  68   O   SM"
      ]
     },
     "execution_count": 6,
     "metadata": {},
     "output_type": "execute_result"
    }
   ],
   "source": [
    "df.query(\"신장>=170 and 나이<60\")"
   ]
  },
  {
   "cell_type": "code",
   "execution_count": 7,
   "id": "8655b7b4",
   "metadata": {},
   "outputs": [
    {
     "data": {
      "text/html": [
       "<div>\n",
       "<style scoped>\n",
       "    .dataframe tbody tr th:only-of-type {\n",
       "        vertical-align: middle;\n",
       "    }\n",
       "\n",
       "    .dataframe tbody tr th {\n",
       "        vertical-align: top;\n",
       "    }\n",
       "\n",
       "    .dataframe thead th {\n",
       "        text-align: right;\n",
       "    }\n",
       "</style>\n",
       "<table border=\"1\" class=\"dataframe\">\n",
       "  <thead>\n",
       "    <tr style=\"text-align: right;\">\n",
       "      <th></th>\n",
       "      <th>이름</th>\n",
       "      <th>나이</th>\n",
       "      <th>신장</th>\n",
       "      <th>체중</th>\n",
       "      <th>혈액형</th>\n",
       "      <th>소속사</th>\n",
       "    </tr>\n",
       "  </thead>\n",
       "  <tbody>\n",
       "    <tr>\n",
       "      <th>0</th>\n",
       "      <td>이서진</td>\n",
       "      <td>53</td>\n",
       "      <td>173</td>\n",
       "      <td>75</td>\n",
       "      <td>A</td>\n",
       "      <td>SM</td>\n",
       "    </tr>\n",
       "    <tr>\n",
       "      <th>2</th>\n",
       "      <td>박서준</td>\n",
       "      <td>36</td>\n",
       "      <td>180</td>\n",
       "      <td>74</td>\n",
       "      <td>B</td>\n",
       "      <td>카카오</td>\n",
       "    </tr>\n",
       "    <tr>\n",
       "      <th>3</th>\n",
       "      <td>최우식</td>\n",
       "      <td>32</td>\n",
       "      <td>179</td>\n",
       "      <td>68</td>\n",
       "      <td>O</td>\n",
       "      <td>SM</td>\n",
       "    </tr>\n",
       "  </tbody>\n",
       "</table>\n",
       "</div>"
      ],
      "text/plain": [
       "    이름  나이   신장  체중 혈액형  소속사\n",
       "0  이서진  53  173  75   A   SM\n",
       "2  박서준  36  180  74   B  카카오\n",
       "3  최우식  32  179  68   O   SM"
      ]
     },
     "execution_count": 7,
     "metadata": {},
     "output_type": "execute_result"
    }
   ],
   "source": [
    "df[(df['신장']>=170) & (df['나이']<60)]"
   ]
  },
  {
   "cell_type": "code",
   "execution_count": 8,
   "id": "281b387a",
   "metadata": {},
   "outputs": [
    {
     "data": {
      "text/html": [
       "<div>\n",
       "<style scoped>\n",
       "    .dataframe tbody tr th:only-of-type {\n",
       "        vertical-align: middle;\n",
       "    }\n",
       "\n",
       "    .dataframe tbody tr th {\n",
       "        vertical-align: top;\n",
       "    }\n",
       "\n",
       "    .dataframe thead th {\n",
       "        text-align: right;\n",
       "    }\n",
       "</style>\n",
       "<table border=\"1\" class=\"dataframe\">\n",
       "  <thead>\n",
       "    <tr style=\"text-align: right;\">\n",
       "      <th></th>\n",
       "      <th>이름</th>\n",
       "      <th>나이</th>\n",
       "      <th>신장</th>\n",
       "      <th>체중</th>\n",
       "      <th>혈액형</th>\n",
       "      <th>소속사</th>\n",
       "    </tr>\n",
       "  </thead>\n",
       "  <tbody>\n",
       "    <tr>\n",
       "      <th>0</th>\n",
       "      <td>이서진</td>\n",
       "      <td>53</td>\n",
       "      <td>173</td>\n",
       "      <td>75</td>\n",
       "      <td>A</td>\n",
       "      <td>SM</td>\n",
       "    </tr>\n",
       "    <tr>\n",
       "      <th>1</th>\n",
       "      <td>정유미</td>\n",
       "      <td>42</td>\n",
       "      <td>160</td>\n",
       "      <td>55</td>\n",
       "      <td>B</td>\n",
       "      <td>쿠팡</td>\n",
       "    </tr>\n",
       "    <tr>\n",
       "      <th>2</th>\n",
       "      <td>박서준</td>\n",
       "      <td>36</td>\n",
       "      <td>180</td>\n",
       "      <td>74</td>\n",
       "      <td>B</td>\n",
       "      <td>카카오</td>\n",
       "    </tr>\n",
       "    <tr>\n",
       "      <th>3</th>\n",
       "      <td>최우식</td>\n",
       "      <td>32</td>\n",
       "      <td>179</td>\n",
       "      <td>68</td>\n",
       "      <td>O</td>\n",
       "      <td>SM</td>\n",
       "    </tr>\n",
       "    <tr>\n",
       "      <th>4</th>\n",
       "      <td>고민시</td>\n",
       "      <td>27</td>\n",
       "      <td>163</td>\n",
       "      <td>52</td>\n",
       "      <td>AB</td>\n",
       "      <td>JYP</td>\n",
       "    </tr>\n",
       "    <tr>\n",
       "      <th>5</th>\n",
       "      <td>나영석</td>\n",
       "      <td>45</td>\n",
       "      <td>169</td>\n",
       "      <td>66</td>\n",
       "      <td>B</td>\n",
       "      <td>SM</td>\n",
       "    </tr>\n",
       "    <tr>\n",
       "      <th>6</th>\n",
       "      <td>심진화</td>\n",
       "      <td>44</td>\n",
       "      <td>162</td>\n",
       "      <td>65</td>\n",
       "      <td>AB</td>\n",
       "      <td>무소속</td>\n",
       "    </tr>\n",
       "  </tbody>\n",
       "</table>\n",
       "</div>"
      ],
      "text/plain": [
       "    이름  나이   신장  체중 혈액형  소속사\n",
       "0  이서진  53  173  75   A   SM\n",
       "1  정유미  42  160  55   B   쿠팡\n",
       "2  박서준  36  180  74   B  카카오\n",
       "3  최우식  32  179  68   O   SM\n",
       "4  고민시  27  163  52  AB  JYP\n",
       "5  나영석  45  169  66   B   SM\n",
       "6  심진화  44  162  65  AB  무소속"
      ]
     },
     "execution_count": 8,
     "metadata": {},
     "output_type": "execute_result"
    }
   ],
   "source": [
    "df"
   ]
  },
  {
   "cell_type": "code",
   "execution_count": 9,
   "id": "5e37b148",
   "metadata": {},
   "outputs": [],
   "source": [
    "df_backup=df.copy()\n",
    "arr=df.to_numpy()"
   ]
  },
  {
   "cell_type": "code",
   "execution_count": 10,
   "id": "2e6bb03c",
   "metadata": {},
   "outputs": [
    {
     "data": {
      "text/plain": [
       "numpy.ndarray"
      ]
     },
     "execution_count": 10,
     "metadata": {},
     "output_type": "execute_result"
    }
   ],
   "source": [
    "type(arr)"
   ]
  },
  {
   "cell_type": "code",
   "execution_count": 11,
   "id": "cfccb3c0",
   "metadata": {},
   "outputs": [
    {
     "data": {
      "text/plain": [
       "array(['A', 'B', 'B', 'O', 'AB', 'B', 'AB'], dtype=object)"
      ]
     },
     "execution_count": 11,
     "metadata": {},
     "output_type": "execute_result"
    }
   ],
   "source": [
    "blood=arr[:,4]\n",
    "blood"
   ]
  },
  {
   "cell_type": "code",
   "execution_count": 12,
   "id": "af93568b",
   "metadata": {},
   "outputs": [
    {
     "data": {
      "text/plain": [
       "array([1, 2, 3, 1], dtype=int64)"
      ]
     },
     "execution_count": 12,
     "metadata": {},
     "output_type": "execute_result"
    }
   ],
   "source": [
    "blood, bloodCnt= np.unique(blood, return_counts=True)\n",
    "bloodCnt"
   ]
  },
  {
   "cell_type": "code",
   "execution_count": 13,
   "id": "c39072b6",
   "metadata": {},
   "outputs": [
    {
     "data": {
      "text/plain": [
       "array(['A', 'AB', 'B', 'O'], dtype=object)"
      ]
     },
     "execution_count": 13,
     "metadata": {},
     "output_type": "execute_result"
    }
   ],
   "source": [
    "blood"
   ]
  },
  {
   "cell_type": "code",
   "execution_count": 14,
   "id": "d91ec87d",
   "metadata": {},
   "outputs": [
    {
     "data": {
      "text/plain": [
       "array(['A', 'AB', 'B', 'O'], dtype=object)"
      ]
     },
     "execution_count": 14,
     "metadata": {},
     "output_type": "execute_result"
    }
   ],
   "source": [
    "blood"
   ]
  },
  {
   "cell_type": "code",
   "execution_count": 15,
   "id": "166f113c",
   "metadata": {},
   "outputs": [
    {
     "data": {
      "text/plain": [
       "array([1, 2, 3, 1], dtype=int64)"
      ]
     },
     "execution_count": 15,
     "metadata": {},
     "output_type": "execute_result"
    }
   ],
   "source": [
    "bloodCnt"
   ]
  },
  {
   "cell_type": "code",
   "execution_count": 23,
   "id": "821447d4",
   "metadata": {},
   "outputs": [],
   "source": [
    "bloodZip=zip(blood,bloodCnt)"
   ]
  },
  {
   "cell_type": "code",
   "execution_count": 38,
   "id": "48b62322",
   "metadata": {},
   "outputs": [
    {
     "name": "stdout",
     "output_type": "stream",
     "text": [
      "\t  **서진이네2 출연 연예인**\n",
      "\n",
      "이  름\t나이\t신장\t체중\t혈액형\t소속사\n",
      "======\t====\t====\t====\t======\t======\n",
      "이서진\t 53\t173\t 75\t  A  \tSM\n",
      "정유미\t 42\t160\t 55\t  B  \t쿠팡\n",
      "박서준\t 36\t180\t 74\t  B  \t카카오\n",
      "최우식\t 32\t179\t 68\t  O  \tSM\n",
      "고민시\t 27\t163\t 52\t AB  \tJYP\n",
      "나영석\t 45\t169\t 66\t  B  \tSM\n",
      "심진화\t 44\t162\t 65\t AB  \t무소속\n",
      "==================================================\n",
      "평균 나이=39.86세\n",
      "평균 신장=169.43Cm\n",
      "평균 체중=65.00Kg\n",
      "\n"
     ]
    }
   ],
   "source": [
    "print(\"\\t  **서진이네2 출연 연예인**\\n\")\n",
    "print(f\"이  름\\t나이\\t신장\\t체중\\t혈액형\\t소속사\")\n",
    "print(f\"======\\t====\\t====\\t====\\t======\\t======\")\n",
    "for i,j,k,l,m,n in arr:\n",
    "    print(f\"{i}\\t{j:>3}\\t{k}\\t{l:>3}\\t{m:^5}\\t{n}\")\n",
    "    \n",
    "print(\"=\"*50)\n",
    "print(\"평균 나이={:.2f}세\".format(np.mean(arr[:,1])))\n",
    "print(\"평균 신장={:.2f}Cm\".format(np.mean(arr[:,2])))\n",
    "print(\"평균 체중={:.2f}Kg\".format(np.mean(arr[:,3])))\n",
    "print()\n",
    "for i,j in bloodZip:\n",
    "    print(f\"{i}형 : {j}명\")"
   ]
  },
  {
   "cell_type": "code",
   "execution_count": null,
   "id": "3533d204",
   "metadata": {},
   "outputs": [],
   "source": []
  }
 ],
 "metadata": {
  "kernelspec": {
   "display_name": "Python 3 (ipykernel)",
   "language": "python",
   "name": "python3"
  },
  "language_info": {
   "codemirror_mode": {
    "name": "ipython",
    "version": 3
   },
   "file_extension": ".py",
   "mimetype": "text/x-python",
   "name": "python",
   "nbconvert_exporter": "python",
   "pygments_lexer": "ipython3",
   "version": "3.11.3"
  }
 },
 "nbformat": 4,
 "nbformat_minor": 5
}
