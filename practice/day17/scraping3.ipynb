{
 "cells": [
  {
   "cell_type": "code",
   "id": "initial_id",
   "metadata": {
    "collapsed": true,
    "ExecuteTime": {
     "end_time": "2024-07-26T01:25:22.581624Z",
     "start_time": "2024-07-26T01:25:22.575567Z"
    }
   },
   "source": [
    "import numpy as np\n",
    "import pandas as pd\n",
    "import requests\n",
    "from bs4 import BeautifulSoup\n",
    "import lxml\n",
    "\n",
    "# 아래 코드 입력 후, find() 함수를 이용하여 <font> 태그 중에서 색상이 보라 purple인 태그를 추출\n",
    "txt = \"\"\"\n",
    "<!DOCTYPE html>\n",
    "<html lang=\"en\">\n",
    "<head>\n",
    "    <meta charset=\"UTF-8\">\n",
    "    <title>텍스트 정렬 및 find 연습</title>\n",
    "</head>\n",
    "<body>\n",
    "<div>\n",
    "    <div>\n",
    "        <p align=\"left\"><font color=\"blue\" size=\"20\">\n",
    "            <mark>아름다운</mark>\n",
    "            우리나라 대한민국</font></p>\n",
    "        <p align=\"center\"><font color=\"purple\" size=\"20\"><u>Beautiful</u> Republic of <b>Korea</b></font></p>\n",
    "        <p align=\"right\"><font color=\"orange\" size=\"15\">Seoul is <i>Capital</i> in Korea</font></p>\n",
    "    </div>\n",
    "</div>\n",
    "</body>\n",
    "</html>\n",
    "\"\"\"\n",
    "soup = BeautifulSoup(txt, \"html.parser\")\n",
    "# soup.find(\"font\", attrs={'color': 'purple'}).text\n",
    "soup.find(\"font\", {'color': 'purple'}).text"
   ],
   "outputs": [
    {
     "data": {
      "text/plain": [
       "'Beautiful Republic of Korea'"
      ]
     },
     "execution_count": 13,
     "metadata": {},
     "output_type": "execute_result"
    }
   ],
   "execution_count": 13
  },
  {
   "metadata": {
    "ExecuteTime": {
     "end_time": "2024-07-26T01:26:20.306228Z",
     "start_time": "2024-07-26T01:26:20.301300Z"
    }
   },
   "cell_type": "code",
   "source": "soup.find(\"font\", color=\"purple\").text",
   "id": "96834a313308845a",
   "outputs": [
    {
     "data": {
      "text/plain": [
       "'Beautiful Republic of Korea'"
      ]
     },
     "execution_count": 15,
     "metadata": {},
     "output_type": "execute_result"
    }
   ],
   "execution_count": 15
  },
  {
   "metadata": {},
   "cell_type": "code",
   "outputs": [],
   "execution_count": null,
   "source": "",
   "id": "cf5bdef41ca305a6"
  }
 ],
 "metadata": {
  "kernelspec": {
   "display_name": "Python 3",
   "language": "python",
   "name": "python3"
  },
  "language_info": {
   "codemirror_mode": {
    "name": "ipython",
    "version": 2
   },
   "file_extension": ".py",
   "mimetype": "text/x-python",
   "name": "python",
   "nbconvert_exporter": "python",
   "pygments_lexer": "ipython2",
   "version": "2.7.6"
  }
 },
 "nbformat": 4,
 "nbformat_minor": 5
}
