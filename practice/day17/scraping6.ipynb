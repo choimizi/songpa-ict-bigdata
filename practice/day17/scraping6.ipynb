{
 "cells": [
  {
   "cell_type": "code",
   "id": "initial_id",
   "metadata": {
    "collapsed": true,
    "ExecuteTime": {
     "end_time": "2024-07-26T02:11:33.133324Z",
     "start_time": "2024-07-26T02:11:32.884506Z"
    }
   },
   "source": [
    "import numpy as np\n",
    "import pandas as pd\n",
    "import requests\n",
    "from bs4 import BeautifulSoup\n",
    "import lxml"
   ],
   "outputs": [],
   "execution_count": 1
  },
  {
   "metadata": {
    "ExecuteTime": {
     "end_time": "2024-07-26T02:27:56.054636Z",
     "start_time": "2024-07-26T02:27:55.796037Z"
    }
   },
   "cell_type": "code",
   "source": [
    "# yes24 > 국내도서 > 소설/시 > 한국소설\n",
    "url = \"https://www.yes24.com/24/Category/Display/001001046001\"\n",
    "res = requests.get(url)\n",
    "soup = BeautifulSoup(res.text, \"html.parser\")\n",
    "book = soup.select(\"#category_layout > ul > li:nth-child(1) > div > div.goods_info\")\n",
    "print(book)"
   ],
   "id": "20084e2455de292a",
   "outputs": [
    {
     "name": "stdout",
     "output_type": "stream",
     "text": [
      "[<div class=\"goods_info\">\n",
      "<div class=\"goods_keynote\">\n",
      "<span class=\"iconC event\"><em class=\"txt\">이벤트</em></span>\n",
      "</div>\n",
      "<div class=\"goods_name\">\n",
      "<span class=\"gd_nameF\"></span>\n",
      "<a href=\"/Product/Goods/8759796\">모순</a>\n",
      "<span class=\"gd_nameE\">양귀자 장편소설 </span>\n",
      "<span class=\"gd_feature\">  [ 양장, 개정판 ]</span>\n",
      "<a class=\"bgYUI ico_nWin\" href=\"/Product/Goods/8759796\" target=\"_blank\"></a>\n",
      "</div>\n",
      "<div class=\"goods_pubGrp\">\n",
      "<span class=\"goods_auth\">\n",
      "<a href=\"https://www.yes24.com/Product/Search?domain=ALL&amp;query=%ec%96%91%ea%b7%80%ec%9e%90&amp;author=%ec%96%91%ea%b7%80%ec%9e%90&amp;auth_no=109194\" target=\"_blank\">양귀자</a> 저                          \r\n",
      "                            \r\n",
      "                            </span>\n",
      "<em class=\"divi\">|</em>\n",
      "<span class=\"goods_pub\">쓰다</span>\n",
      "<em class=\"divi\">|</em>\n",
      "<span class=\"goods_date\">2013년 04월</span>\n",
      "</div>\n",
      "<!--특징2-->\n",
      "<dl class=\"goods_present\">\n",
      "<dt><em class=\"bgYUI ico_present\">구매혜택</em></dt>\n",
      "<dd>\r\n",
      "\t\t\t\t\t\t해당도서 포함 국내도서 2만5천원 이상 구매 시, 양장노트(2종택1) or 유리컵 증정(각 포인트 차감)\r\n",
      "\t\t\t\t\t</dd>\n",
      "</dl>\n",
      "<div class=\"goods_price\">\n",
      "<em class=\"yes_b\">11,700</em>원\r\n",
      "                        \r\n",
      "                        <span class=\"goods_benefit\">(10% 할인)</span>\n",
      "<em class=\"bgYUI ico_point\">포인트적립</em> 650원\r\n",
      "                             \r\n",
      "                    </div>\n",
      "<div class=\"goods_rating\">\n",
      "<span class=\"gd_reviewCount\">\r\n",
      "\t\t\t\t\t\t\t\r\n",
      "\t\t\t\t\t\t\t회원리뷰(<em class=\"txC_blue\">1,015</em>건)\r\n",
      "\t\t\t\t\t\t\t\r\n",
      "\t\t\t\t\t\t</span>\n",
      "<span class=\"gd_rating\">\n",
      "<span class=\"bgYUI total_rating total_rating_10\">리뷰 총점</span><em class=\"yes_b\">9.6</em>\n",
      "<span class=\"moreRatingArea\">\n",
      "<span class=\"moreRatingBtn\"><a class=\"bgYUI\" href=\"javascript:void(0);\" onclick=\"toggleLiCont(this,$('.cCont_listArea'),event);\">정보 더 보기/감추기</a></span>\n",
      "<span class=\"moreRatingLi\">\n",
      "<span class=\"moreRatingLiRow\">\n",
      "<ul class=\"yesAlertLi\">\n",
      "<li><em class=\"bl_dot bgYUI\"> </em>종이책 리뷰 (369건)</li>\n",
      "<li><em class=\"bl_dot bgYUI\"> </em>eBook 리뷰 (0건)</li>\n",
      "<li><em class=\"bl_dot bgYUI\"> </em>종이책 한줄평 (646건)</li>\n",
      "<li><em class=\"bl_dot bgYUI\"> </em>eBook 한줄평 (0건)</li>\n",
      "</ul>\n",
      "</span>\n",
      "</span>\n",
      "</span>\n",
      "</span>\n",
      "</div>\n",
      "<div class=\"goods_deli\" name=\"delvTextArea\"></div>\n",
      "<!--전자책/오디오북/디지털상품 안내 시작-->\n",
      "<!--전자책/오디오북/디지털상품 안내 종료-->\n",
      "<!--분철서비스 시작-->\n",
      "<!--분철서비스 종료-->\n",
      "<!--알림신청 시작-->\n",
      "<!--알림신청 종료-->\n",
      "<!--구매시참고문구 시작-->\n",
      "<!--구매시참고문구 종료-->\n",
      "<div class=\"goods_read\">\r\n",
      "\t\t\t            초판이 나온 지 벌써 15년이 흘렀지만 이 소설 『모순』은 아주 특별한 길을 걷고 있다. 그때 20대였던 독자들은 지금 결혼을 하고 30대가 되어서도 가끔씩 『모순』을 꺼내 다시 읽는다고 했다. 다시 읽을 때마다 전에는 몰랐던 소설 속 행간의 의미를 깨우치거나 세월의 힘이 알려준 다른 해석에 놀라면서 “내 인생의 가...\r\n",
      "\t\t\t        </div>\n",
      "<div class=\"goods_eve\">\n",
      "<ul class=\"yesAlertLi\">\n",
      "<li><em class=\"bgYUI bl_dot\"></em><em class=\"txC_blue\">[사은품]</em> <a href=\"https://event.yes24.com/template?eventNo=248842\">2024 사랑 받은 문학, 사랑 받을 문학 : 상반기 소설/시/희곡 결산전 - 양장노트, 유리컵, 책갈피 증정</a>\n",
      "<em class=\"txC_gray\">(24.06.07 ~ 24.08.29)</em>\n",
      "<a href=\"https://event.yes24.com/template?eventNo=248842\" target=\"_blank\"><em class=\"bgYUI ico_nWin\">새창 이동</em></a></li>\n",
      "</ul>\n",
      "</div>\n",
      "</div>]\n"
     ]
    }
   ],
   "execution_count": 18
  },
  {
   "metadata": {
    "ExecuteTime": {
     "end_time": "2024-07-26T02:36:44.293362Z",
     "start_time": "2024-07-26T02:36:44.269504Z"
    }
   },
   "cell_type": "code",
   "source": [
    "# 도서명, 저자, 출판사, 출간일, 가격\n",
    "# book_name = soup.find(\"div\", {\"class\": \"goods_name\"}).find(\"a\").text\n",
    "book_name = soup.find(\"div\", class_=\"goods_name\").find(\"a\").text\n",
    "author = soup.find(\"span\", class_=\"goods_auth\").find(\"a\").text\n",
    "publisher = soup.find(\"span\", class_=\"goods_pub\").text\n",
    "publication_date = soup.find(\"span\", class_=\"goods_date\").text\n",
    "price = soup.find(\"em\", class_=\"yes_b\").text\n",
    "print(f\"도서명: {book_name}\")\n",
    "print(f\"저자: {author}\")\n",
    "print(f\"출판사: {publisher}\")\n",
    "print(f\"출판일: {publication_date}\")\n",
    "print(f\"가격: {price}\")"
   ],
   "id": "d22f111892e9ceb2",
   "outputs": [
    {
     "name": "stdout",
     "output_type": "stream",
     "text": [
      "도서명: 모순\n",
      "저자: 양귀자\n",
      "출판사: 쓰다\n",
      "출판일: 2013년 04월\n",
      "가격: 11,700\n"
     ]
    }
   ],
   "execution_count": 29
  },
  {
   "metadata": {
    "ExecuteTime": {
     "end_time": "2024-07-26T02:36:45.110002Z",
     "start_time": "2024-07-26T02:36:45.079695Z"
    }
   },
   "cell_type": "code",
   "source": [
    "# 도서명, 저자, 출판사, 출간일, 가격\n",
    "book_name = soup.select_one(\"div.goods_name > a\").text\n",
    "author = soup.select_one(\"span.goods_auth > a \").text\n",
    "publisher = soup.select_one(\"span.goods_pub\").text\n",
    "publication_date = soup.select_one(\"span.goods_date\").text\n",
    "price = soup.select_one(\"em.yes_b\").text\n",
    "print(f\"도서명: {book_name}\")\n",
    "print(f\"저자: {author}\")\n",
    "print(f\"출판사: {publisher}\")\n",
    "print(f\"출판일: {publication_date}\")\n",
    "print(f\"가격: {price}\")"
   ],
   "id": "d00dce25a4a932eb",
   "outputs": [
    {
     "name": "stdout",
     "output_type": "stream",
     "text": [
      "도서명: 모순\n",
      "저자: 양귀자\n",
      "출판사: 쓰다\n",
      "출판일: 2013년 04월\n",
      "가격: 11,700\n"
     ]
    }
   ],
   "execution_count": 30
  },
  {
   "metadata": {},
   "cell_type": "code",
   "outputs": [],
   "execution_count": null,
   "source": "",
   "id": "2a3a6a61c2a67a66"
  }
 ],
 "metadata": {
  "kernelspec": {
   "display_name": "Python 3",
   "language": "python",
   "name": "python3"
  },
  "language_info": {
   "codemirror_mode": {
    "name": "ipython",
    "version": 2
   },
   "file_extension": ".py",
   "mimetype": "text/x-python",
   "name": "python",
   "nbconvert_exporter": "python",
   "pygments_lexer": "ipython2",
   "version": "2.7.6"
  }
 },
 "nbformat": 4,
 "nbformat_minor": 5
}
