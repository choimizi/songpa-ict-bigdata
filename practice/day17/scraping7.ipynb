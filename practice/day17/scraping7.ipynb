{
 "cells": [
  {
   "cell_type": "code",
   "id": "initial_id",
   "metadata": {
    "collapsed": true,
    "ExecuteTime": {
     "end_time": "2024-07-26T02:51:29.291540Z",
     "start_time": "2024-07-26T02:51:29.020764Z"
    }
   },
   "source": [
    "import numpy as np\n",
    "import pandas as pd\n",
    "import requests\n",
    "from bs4 import BeautifulSoup\n",
    "import lxml"
   ],
   "outputs": [],
   "execution_count": 2
  },
  {
   "metadata": {
    "ExecuteTime": {
     "end_time": "2024-07-26T03:23:21.947162Z",
     "start_time": "2024-07-26T03:23:21.290552Z"
    }
   },
   "cell_type": "code",
   "source": [
    "# 한국 최초의 여류 비행사로 영화 '청연'의 주인공 이름 찾기\n",
    "url = \"https://search.naver.com/search.naver?sm=tab_hty.top&where=nexearch&ssc=tab.nx.all&query=%EC%98%81%ED%99%94+%EC%B2%AD%EC%97%B0+%EC%B6%9C%EC%97%B0%EC%A7%84&oquery=%EC%98%81%ED%99%94+%EC%B2%AD%EC%97%B0+%EC%B6%9C%EC%97%B0%EC%A7%84&tqi=iqKgasqptbNssnYDFPKssssst5o-012004\"\n",
    "res = requests.get(url)\n",
    "soup = BeautifulSoup(res.text, \"html.parser\")\n",
    "name = soup.select_one(\"#main_pack > div.sc_new.cs_common_module.case_empasis.color_13._au_movie_content_wrap > div.cm_content_wrap._actor_wrap > div > div.sec_scroll_cast_member.img_vertical_87_98 > div:nth-child(2) > div > div > div > ul > li:nth-child(1) > a > div > div.title_box > span > span\")\n",
    "print(\"한국 최초의 여류 비행사로 영화 청연의 주인공 이름은 : {}\".format(name.text.split()[0]))"
   ],
   "id": "20084e2455de292a",
   "outputs": [
    {
     "name": "stdout",
     "output_type": "stream",
     "text": [
      "한국 최초의 여류 비행사로 영화 청연의 주인공 이름은 : 박경원\n"
     ]
    }
   ],
   "execution_count": 35
  },
  {
   "metadata": {},
   "cell_type": "markdown",
   "source": "",
   "id": "57ca6b0e9f946255"
  },
  {
   "metadata": {
    "ExecuteTime": {
     "end_time": "2024-07-26T03:14:53.529911Z",
     "start_time": "2024-07-26T03:14:53.182590Z"
    }
   },
   "cell_type": "code",
   "source": [
    "# 대한민국 최초로 베니스 영화제 여우 주연상을 받은 여배우의 이름과 영화제목은?\n",
    "url = \"https://namu.wiki/w/%EB%B2%A0%EB%8B%88%EC%8A%A4%20%EA%B5%AD%EC%A0%9C%20%EC%98%81%ED%99%94%EC%A0%9C\"\n",
    "res = requests.get(url)\n",
    "soup = BeautifulSoup(res.text, \"html.parser\")\n",
    "movie_title = soup.select_one(\n",
    "    \"#app > div > div > div > div > div > div > div:nth-child(1) > div:nth-child(2) > div > div > div:nth-child(36) > div:nth-child(2) > div > div > table > tbody > tr:nth-child(3) > td:nth-child(2)\")\n",
    "actress = soup.select_one(\n",
    "    \"#app > div > div > div > div > div > div > div:nth-child(1) > div:nth-child(2) > div > div > div:nth-child(36) > div:nth-child(2) > div > div > table > tbody > tr:nth-child(3) > td > div > strong > a\")\n",
    "print(\"여배우 : {}\".format(actress.text))\n",
    "print(\"영화 제목 : {}\".format(movie_title.text))"
   ],
   "id": "2a3a6a61c2a67a66",
   "outputs": [
    {
     "name": "stdout",
     "output_type": "stream",
     "text": [
      "여배우 : 강수연\n",
      "영화 제목 : 씨받이\n"
     ]
    }
   ],
   "execution_count": 30
  },
  {
   "metadata": {
    "ExecuteTime": {
     "end_time": "2024-07-26T03:20:54.492043Z",
     "start_time": "2024-07-26T03:20:53.777075Z"
    }
   },
   "cell_type": "code",
   "source": [
    "# 한국 스타벅스 1호점의 지점명과 오픈년도는?\n",
    "url = \"https://namu.wiki/w/%EC%8A%A4%ED%83%80%EB%B2%85%EC%8A%A4/%EB%8C%80%ED%95%9C%EB%AF%BC%EA%B5%AD\"\n",
    "res = requests.get(url)\n",
    "soup = BeautifulSoup(res.text, \"html.parser\")\n",
    "store_name = soup.select_one(\n",
    "    \"#app > div > div > div > div > div > div > div:nth-child(1) > div:nth-child(2) > div > div > div:nth-child(13) > div:nth-child(2) > div:nth-child(2) > div > div > a:nth-child(5)\")\n",
    "open_year = soup.select_one(\"#app > div > div > div > div > div > div > div:nth-child(1) > div:nth-child(2) > div > div > div:nth-child(13) > div:nth-child(2) > div:nth-child(2) > div > div > a:nth-child(2)\")\n",
    "open_date = soup.select_one(\"#app > div > div > div > div > div > div > div:nth-child(1) > div:nth-child(2) > div > div > div:nth-child(13) > div:nth-child(2) > div:nth-child(2) > div > div > a:nth-child(3)\")\n",
    "print(\"지점명 : {}\".format(store_name.text))\n",
    "print(\"오픈년도 : {} {}\".format(open_year.text, open_date.text))"
   ],
   "id": "6a985edd6a8b6df3",
   "outputs": [
    {
     "name": "stdout",
     "output_type": "stream",
     "text": [
      "지점명 : 이대R점\n",
      "오픈년도 : 1999년 7월 27일\n"
     ]
    }
   ],
   "execution_count": 34
  },
  {
   "metadata": {},
   "cell_type": "code",
   "outputs": [],
   "execution_count": null,
   "source": "",
   "id": "5e8eecc47a44cd53"
  }
 ],
 "metadata": {
  "kernelspec": {
   "display_name": "Python 3",
   "language": "python",
   "name": "python3"
  },
  "language_info": {
   "codemirror_mode": {
    "name": "ipython",
    "version": 2
   },
   "file_extension": ".py",
   "mimetype": "text/x-python",
   "name": "python",
   "nbconvert_exporter": "python",
   "pygments_lexer": "ipython2",
   "version": "2.7.6"
  }
 },
 "nbformat": 4,
 "nbformat_minor": 5
}
