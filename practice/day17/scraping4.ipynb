{
 "cells": [
  {
   "cell_type": "code",
   "id": "initial_id",
   "metadata": {
    "collapsed": true,
    "ExecuteTime": {
     "end_time": "2024-07-26T01:48:51.774648Z",
     "start_time": "2024-07-26T01:48:51.525388Z"
    }
   },
   "source": [
    "import numpy as np\n",
    "import pandas as pd\n",
    "import requests\n",
    "from bs4 import BeautifulSoup\n",
    "import lxml\n",
    "\n",
    "# 아래 코드 입력 후, find() 함수를 이용하여 <font> 태그 중에서 색상이 보라 purple인 태그를 추출\n",
    "txt = \"\"\"\n",
    "<!DOCTYPE html>\n",
    "<html lang=\"en\">\n",
    "<head>\n",
    "    <meta charset=\"UTF-8\">\n",
    "    <title>텍스트 정렬 및 find 연습</title>\n",
    "</head>\n",
    "<body>\n",
    "<div>\n",
    "    <div>\n",
    "        <dl>\n",
    "            <dt> 송파 빅데이터 분석 전문가\n",
    "                <ol>\n",
    "                    <li>여러분의 힘찬 건승을 응원합니다.</li>\n",
    "                    <li>자 이제 멀리 날아서 도약합시다!</li>\n",
    "                </ol>\n",
    "            </dt>\n",
    "        </dl>\n",
    "    </div>\n",
    "</div>\n",
    "</body>\n",
    "</html>\n",
    "\"\"\"\n",
    "soup = BeautifulSoup(txt, \"html.parser\")\n",
    "soup.find_all(\"li\")"
   ],
   "outputs": [
    {
     "data": {
      "text/plain": [
       "[<li>여러분의 힘찬 건승을 응원합니다.</li>, <li>자 이제 멀리 날아서 도약합시다!</li>]"
      ]
     },
     "execution_count": 1,
     "metadata": {},
     "output_type": "execute_result"
    }
   ],
   "execution_count": 1
  },
  {
   "metadata": {
    "ExecuteTime": {
     "end_time": "2024-07-26T01:50:16.172859Z",
     "start_time": "2024-07-26T01:50:16.169590Z"
    }
   },
   "cell_type": "code",
   "source": [
    "for i in soup.find_all(\"li\"):\n",
    "    print(i.get_text(strip=True))"
   ],
   "id": "96834a313308845a",
   "outputs": [
    {
     "name": "stdout",
     "output_type": "stream",
     "text": [
      "여러분의 힘찬 건승을 응원합니다.\n",
      "자 이제 멀리 날아서 도약합시다!\n"
     ]
    }
   ],
   "execution_count": 2
  },
  {
   "metadata": {},
   "cell_type": "code",
   "outputs": [],
   "execution_count": null,
   "source": "",
   "id": "cf5bdef41ca305a6"
  }
 ],
 "metadata": {
  "kernelspec": {
   "display_name": "Python 3",
   "language": "python",
   "name": "python3"
  },
  "language_info": {
   "codemirror_mode": {
    "name": "ipython",
    "version": 2
   },
   "file_extension": ".py",
   "mimetype": "text/x-python",
   "name": "python",
   "nbconvert_exporter": "python",
   "pygments_lexer": "ipython2",
   "version": "2.7.6"
  }
 },
 "nbformat": 4,
 "nbformat_minor": 5
}
