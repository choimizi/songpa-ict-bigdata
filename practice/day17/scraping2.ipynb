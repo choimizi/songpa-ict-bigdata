{
 "cells": [
  {
   "cell_type": "code",
   "id": "initial_id",
   "metadata": {
    "collapsed": true,
    "ExecuteTime": {
     "end_time": "2024-07-26T01:11:13.743873Z",
     "start_time": "2024-07-26T01:11:13.736202Z"
    }
   },
   "source": [
    "import numpy as np\n",
    "import pandas as pd\n",
    "import requests\n",
    "from bs4 import BeautifulSoup\n",
    "import lxml\n",
    "\n",
    "txt= \"\"\"\n",
    "<!DOCTYPE html>\n",
    "<html lang=\"en\">\n",
    "<head>\n",
    "    <meta charset=\"UTF-8\">\n",
    "    <title>텍스트 정렬 및 find 연습</title>\n",
    "</head>\n",
    "<body>\n",
    "<div>\n",
    "    <table border=1 width=\"40%\" height=\"250\" align=\"center\">\n",
    "        <tr align=\"center\">\n",
    "            <td>Python</td>\n",
    "            <td>Java</td>\n",
    "            <td></td>\n",
    "            <td>R</td>\n",
    "        </tr>\n",
    "    </table>\n",
    "</div>\n",
    "</body>\n",
    "</html>\n",
    "\"\"\"\n",
    "soup = BeautifulSoup(txt, \"html.parser\")\n",
    "soup.find_all(\"td\")"
   ],
   "outputs": [
    {
     "data": {
      "text/plain": [
       "[<td>Python</td>, <td>Java</td>, <td></td>, <td>R</td>]"
      ]
     },
     "execution_count": 3,
     "metadata": {},
     "output_type": "execute_result"
    }
   ],
   "execution_count": 3
  },
  {
   "metadata": {
    "ExecuteTime": {
     "end_time": "2024-07-26T01:11:59.121225Z",
     "start_time": "2024-07-26T01:11:59.118179Z"
    }
   },
   "cell_type": "code",
   "source": [
    "for i in soup.find_all(\"td\"):\n",
    "    print(i.get_text(strip=True))"
   ],
   "id": "96834a313308845a",
   "outputs": [
    {
     "name": "stdout",
     "output_type": "stream",
     "text": [
      "Python\n",
      "Java\n",
      "\n",
      "R\n"
     ]
    }
   ],
   "execution_count": 7
  },
  {
   "metadata": {},
   "cell_type": "code",
   "outputs": [],
   "execution_count": null,
   "source": "",
   "id": "cf5bdef41ca305a6"
  }
 ],
 "metadata": {
  "kernelspec": {
   "display_name": "Python 3",
   "language": "python",
   "name": "python3"
  },
  "language_info": {
   "codemirror_mode": {
    "name": "ipython",
    "version": 2
   },
   "file_extension": ".py",
   "mimetype": "text/x-python",
   "name": "python",
   "nbconvert_exporter": "python",
   "pygments_lexer": "ipython2",
   "version": "2.7.6"
  }
 },
 "nbformat": 4,
 "nbformat_minor": 5
}
