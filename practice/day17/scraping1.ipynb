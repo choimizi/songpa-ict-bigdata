{
 "cells": [
  {
   "cell_type": "code",
   "id": "initial_id",
   "metadata": {
    "collapsed": true,
    "ExecuteTime": {
     "end_time": "2024-07-26T00:45:49.406142Z",
     "start_time": "2024-07-26T00:45:49.401160Z"
    }
   },
   "source": [
    "import numpy as np\n",
    "import pandas as pd\n",
    "import requests\n",
    "from bs4 import BeautifulSoup\n",
    "import lxml\n",
    "\n",
    "txt= \"\"\"\n",
    "<!DOCTYPE html>\n",
    "<html lang=\"en\">\n",
    "<head>\n",
    "    <meta charset=\"UTF-8\">\n",
    "    <title>텍스트 정렬 및 find 연습</title>\n",
    "</head>\n",
    "<body>\n",
    "<div>\n",
    "    <p align=\"center\">Python Programming</p>\n",
    "    <p align=\"right\">Java Programming</p>\n",
    "    <p align=\"left\">R Programming</p>\n",
    "</div>\n",
    "</body>\n",
    "</html>\n",
    "\"\"\"\n",
    "soup = BeautifulSoup(txt, \"html.parser\")\n",
    "soup.find(\"p\")"
   ],
   "outputs": [
    {
     "data": {
      "text/plain": [
       "<p align=\"center\">Python Programming</p>"
      ]
     },
     "execution_count": 2,
     "metadata": {},
     "output_type": "execute_result"
    }
   ],
   "execution_count": 2
  },
  {
   "metadata": {
    "ExecuteTime": {
     "end_time": "2024-07-26T00:49:03.560326Z",
     "start_time": "2024-07-26T00:49:03.556801Z"
    }
   },
   "cell_type": "code",
   "source": "soup.find_all(\"p\")",
   "id": "702584b310ecb4ec",
   "outputs": [
    {
     "data": {
      "text/plain": [
       "[<p align=\"center\">Python Programming</p>,\n",
       " <p align=\"right\">Java Programming</p>,\n",
       " <p align=\"left\">R Programming</p>]"
      ]
     },
     "execution_count": 3,
     "metadata": {},
     "output_type": "execute_result"
    }
   ],
   "execution_count": 3
  },
  {
   "metadata": {
    "ExecuteTime": {
     "end_time": "2024-07-26T01:08:08.136754Z",
     "start_time": "2024-07-26T01:08:08.131843Z"
    }
   },
   "cell_type": "code",
   "source": [
    "for i in soup.find_all(\"p\"):\n",
    "    print(i.get_text(strip=True))"
   ],
   "id": "d8a6f0b5b5e95180",
   "outputs": [
    {
     "name": "stdout",
     "output_type": "stream",
     "text": [
      "Python Programming\n",
      "Java Programming\n",
      "R Programming\n"
     ]
    }
   ],
   "execution_count": 8
  },
  {
   "metadata": {},
   "cell_type": "code",
   "outputs": [],
   "execution_count": null,
   "source": "",
   "id": "f82963037c92b846"
  }
 ],
 "metadata": {
  "kernelspec": {
   "display_name": "Python 3",
   "language": "python",
   "name": "python3"
  },
  "language_info": {
   "codemirror_mode": {
    "name": "ipython",
    "version": 2
   },
   "file_extension": ".py",
   "mimetype": "text/x-python",
   "name": "python",
   "nbconvert_exporter": "python",
   "pygments_lexer": "ipython2",
   "version": "2.7.6"
  }
 },
 "nbformat": 4,
 "nbformat_minor": 5
}
