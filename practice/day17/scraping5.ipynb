{
 "cells": [
  {
   "cell_type": "code",
   "id": "initial_id",
   "metadata": {
    "collapsed": true,
    "ExecuteTime": {
     "end_time": "2024-07-26T01:51:24.791028Z",
     "start_time": "2024-07-26T01:51:24.493639Z"
    }
   },
   "source": [
    "import numpy as np\n",
    "import pandas as pd\n",
    "import requests\n",
    "from bs4 import BeautifulSoup\n",
    "import lxml\n",
    "\n",
    "url = \"https://news.nate.com/weather\"\n",
    "res = requests.get(url)\n",
    "res.raise_for_status()\n",
    "print(\"웹 스크래핑 성공적 ^^!\")"
   ],
   "outputs": [
    {
     "name": "stdout",
     "output_type": "stream",
     "text": [
      "웹 스크래핑 성공적 ^^!\n"
     ]
    }
   ],
   "execution_count": 1
  },
  {
   "metadata": {
    "ExecuteTime": {
     "end_time": "2024-07-26T02:06:28.253986Z",
     "start_time": "2024-07-26T02:06:28.156711Z"
    }
   },
   "cell_type": "code",
   "source": [
    "# 네이트 닷컴에서 속초날씨 구하기\n",
    "url = \"https://news.nate.com/weather?areaCode=11D20401\"\n",
    "res = requests.get(url)\n",
    "soup = BeautifulSoup(res.text, \"html.parser\")\n",
    "temperature = soup.select(\n",
    "    \"#contentsWraper > div.weather_main_today_wrap > div.weather_today > div.today_wrap > div > div.right_today > div.temperature\")\n",
    "print(temperature)\n"
   ],
   "id": "20084e2455de292a",
   "outputs": [
    {
     "name": "stdout",
     "output_type": "stream",
     "text": [
      "[<div class=\"temperature\">\n",
      "<p class=\"celsius\">28<span class=\"hide\">℃</span></p><!-- minus일경우 클래스 추가 -->\n",
      "<p class=\"min_max\">\n",
      "<span class=\"maximum\">최고 32℃</span>\n",
      "<span class=\"minimum\">최저 25℃</span>\n",
      "</p>\n",
      "</div>]\n"
     ]
    }
   ],
   "execution_count": 13
  },
  {
   "metadata": {
    "ExecuteTime": {
     "end_time": "2024-07-26T01:59:20.541023Z",
     "start_time": "2024-07-26T01:59:20.536478Z"
    }
   },
   "cell_type": "code",
   "source": [
    "# 오늘의 기온과 최고 최저 온도\n",
    "today_temp = soup.find(\"p\", class_=\"celsius\").text\n",
    "today_min_max = soup.find(\"p\", class_=\"min_max\").text\n",
    "print(f\"오늘의 기온 {today_temp}\")\n",
    "print(today_min_max)"
   ],
   "id": "d22f111892e9ceb2",
   "outputs": [
    {
     "name": "stdout",
     "output_type": "stream",
     "text": [
      "오늘의 기온 28℃\n",
      "\n",
      "최고 32℃\n",
      "최저 25℃\n",
      "\n"
     ]
    }
   ],
   "execution_count": 12
  },
  {
   "metadata": {},
   "cell_type": "code",
   "outputs": [],
   "execution_count": null,
   "source": "",
   "id": "d00dce25a4a932eb"
  }
 ],
 "metadata": {
  "kernelspec": {
   "display_name": "Python 3",
   "language": "python",
   "name": "python3"
  },
  "language_info": {
   "codemirror_mode": {
    "name": "ipython",
    "version": 2
   },
   "file_extension": ".py",
   "mimetype": "text/x-python",
   "name": "python",
   "nbconvert_exporter": "python",
   "pygments_lexer": "ipython2",
   "version": "2.7.6"
  }
 },
 "nbformat": 4,
 "nbformat_minor": 5
}
