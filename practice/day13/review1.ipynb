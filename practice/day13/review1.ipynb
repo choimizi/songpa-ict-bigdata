{
 "cells": [
  {
   "cell_type": "code",
   "id": "initial_id",
   "metadata": {
    "collapsed": true,
    "ExecuteTime": {
     "end_time": "2024-07-22T01:26:52.746600Z",
     "start_time": "2024-07-22T01:26:52.737768Z"
    }
   },
   "source": [
    "import numpy as np\n",
    "import pandas as pd\n",
    "\n",
    "# 1. 데이터 프레임 구성\n",
    "library_users = {'sex': ['남', '남', '남', '여', '남', '여', '남', '여', '여', '남'],\n",
    "                 'age': [23, 15, 42, 16, 17, 18, 25, 36, 50, 53],\n",
    "                 'job': ['대학생', '중학생', '일반', '중학생', '고등학생', '고등학생', '일반', '일반', '일반', '일반'],\n",
    "                 'rent_qty': [1, 1, 1, 2, 1, 1, 3, 3, 2, 3]}\n",
    "df = pd.DataFrame(library_users)\n",
    "df"
   ],
   "outputs": [
    {
     "data": {
      "text/plain": [
       "  sex  age   job  rent_qty\n",
       "0   남   23   대학생         1\n",
       "1   남   15   중학생         1\n",
       "2   남   42    일반         1\n",
       "3   여   16   중학생         2\n",
       "4   남   17  고등학생         1\n",
       "5   여   18  고등학생         1\n",
       "6   남   25    일반         3\n",
       "7   여   36    일반         3\n",
       "8   여   50    일반         2\n",
       "9   남   53    일반         3"
      ],
      "text/html": [
       "<div>\n",
       "<style scoped>\n",
       "    .dataframe tbody tr th:only-of-type {\n",
       "        vertical-align: middle;\n",
       "    }\n",
       "\n",
       "    .dataframe tbody tr th {\n",
       "        vertical-align: top;\n",
       "    }\n",
       "\n",
       "    .dataframe thead th {\n",
       "        text-align: right;\n",
       "    }\n",
       "</style>\n",
       "<table border=\"1\" class=\"dataframe\">\n",
       "  <thead>\n",
       "    <tr style=\"text-align: right;\">\n",
       "      <th></th>\n",
       "      <th>sex</th>\n",
       "      <th>age</th>\n",
       "      <th>job</th>\n",
       "      <th>rent_qty</th>\n",
       "    </tr>\n",
       "  </thead>\n",
       "  <tbody>\n",
       "    <tr>\n",
       "      <th>0</th>\n",
       "      <td>남</td>\n",
       "      <td>23</td>\n",
       "      <td>대학생</td>\n",
       "      <td>1</td>\n",
       "    </tr>\n",
       "    <tr>\n",
       "      <th>1</th>\n",
       "      <td>남</td>\n",
       "      <td>15</td>\n",
       "      <td>중학생</td>\n",
       "      <td>1</td>\n",
       "    </tr>\n",
       "    <tr>\n",
       "      <th>2</th>\n",
       "      <td>남</td>\n",
       "      <td>42</td>\n",
       "      <td>일반</td>\n",
       "      <td>1</td>\n",
       "    </tr>\n",
       "    <tr>\n",
       "      <th>3</th>\n",
       "      <td>여</td>\n",
       "      <td>16</td>\n",
       "      <td>중학생</td>\n",
       "      <td>2</td>\n",
       "    </tr>\n",
       "    <tr>\n",
       "      <th>4</th>\n",
       "      <td>남</td>\n",
       "      <td>17</td>\n",
       "      <td>고등학생</td>\n",
       "      <td>1</td>\n",
       "    </tr>\n",
       "    <tr>\n",
       "      <th>5</th>\n",
       "      <td>여</td>\n",
       "      <td>18</td>\n",
       "      <td>고등학생</td>\n",
       "      <td>1</td>\n",
       "    </tr>\n",
       "    <tr>\n",
       "      <th>6</th>\n",
       "      <td>남</td>\n",
       "      <td>25</td>\n",
       "      <td>일반</td>\n",
       "      <td>3</td>\n",
       "    </tr>\n",
       "    <tr>\n",
       "      <th>7</th>\n",
       "      <td>여</td>\n",
       "      <td>36</td>\n",
       "      <td>일반</td>\n",
       "      <td>3</td>\n",
       "    </tr>\n",
       "    <tr>\n",
       "      <th>8</th>\n",
       "      <td>여</td>\n",
       "      <td>50</td>\n",
       "      <td>일반</td>\n",
       "      <td>2</td>\n",
       "    </tr>\n",
       "    <tr>\n",
       "      <th>9</th>\n",
       "      <td>남</td>\n",
       "      <td>53</td>\n",
       "      <td>일반</td>\n",
       "      <td>3</td>\n",
       "    </tr>\n",
       "  </tbody>\n",
       "</table>\n",
       "</div>"
      ]
     },
     "execution_count": 63,
     "metadata": {},
     "output_type": "execute_result"
    }
   ],
   "execution_count": 63
  },
  {
   "metadata": {
    "ExecuteTime": {
     "end_time": "2024-07-22T01:27:42.307691Z",
     "start_time": "2024-07-22T01:27:42.299336Z"
    }
   },
   "cell_type": "code",
   "source": [
    "# 2. 인덱스 10에 [여, 50, 일반, 1] 에 대한 데이터를 삽입\n",
    "# 풀이1\n",
    "df.loc[10] = ['여', 50, '일반', 1]\n",
    "print(df)\n",
    "# 풀이2\n",
    "# df_new = pd.DataFrame({'sex': ['여'], 'age': [50], 'job': ['일반'], 'rent_qty': [1]})\n",
    "# pd.concat([df, df_new])"
   ],
   "id": "b61af829fccc83b",
   "outputs": [
    {
     "name": "stdout",
     "output_type": "stream",
     "text": [
      "   sex  age   job  rent_qty\n",
      "0    남   23   대학생         1\n",
      "1    남   15   중학생         1\n",
      "2    남   42    일반         1\n",
      "3    여   16   중학생         2\n",
      "4    남   17  고등학생         1\n",
      "5    여   18  고등학생         1\n",
      "6    남   25    일반         3\n",
      "7    여   36    일반         3\n",
      "8    여   50    일반         2\n",
      "9    남   53    일반         3\n",
      "10   여   50    일반         1\n"
     ]
    }
   ],
   "execution_count": 64
  },
  {
   "metadata": {
    "ExecuteTime": {
     "end_time": "2024-07-22T01:28:04.393060Z",
     "start_time": "2024-07-22T01:28:04.387587Z"
    }
   },
   "cell_type": "code",
   "source": [
    "# 3. 열이름 변경하기 \n",
    "df.rename(columns={'sex': '성별', 'age': '나이', 'job': '직업', 'rent_qty': '대출권수'}, inplace=True)\n",
    "print(df)"
   ],
   "id": "a3b3a74ce1f039df",
   "outputs": [
    {
     "name": "stdout",
     "output_type": "stream",
     "text": [
      "   성별  나이    직업  대출권수\n",
      "0   남  23   대학생     1\n",
      "1   남  15   중학생     1\n",
      "2   남  42    일반     1\n",
      "3   여  16   중학생     2\n",
      "4   남  17  고등학생     1\n",
      "5   여  18  고등학생     1\n",
      "6   남  25    일반     3\n",
      "7   여  36    일반     3\n",
      "8   여  50    일반     2\n",
      "9   남  53    일반     3\n",
      "10  여  50    일반     1\n"
     ]
    }
   ],
   "execution_count": 66
  },
  {
   "metadata": {
    "ExecuteTime": {
     "end_time": "2024-07-22T01:34:57.624879Z",
     "start_time": "2024-07-22T01:34:57.620458Z"
    }
   },
   "cell_type": "code",
   "source": [
    "# 4. 도서관 이용자 나이 평균\n",
    "print(np.round(np.mean(df[['나이']]),2), '세')"
   ],
   "id": "dd1b0c7409610c13",
   "outputs": [
    {
     "name": "stdout",
     "output_type": "stream",
     "text": [
      "31.36 세\n"
     ]
    }
   ],
   "execution_count": 72
  },
  {
   "metadata": {
    "ExecuteTime": {
     "end_time": "2024-07-22T01:45:36.446067Z",
     "start_time": "2024-07-22T01:45:36.441289Z"
    }
   },
   "cell_type": "code",
   "source": [
    "# 5. 중, 고등, 대학생, 일반인 이용자 인원수를 구하시오.\n",
    "# 풀이1(내꺼)\n",
    "# job_count = df['직업'].value_counts()\n",
    "# print(job_count)\n",
    "# for i in range(len(job_count)):\n",
    "#     print(f\"{job_count.index[i]} 인원수 : {job_count.iloc[i]}명\")"
   ],
   "id": "1af39489d8527b76",
   "outputs": [
    {
     "name": "stdout",
     "output_type": "stream",
     "text": [
      "직업\n",
      "일반      6\n",
      "중학생     2\n",
      "고등학생    2\n",
      "대학생     1\n",
      "Name: count, dtype: int64\n"
     ]
    }
   ],
   "execution_count": 82
  },
  {
   "metadata": {
    "ExecuteTime": {
     "end_time": "2024-07-22T01:45:13.675411Z",
     "start_time": "2024-07-22T01:45:13.667591Z"
    }
   },
   "cell_type": "code",
   "source": [
    "# 풀이2(강사님)\n",
    "arr = np.array(df)\n",
    "# arr = df.to_numpy()\n",
    "mCnt = 0\n",
    "hCnt = 0\n",
    "uCnt = 0\n",
    "gCnt = 0\n",
    "\n",
    "for i, j, k, l in arr:\n",
    "    if k == '중학생':\n",
    "        mCnt += 1\n",
    "    elif k == '고등학생':\n",
    "        hCnt += 1\n",
    "    elif k == '대학생':\n",
    "        uCnt += 1\n",
    "    elif k == '일반':\n",
    "        gCnt += 1\n",
    "print(\"=\" * 30)\n",
    "print(\"중학생 인원수 : {}명\".format(mCnt))\n",
    "print(\"고등학생 인원수 : {}명\".format(hCnt))\n",
    "print(\"대학생 인원수 : {}명\".format(uCnt))\n",
    "print(\"일반 인원수 : {}명\".format(gCnt))\n",
    "        "
   ],
   "id": "9e8162609ddc6942",
   "outputs": [
    {
     "name": "stdout",
     "output_type": "stream",
     "text": [
      "==============================\n",
      "중학생 인원수 : 2명\n",
      "고등학생 인원수 : 2명\n",
      "대학생 인원수 : 1명\n",
      "일반 인원수 : 6명\n"
     ]
    }
   ],
   "execution_count": 79
  },
  {
   "metadata": {},
   "cell_type": "code",
   "outputs": [],
   "execution_count": null,
   "source": "",
   "id": "ce69db36dc3c4702"
  }
 ],
 "metadata": {
  "kernelspec": {
   "display_name": "Python 3",
   "language": "python",
   "name": "python3"
  },
  "language_info": {
   "codemirror_mode": {
    "name": "ipython",
    "version": 2
   },
   "file_extension": ".py",
   "mimetype": "text/x-python",
   "name": "python",
   "nbconvert_exporter": "python",
   "pygments_lexer": "ipython2",
   "version": "2.7.6"
  }
 },
 "nbformat": 4,
 "nbformat_minor": 5
}
