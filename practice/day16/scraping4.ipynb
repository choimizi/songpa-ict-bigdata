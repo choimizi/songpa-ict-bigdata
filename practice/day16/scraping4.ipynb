{
 "cells": [
  {
   "cell_type": "code",
   "id": "initial_id",
   "metadata": {
    "collapsed": true,
    "ExecuteTime": {
     "end_time": "2024-07-25T04:11:46.820890Z",
     "start_time": "2024-07-25T04:11:46.475389Z"
    }
   },
   "source": [
    "import numpy as np\n",
    "import pandas as pd\n",
    "import requests\n",
    "from bs4 import BeautifulSoup\n",
    "import lxml\n",
    "\n",
    "url = \"https://finance.naver.com/marketindex/\"\n",
    "res = requests.get(url)\n",
    "res.raise_for_status()\n",
    "soup = BeautifulSoup(res.text, \"html.parser\")\n",
    "exchange_rate = soup.select(\n",
    "    \"#exchangeList > li:nth-child(1) > a.head.usd > div > span.value\")"
   ],
   "outputs": [],
   "execution_count": 1
  },
  {
   "metadata": {
    "ExecuteTime": {
     "end_time": "2024-07-25T04:11:47.356922Z",
     "start_time": "2024-07-25T04:11:47.353803Z"
    }
   },
   "cell_type": "code",
   "source": "print(exchange_rate)",
   "id": "1e64392f09f18519",
   "outputs": [
    {
     "name": "stdout",
     "output_type": "stream",
     "text": [
      "[<span class=\"value\">1,386.80</span>]\n"
     ]
    }
   ],
   "execution_count": 2
  },
  {
   "metadata": {
    "ExecuteTime": {
     "end_time": "2024-07-25T04:12:26.113346Z",
     "start_time": "2024-07-25T04:12:26.111221Z"
    }
   },
   "cell_type": "code",
   "source": [
    "for exchange in exchange_rate:\n",
    "    print(exchange.get_text(strip=True))"
   ],
   "id": "d4f91b49e5d8f8da",
   "outputs": [
    {
     "name": "stdout",
     "output_type": "stream",
     "text": [
      "1,386.80\n"
     ]
    }
   ],
   "execution_count": 3
  },
  {
   "metadata": {},
   "cell_type": "code",
   "outputs": [],
   "execution_count": null,
   "source": "",
   "id": "702584b310ecb4ec"
  }
 ],
 "metadata": {
  "kernelspec": {
   "display_name": "Python 3",
   "language": "python",
   "name": "python3"
  },
  "language_info": {
   "codemirror_mode": {
    "name": "ipython",
    "version": 2
   },
   "file_extension": ".py",
   "mimetype": "text/x-python",
   "name": "python",
   "nbconvert_exporter": "python",
   "pygments_lexer": "ipython2",
   "version": "2.7.6"
  }
 },
 "nbformat": 4,
 "nbformat_minor": 5
}
