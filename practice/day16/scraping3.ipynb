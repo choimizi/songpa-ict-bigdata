{
 "cells": [
  {
   "cell_type": "code",
   "id": "initial_id",
   "metadata": {
    "collapsed": true,
    "ExecuteTime": {
     "end_time": "2024-07-25T03:57:53.507680Z",
     "start_time": "2024-07-25T03:57:53.222922Z"
    }
   },
   "source": [
    "import numpy as np\n",
    "import pandas as pd\n",
    "import requests\n",
    "from bs4 import BeautifulSoup\n",
    "import lxml\n",
    "\n",
    "url = \"https://news.naver.com\"\n",
    "res = requests.get(url)\n",
    "res.raise_for_status()\n",
    "soup = BeautifulSoup(res.text, \"html.parser\")\n",
    "head_title = soup.select(\n",
    "    \"#ct > div > section.main_content > div.main_brick > div > div:nth-child(1) > div.main_brick_item._channel_news_preview_wrapper > div:nth-child(1) > div > div:nth-child(2)\")"
   ],
   "outputs": [],
   "execution_count": 11
  },
  {
   "metadata": {
    "ExecuteTime": {
     "end_time": "2024-07-25T03:57:53.586634Z",
     "start_time": "2024-07-25T03:57:53.584703Z"
    }
   },
   "cell_type": "code",
   "source": "print(head_title)",
   "id": "1e64392f09f18519",
   "outputs": [
    {
     "name": "stdout",
     "output_type": "stream",
     "text": [
      "[<div class=\"cjs_journal_wrap _item_contents\">\n",
      "<a class=\"cjs_news_a _cds_link _editn_link\" href=\"https://n.news.naver.com/article/020/0003578448\" onclick=\"nclk(event, 'home.editnfimg', '', '')\">\n",
      "<div class=\"cjs_news_mw\">\n",
      "<img alt=\"\" loading=\"lazy\" onerror=\"showNoImage(this)\" src=\"https://mimgnews.pstatic.net/image/origin/020/2024/07/25/3578448.jpg?type=nf264_176&amp;ut=20240725091709\" width=\"100%\"/>\n",
      "</div>\n",
      "<div class=\"cjs_news_tw\">\n",
      "<div class=\"cjs_t\">“환불하라” 위메프 본사 몰려간 피해자들…경찰도 출동</div>\n",
      "<p class=\"cjs_d\">싱가포르 전자상거래 업체 큐텐 계열사인 티몬·위메프의 정산 지연 사태가 이어지자, 피해자들이 본사 건물로 몰려와 항의에 나섰다. 혹시 모를 안전사고에 대비해 경찰이 출동하기도 했다. 25일 서울 강남경찰서에 따르면 </p>\n",
      "</div>\n",
      "</a>\n",
      "</div>]\n"
     ]
    }
   ],
   "execution_count": 12
  },
  {
   "metadata": {
    "ExecuteTime": {
     "end_time": "2024-07-25T03:57:53.991330Z",
     "start_time": "2024-07-25T03:57:53.989396Z"
    }
   },
   "cell_type": "code",
   "source": [
    "for head in head_title:\n",
    "    print(head.get_text(strip=True))"
   ],
   "id": "d4f91b49e5d8f8da",
   "outputs": [
    {
     "name": "stdout",
     "output_type": "stream",
     "text": [
      "“환불하라” 위메프 본사 몰려간 피해자들…경찰도 출동싱가포르 전자상거래 업체 큐텐 계열사인 티몬·위메프의 정산 지연 사태가 이어지자, 피해자들이 본사 건물로 몰려와 항의에 나섰다. 혹시 모를 안전사고에 대비해 경찰이 출동하기도 했다. 25일 서울 강남경찰서에 따르면\n"
     ]
    }
   ],
   "execution_count": 13
  },
  {
   "metadata": {},
   "cell_type": "code",
   "outputs": [],
   "execution_count": null,
   "source": "",
   "id": "702584b310ecb4ec"
  }
 ],
 "metadata": {
  "kernelspec": {
   "display_name": "Python 3",
   "language": "python",
   "name": "python3"
  },
  "language_info": {
   "codemirror_mode": {
    "name": "ipython",
    "version": 2
   },
   "file_extension": ".py",
   "mimetype": "text/x-python",
   "name": "python",
   "nbconvert_exporter": "python",
   "pygments_lexer": "ipython2",
   "version": "2.7.6"
  }
 },
 "nbformat": 4,
 "nbformat_minor": 5
}
