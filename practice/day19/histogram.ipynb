{
 "cells": [
  {
   "cell_type": "code",
   "id": "initial_id",
   "metadata": {
    "collapsed": true,
    "ExecuteTime": {
     "end_time": "2024-07-30T03:52:43.750786Z",
     "start_time": "2024-07-30T03:52:43.740011Z"
    }
   },
   "source": [
    "import numpy as np\n",
    "import pandas as pd\n",
    "import matplotlib.pyplot as plt\n",
    "import seaborn as sns\n",
    "\n",
    "# page 255\n",
    "plt.rcParams['font.family'] = 'nanum gothic'\n",
    "plt.rcParams['axes.unicode_minus'] = False\n",
    "\n",
    "df = pd.read_csv('../file_processing/traffic_accident.csv', encoding='utf-8')\n",
    "df"
   ],
   "outputs": [
    {
     "data": {
      "text/plain": [
       "      년도  사고건수(건) 사망자수(명)  부상자수(명)\n",
       "0   2010  226,878   5,505  352,458\n",
       "1   2011  221,711   5,229  341,391\n",
       "2   2012  223,656   5,392  344,565\n",
       "3   2013  215,354   5,092  328,711\n",
       "4   2014  223,552   4,762  337,497\n",
       "5   2015  232,035   4,621  350,400\n",
       "6   2016  220,917   4,292  331,720\n",
       "7   2017  216,335   4,185  322,829\n",
       "8   2018  217,148   3,781  323,037\n",
       "9   2019  229,600   3,349  341,712\n",
       "10  2020  209,654   3,081  306,194\n",
       "11  2021  203,130   2,916  291,608"
      ],
      "text/html": [
       "<div>\n",
       "<style scoped>\n",
       "    .dataframe tbody tr th:only-of-type {\n",
       "        vertical-align: middle;\n",
       "    }\n",
       "\n",
       "    .dataframe tbody tr th {\n",
       "        vertical-align: top;\n",
       "    }\n",
       "\n",
       "    .dataframe thead th {\n",
       "        text-align: right;\n",
       "    }\n",
       "</style>\n",
       "<table border=\"1\" class=\"dataframe\">\n",
       "  <thead>\n",
       "    <tr style=\"text-align: right;\">\n",
       "      <th></th>\n",
       "      <th>년도</th>\n",
       "      <th>사고건수(건)</th>\n",
       "      <th>사망자수(명)</th>\n",
       "      <th>부상자수(명)</th>\n",
       "    </tr>\n",
       "  </thead>\n",
       "  <tbody>\n",
       "    <tr>\n",
       "      <th>0</th>\n",
       "      <td>2010</td>\n",
       "      <td>226,878</td>\n",
       "      <td>5,505</td>\n",
       "      <td>352,458</td>\n",
       "    </tr>\n",
       "    <tr>\n",
       "      <th>1</th>\n",
       "      <td>2011</td>\n",
       "      <td>221,711</td>\n",
       "      <td>5,229</td>\n",
       "      <td>341,391</td>\n",
       "    </tr>\n",
       "    <tr>\n",
       "      <th>2</th>\n",
       "      <td>2012</td>\n",
       "      <td>223,656</td>\n",
       "      <td>5,392</td>\n",
       "      <td>344,565</td>\n",
       "    </tr>\n",
       "    <tr>\n",
       "      <th>3</th>\n",
       "      <td>2013</td>\n",
       "      <td>215,354</td>\n",
       "      <td>5,092</td>\n",
       "      <td>328,711</td>\n",
       "    </tr>\n",
       "    <tr>\n",
       "      <th>4</th>\n",
       "      <td>2014</td>\n",
       "      <td>223,552</td>\n",
       "      <td>4,762</td>\n",
       "      <td>337,497</td>\n",
       "    </tr>\n",
       "    <tr>\n",
       "      <th>5</th>\n",
       "      <td>2015</td>\n",
       "      <td>232,035</td>\n",
       "      <td>4,621</td>\n",
       "      <td>350,400</td>\n",
       "    </tr>\n",
       "    <tr>\n",
       "      <th>6</th>\n",
       "      <td>2016</td>\n",
       "      <td>220,917</td>\n",
       "      <td>4,292</td>\n",
       "      <td>331,720</td>\n",
       "    </tr>\n",
       "    <tr>\n",
       "      <th>7</th>\n",
       "      <td>2017</td>\n",
       "      <td>216,335</td>\n",
       "      <td>4,185</td>\n",
       "      <td>322,829</td>\n",
       "    </tr>\n",
       "    <tr>\n",
       "      <th>8</th>\n",
       "      <td>2018</td>\n",
       "      <td>217,148</td>\n",
       "      <td>3,781</td>\n",
       "      <td>323,037</td>\n",
       "    </tr>\n",
       "    <tr>\n",
       "      <th>9</th>\n",
       "      <td>2019</td>\n",
       "      <td>229,600</td>\n",
       "      <td>3,349</td>\n",
       "      <td>341,712</td>\n",
       "    </tr>\n",
       "    <tr>\n",
       "      <th>10</th>\n",
       "      <td>2020</td>\n",
       "      <td>209,654</td>\n",
       "      <td>3,081</td>\n",
       "      <td>306,194</td>\n",
       "    </tr>\n",
       "    <tr>\n",
       "      <th>11</th>\n",
       "      <td>2021</td>\n",
       "      <td>203,130</td>\n",
       "      <td>2,916</td>\n",
       "      <td>291,608</td>\n",
       "    </tr>\n",
       "  </tbody>\n",
       "</table>\n",
       "</div>"
      ]
     },
     "execution_count": 2,
     "metadata": {},
     "output_type": "execute_result"
    }
   ],
   "execution_count": 2
  },
  {
   "metadata": {
    "ExecuteTime": {
     "end_time": "2024-07-30T03:53:47.726413Z",
     "start_time": "2024-07-30T03:53:47.658950Z"
    }
   },
   "cell_type": "code",
   "source": [
    "data1 = np.array(df['사고건수(건)'].str.replace(',', '').astype(int))\n",
    "plt.hist(data1, bins=10, color='red')\n",
    "plt.xlabel('교통사고 건수')\n",
    "plt.show()"
   ],
   "id": "acd4dc4104f32de4",
   "outputs": [
    {
     "data": {
      "text/plain": [
       "<Figure size 640x480 with 1 Axes>"
      ],
      "image/png": "[encoded data removed]"
     },
     "metadata": {},
     "output_type": "display_data"
    }
   ],
   "execution_count": 5
  },
  {
   "metadata": {
    "ExecuteTime": {
     "end_time": "2024-07-30T03:58:10.234809Z",
     "start_time": "2024-07-30T03:58:10.170315Z"
    }
   },
   "cell_type": "code",
   "source": [
    "data1 = np.array(df['사고건수(건)'].str.replace(',', '').astype(int))\n",
    "data2 = np.array(df['사망자수(명)'].str.replace(',', '').astype(int))\n",
    "\n",
    "plt.legend(['사고건수', '사망자수'])\n",
    "plt.hist((data1, data2), bins=10, color=['red', 'blue'], histtype='bar')"
   ],
   "id": "ffe4743dd3151b26",
   "outputs": [
    {
     "data": {
      "text/plain": [
       "(array([[ 0.,  0.,  0.,  0.,  0.,  0.,  0.,  0.,  1., 11.],\n",
       "        [12.,  0.,  0.,  0.,  0.,  0.,  0.,  0.,  0.,  0.]]),\n",
       " array([  2916. ,  25827.9,  48739.8,  71651.7,  94563.6, 117475.5,\n",
       "        140387.4, 163299.3, 186211.2, 209123.1, 232035. ]),\n",
       " <a list of 2 BarContainer objects>)"
      ]
     },
     "execution_count": 13,
     "metadata": {},
     "output_type": "execute_result"
    },
    {
     "data": {
      "text/plain": [
       "<Figure size 640x480 with 1 Axes>"
      ],
      "image/png": "[encoded data removed]"
     },
     "metadata": {},
     "output_type": "display_data"
    }
   ],
   "execution_count": 13
  },
  {
   "metadata": {},
   "cell_type": "code",
   "outputs": [],
   "execution_count": null,
   "source": "",
   "id": "48201ae4ad8b8d75"
  }
 ],
 "metadata": {
  "kernelspec": {
   "display_name": "Python 3",
   "language": "python",
   "name": "python3"
  },
  "language_info": {
   "codemirror_mode": {
    "name": "ipython",
    "version": 2
   },
   "file_extension": ".py",
   "mimetype": "text/x-python",
   "name": "python",
   "nbconvert_exporter": "python",
   "pygments_lexer": "ipython2",
   "version": "2.7.6"
  }
 },
 "nbformat": 4,
 "nbformat_minor": 5
}
