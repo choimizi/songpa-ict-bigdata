{
 "cells": [
  {
   "cell_type": "code",
   "id": "2ad4ce4c",
   "metadata": {
    "ExecuteTime": {
     "end_time": "2024-07-19T05:36:52.017390Z",
     "start_time": "2024-07-19T05:36:51.978776Z"
    }
   },
   "source": [
    "import numpy as np\n",
    "\n",
    "num = [1, 2, 3]\n",
    "arr = np.array(num)\n",
    "print(arr)"
   ],
   "outputs": [
    {
     "name": "stdout",
     "output_type": "stream",
     "text": [
      "[1 2 3]\n"
     ]
    }
   ],
   "execution_count": 2
  },
  {
   "cell_type": "code",
   "execution_count": 2,
   "id": "01e33072",
   "metadata": {},
   "outputs": [
    {
     "data": {
      "text/plain": [
       "list"
      ]
     },
     "execution_count": 2,
     "metadata": {},
     "output_type": "execute_result"
    }
   ],
   "source": [
    "type(num)"
   ]
  },
  {
   "cell_type": "code",
   "execution_count": 3,
   "id": "662b1d98",
   "metadata": {},
   "outputs": [
    {
     "data": {
      "text/plain": [
       "numpy.ndarray"
      ]
     },
     "execution_count": 3,
     "metadata": {},
     "output_type": "execute_result"
    }
   ],
   "source": [
    "type(arr)"
   ]
  },
  {
   "cell_type": "code",
   "execution_count": 4,
   "id": "c12e5456",
   "metadata": {},
   "outputs": [
    {
     "name": "stdout",
     "output_type": "stream",
     "text": [
      "1\n",
      "2\n",
      "3\n"
     ]
    }
   ],
   "source": [
    "for i in num:\n",
    "    print(i)"
   ]
  },
  {
   "cell_type": "code",
   "execution_count": 5,
   "id": "b49d4f1e",
   "metadata": {},
   "outputs": [
    {
     "name": "stdout",
     "output_type": "stream",
     "text": [
      "1\n",
      "2\n",
      "3\n"
     ]
    }
   ],
   "source": [
    "for i in arr:\n",
    "    print(i)"
   ]
  },
  {
   "cell_type": "code",
   "id": "46a5fbb9",
   "metadata": {
    "ExecuteTime": {
     "end_time": "2024-07-19T05:36:55.333457Z",
     "start_time": "2024-07-19T05:36:55.329208Z"
    }
   },
   "source": [
    "num1 = [[1, 2, 3], [4, 5, 6]]\n",
    "arr1 = np.array(num1)\n",
    "for i in range(2):\n",
    "    for j in range(3):\n",
    "        print(num1[i][j], end=\" \")\n",
    "    print()"
   ],
   "outputs": [
    {
     "name": "stdout",
     "output_type": "stream",
     "text": [
      "1 2 3 \n",
      "4 5 6 \n"
     ]
    }
   ],
   "execution_count": 3
  },
  {
   "cell_type": "code",
   "id": "8ba2d9b2",
   "metadata": {
    "ExecuteTime": {
     "end_time": "2024-07-19T05:37:02.464292Z",
     "start_time": "2024-07-19T05:37:02.458074Z"
    }
   },
   "source": [
    "arr1"
   ],
   "outputs": [
    {
     "data": {
      "text/plain": [
       "array([[1, 2, 3],\n",
       "       [4, 5, 6]])"
      ]
     },
     "execution_count": 4,
     "metadata": {},
     "output_type": "execute_result"
    }
   ],
   "execution_count": 4
  },
  {
   "cell_type": "code",
   "id": "96838443",
   "metadata": {
    "ExecuteTime": {
     "end_time": "2024-07-19T05:37:04.772758Z",
     "start_time": "2024-07-19T05:37:04.768848Z"
    }
   },
   "source": [
    "num1"
   ],
   "outputs": [
    {
     "data": {
      "text/plain": [
       "[[1, 2, 3], [4, 5, 6]]"
      ]
     },
     "execution_count": 5,
     "metadata": {},
     "output_type": "execute_result"
    }
   ],
   "execution_count": 5
  },
  {
   "cell_type": "code",
   "id": "b779d66f",
   "metadata": {
    "ExecuteTime": {
     "end_time": "2024-07-19T05:37:09.633394Z",
     "start_time": "2024-07-19T05:37:09.630860Z"
    }
   },
   "source": [
    "for i in range(2):\n",
    "    for j in range(3):\n",
    "        print(num1[i][j], end=\" \")\n",
    "    print()"
   ],
   "outputs": [
    {
     "name": "stdout",
     "output_type": "stream",
     "text": [
      "1 2 3 \n",
      "4 5 6 \n"
     ]
    }
   ],
   "execution_count": 7
  },
  {
   "cell_type": "code",
   "id": "35110ec3",
   "metadata": {
    "ExecuteTime": {
     "end_time": "2024-07-19T05:37:12.705540Z",
     "start_time": "2024-07-19T05:37:12.703288Z"
    }
   },
   "source": [
    "arr3 = np.array([[1, 2, 3], [4, 5, 6], [7, 8, 9]])\n",
    "type(arr3)"
   ],
   "outputs": [
    {
     "data": {
      "text/plain": [
       "numpy.ndarray"
      ]
     },
     "execution_count": 8,
     "metadata": {},
     "output_type": "execute_result"
    }
   ],
   "execution_count": 8
  },
  {
   "cell_type": "code",
   "execution_count": 17,
   "id": "3bd9595c",
   "metadata": {},
   "outputs": [
    {
     "data": {
      "text/plain": [
       "array([1, 2, 3])"
      ]
     },
     "execution_count": 17,
     "metadata": {},
     "output_type": "execute_result"
    }
   ],
   "source": [
    "arr"
   ]
  },
  {
   "cell_type": "code",
   "execution_count": 20,
   "id": "6fe8ed8f",
   "metadata": {},
   "outputs": [
    {
     "data": {
      "text/plain": [
       "1"
      ]
     },
     "execution_count": 20,
     "metadata": {},
     "output_type": "execute_result"
    }
   ],
   "source": [
    "arr.ndim"
   ]
  },
  {
   "metadata": {},
   "cell_type": "code",
   "outputs": [
    {
     "data": {
      "text/plain": [
       "2"
      ]
     },
     "execution_count": 22,
     "metadata": {},
     "output_type": "execute_result"
    }
   ],
   "execution_count": 22,
   "source": "arr1.ndim",
   "id": "b5f1f2d9"
  },
  {
   "cell_type": "code",
   "execution_count": 23,
   "id": "4f12099d",
   "metadata": {},
   "outputs": [
    {
     "data": {
      "text/plain": [
       "(3,)"
      ]
     },
     "execution_count": 23,
     "metadata": {},
     "output_type": "execute_result"
    }
   ],
   "source": [
    "arr.shape"
   ]
  },
  {
   "cell_type": "code",
   "execution_count": 24,
   "id": "9e35e516",
   "metadata": {},
   "outputs": [
    {
     "data": {
      "text/plain": [
       "(2, 3)"
      ]
     },
     "execution_count": 24,
     "metadata": {},
     "output_type": "execute_result"
    }
   ],
   "source": [
    "arr1.shape"
   ]
  },
  {
   "cell_type": "code",
   "execution_count": 25,
   "id": "211149bd",
   "metadata": {},
   "outputs": [
    {
     "data": {
      "text/plain": [
       "3"
      ]
     },
     "execution_count": 25,
     "metadata": {},
     "output_type": "execute_result"
    }
   ],
   "source": [
    "arr.size"
   ]
  },
  {
   "cell_type": "code",
   "id": "2ec888d8",
   "metadata": {
    "ExecuteTime": {
     "end_time": "2024-07-19T05:38:27.238152Z",
     "start_time": "2024-07-19T05:38:27.233085Z"
    }
   },
   "source": [
    "arr1.size"
   ],
   "outputs": [
    {
     "data": {
      "text/plain": [
       "6"
      ]
     },
     "execution_count": 11,
     "metadata": {},
     "output_type": "execute_result"
    }
   ],
   "execution_count": 11
  },
  {
   "metadata": {
    "ExecuteTime": {
     "end_time": "2024-07-19T05:38:28.290120Z",
     "start_time": "2024-07-19T05:38:28.286115Z"
    }
   },
   "cell_type": "code",
   "source": "arr.dtype",
   "id": "5ba7d8b120f8bca9",
   "outputs": [
    {
     "data": {
      "text/plain": [
       "dtype('int64')"
      ]
     },
     "execution_count": 12,
     "metadata": {},
     "output_type": "execute_result"
    }
   ],
   "execution_count": 12
  },
  {
   "cell_type": "code",
   "id": "b9612c45",
   "metadata": {
    "ExecuteTime": {
     "end_time": "2024-07-19T05:38:32.624855Z",
     "start_time": "2024-07-19T05:38:32.620514Z"
    }
   },
   "source": [
    "arr1.dtype"
   ],
   "outputs": [
    {
     "data": {
      "text/plain": [
       "dtype('int64')"
      ]
     },
     "execution_count": 13,
     "metadata": {},
     "output_type": "execute_result"
    }
   ],
   "execution_count": 13
  },
  {
   "cell_type": "code",
   "id": "c0faa826",
   "metadata": {
    "ExecuteTime": {
     "end_time": "2024-07-19T05:38:35.617746Z",
     "start_time": "2024-07-19T05:38:35.613588Z"
    }
   },
   "source": "arr.dtype",
   "outputs": [
    {
     "data": {
      "text/plain": [
       "dtype('int64')"
      ]
     },
     "execution_count": 14,
     "metadata": {},
     "output_type": "execute_result"
    }
   ],
   "execution_count": 14
  },
  {
   "cell_type": "code",
   "id": "b68c09e5",
   "metadata": {
    "ExecuteTime": {
     "end_time": "2024-07-19T05:38:40.369013Z",
     "start_time": "2024-07-19T05:38:40.364655Z"
    }
   },
   "source": [
    "arr.itemsize"
   ],
   "outputs": [
    {
     "data": {
      "text/plain": [
       "8"
      ]
     },
     "execution_count": 20,
     "metadata": {},
     "output_type": "execute_result"
    }
   ],
   "execution_count": 20
  },
  {
   "cell_type": "code",
   "id": "b98a3b9a",
   "metadata": {
    "ExecuteTime": {
     "end_time": "2024-07-19T05:38:41.198539Z",
     "start_time": "2024-07-19T05:38:41.194656Z"
    }
   },
   "source": [
    "arr1.itemsize"
   ],
   "outputs": [
    {
     "data": {
      "text/plain": [
       "8"
      ]
     },
     "execution_count": 21,
     "metadata": {},
     "output_type": "execute_result"
    }
   ],
   "execution_count": 21
  },
  {
   "cell_type": "code",
   "id": "65180b37",
   "metadata": {
    "ExecuteTime": {
     "end_time": "2024-07-19T05:38:42.794231Z",
     "start_time": "2024-07-19T05:38:42.789975Z"
    }
   },
   "source": [
    "arr.nbytes"
   ],
   "outputs": [
    {
     "data": {
      "text/plain": [
       "24"
      ]
     },
     "execution_count": 22,
     "metadata": {},
     "output_type": "execute_result"
    }
   ],
   "execution_count": 22
  },
  {
   "cell_type": "code",
   "id": "8597c87a",
   "metadata": {
    "ExecuteTime": {
     "end_time": "2024-07-19T05:38:43.279715Z",
     "start_time": "2024-07-19T05:38:43.276397Z"
    }
   },
   "source": [
    "arr1.nbytes"
   ],
   "outputs": [
    {
     "data": {
      "text/plain": [
       "48"
      ]
     },
     "execution_count": 23,
     "metadata": {},
     "output_type": "execute_result"
    }
   ],
   "execution_count": 23
  }
 ],
 "metadata": {
  "kernelspec": {
   "display_name": "Python 3 (ipykernel)",
   "language": "python",
   "name": "python3"
  },
  "language_info": {
   "codemirror_mode": {
    "name": "ipython",
    "version": 3
   },
   "file_extension": ".py",
   "mimetype": "text/x-python",
   "name": "python",
   "nbconvert_exporter": "python",
   "pygments_lexer": "ipython3",
   "version": "3.11.3"
  }
 },
 "nbformat": 4,
 "nbformat_minor": 5
}
