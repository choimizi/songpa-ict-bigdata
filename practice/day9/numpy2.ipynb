{
 "cells": [
  {
   "cell_type": "code",
   "id": "2488646d",
   "metadata": {
    "ExecuteTime": {
     "end_time": "2024-07-19T06:43:11.121170Z",
     "start_time": "2024-07-19T06:43:11.116347Z"
    }
   },
   "source": [
    "import numpy as np\n",
    "\n",
    "arr = np.array([1.0, 2.0, 3.0], int)\n",
    "arr"
   ],
   "outputs": [
    {
     "data": {
      "text/plain": [
       "array([1, 2, 3])"
      ]
     },
     "execution_count": 9,
     "metadata": {},
     "output_type": "execute_result"
    }
   ],
   "execution_count": 9
  },
  {
   "cell_type": "code",
   "id": "1c3c0d5a",
   "metadata": {
    "ExecuteTime": {
     "end_time": "2024-07-19T06:43:12.160373Z",
     "start_time": "2024-07-19T06:43:12.156212Z"
    }
   },
   "source": [
    "arr1 = np.array([1.0, \"2\", 3], int)\n",
    "arr1"
   ],
   "outputs": [
    {
     "data": {
      "text/plain": [
       "array([1, 2, 3])"
      ]
     },
     "execution_count": 10,
     "metadata": {},
     "output_type": "execute_result"
    }
   ],
   "execution_count": 10
  },
  {
   "cell_type": "code",
   "id": "d8997105",
   "metadata": {
    "ExecuteTime": {
     "end_time": "2024-07-19T06:43:12.402769Z",
     "start_time": "2024-07-19T06:43:12.398951Z"
    }
   },
   "source": [
    "arr2 = np.array([1.0, \"2\", 3], int)\n",
    "arr2"
   ],
   "outputs": [
    {
     "data": {
      "text/plain": [
       "array([1, 2, 3])"
      ]
     },
     "execution_count": 11,
     "metadata": {},
     "output_type": "execute_result"
    }
   ],
   "execution_count": 11
  },
  {
   "cell_type": "code",
   "id": "7c4a5a99",
   "metadata": {
    "ExecuteTime": {
     "end_time": "2024-07-19T06:43:12.627712Z",
     "start_time": "2024-07-19T06:43:12.624040Z"
    }
   },
   "source": [
    "arr2"
   ],
   "outputs": [
    {
     "data": {
      "text/plain": [
       "array([1, 2, 3])"
      ]
     },
     "execution_count": 12,
     "metadata": {},
     "output_type": "execute_result"
    }
   ],
   "execution_count": 12
  },
  {
   "cell_type": "code",
   "id": "95214e87",
   "metadata": {
    "ExecuteTime": {
     "end_time": "2024-07-19T06:43:12.887597Z",
     "start_time": "2024-07-19T06:43:12.884787Z"
    }
   },
   "source": [
    "type(arr2)"
   ],
   "outputs": [
    {
     "data": {
      "text/plain": [
       "numpy.ndarray"
      ]
     },
     "execution_count": 13,
     "metadata": {},
     "output_type": "execute_result"
    }
   ],
   "execution_count": 13
  },
  {
   "cell_type": "code",
   "id": "280c522f",
   "metadata": {
    "ExecuteTime": {
     "end_time": "2024-07-19T06:49:52.297629Z",
     "start_time": "2024-07-19T06:49:52.293621Z"
    }
   },
   "source": [
    "arr3 = arr2.astype(np.float32)\n",
    "arr3"
   ],
   "outputs": [
    {
     "data": {
      "text/plain": [
       "array([1., 2., 3.], dtype=float32)"
      ]
     },
     "execution_count": 25,
     "metadata": {},
     "output_type": "execute_result"
    }
   ],
   "execution_count": 25
  },
  {
   "cell_type": "code",
   "id": "dab94eb7",
   "metadata": {
    "ExecuteTime": {
     "end_time": "2024-07-19T06:50:01.879800Z",
     "start_time": "2024-07-19T06:50:01.874943Z"
    }
   },
   "source": [
    "arr3=arr2.astype(np.float64)\n",
    "arr3"
   ],
   "outputs": [
    {
     "data": {
      "text/plain": [
       "array([1., 2., 3.])"
      ]
     },
     "execution_count": 28,
     "metadata": {},
     "output_type": "execute_result"
    }
   ],
   "execution_count": 28
  },
  {
   "metadata": {},
   "cell_type": "code",
   "outputs": [],
   "execution_count": null,
   "source": "",
   "id": "243f5bbe6b22ac20"
  }
 ],
 "metadata": {
  "kernelspec": {
   "display_name": "Python 3 (ipykernel)",
   "language": "python",
   "name": "python3"
  },
  "language_info": {
   "codemirror_mode": {
    "name": "ipython",
    "version": 3
   },
   "file_extension": ".py",
   "mimetype": "text/x-python",
   "name": "python",
   "nbconvert_exporter": "python",
   "pygments_lexer": "ipython3",
   "version": "3.11.3"
  }
 },
 "nbformat": 4,
 "nbformat_minor": 5
}
