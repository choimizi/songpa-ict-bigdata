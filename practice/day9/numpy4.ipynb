{
 "cells": [
  {
   "cell_type": "code",
   "id": "6fea41dd",
   "metadata": {
    "ExecuteTime": {
     "end_time": "2024-07-19T07:06:21.207661Z",
     "start_time": "2024-07-19T07:06:21.195679Z"
    }
   },
   "source": [
    "import numpy as np\n",
    "arr=np.zeros(10)\n",
    "arr"
   ],
   "outputs": [
    {
     "data": {
      "text/plain": [
       "array([0., 0., 0., 0., 0., 0., 0., 0., 0., 0.])"
      ]
     },
     "execution_count": 5,
     "metadata": {},
     "output_type": "execute_result"
    }
   ],
   "execution_count": 5
  },
  {
   "cell_type": "code",
   "id": "d01a6e34",
   "metadata": {
    "ExecuteTime": {
     "end_time": "2024-07-19T07:06:21.405739Z",
     "start_time": "2024-07-19T07:06:21.398073Z"
    }
   },
   "source": [
    "arr=np.ones(10)"
   ],
   "outputs": [],
   "execution_count": 6
  },
  {
   "cell_type": "code",
   "id": "b8c7c087",
   "metadata": {
    "ExecuteTime": {
     "end_time": "2024-07-19T07:06:21.885916Z",
     "start_time": "2024-07-19T07:06:21.882265Z"
    }
   },
   "source": [
    "arr"
   ],
   "outputs": [
    {
     "data": {
      "text/plain": [
       "array([1., 1., 1., 1., 1., 1., 1., 1., 1., 1.])"
      ]
     },
     "execution_count": 7,
     "metadata": {},
     "output_type": "execute_result"
    }
   ],
   "execution_count": 7
  },
  {
   "cell_type": "code",
   "id": "dccbc2db",
   "metadata": {
    "ExecuteTime": {
     "end_time": "2024-07-19T07:06:31.853578Z",
     "start_time": "2024-07-19T07:06:31.850331Z"
    }
   },
   "source": [
    "aa=np.full(3,3)\n",
    "aa"
   ],
   "outputs": [
    {
     "data": {
      "text/plain": [
       "array([3, 3, 3])"
      ]
     },
     "execution_count": 10,
     "metadata": {},
     "output_type": "execute_result"
    }
   ],
   "execution_count": 10
  },
  {
   "cell_type": "code",
   "id": "b543c35c",
   "metadata": {
    "ExecuteTime": {
     "end_time": "2024-07-19T07:06:34.125472Z",
     "start_time": "2024-07-19T07:06:34.121208Z"
    }
   },
   "source": [
    "b=np.zeros((3,3))\n",
    "b"
   ],
   "outputs": [
    {
     "data": {
      "text/plain": [
       "array([[0., 0., 0.],\n",
       "       [0., 0., 0.],\n",
       "       [0., 0., 0.]])"
      ]
     },
     "execution_count": 11,
     "metadata": {},
     "output_type": "execute_result"
    }
   ],
   "execution_count": 11
  },
  {
   "cell_type": "code",
   "id": "f5e5c623",
   "metadata": {
    "ExecuteTime": {
     "end_time": "2024-07-19T07:06:40.900461Z",
     "start_time": "2024-07-19T07:06:40.896227Z"
    }
   },
   "source": [
    "a=np.ones(10)\n",
    "a"
   ],
   "outputs": [
    {
     "data": {
      "text/plain": [
       "array([1., 1., 1., 1., 1., 1., 1., 1., 1., 1.])"
      ]
     },
     "execution_count": 13,
     "metadata": {},
     "output_type": "execute_result"
    }
   ],
   "execution_count": 13
  },
  {
   "metadata": {},
   "cell_type": "code",
   "outputs": [],
   "execution_count": null,
   "source": "",
   "id": "a7030ba358601657"
  }
 ],
 "metadata": {
  "kernelspec": {
   "display_name": "Python 3 (ipykernel)",
   "language": "python",
   "name": "python3"
  },
  "language_info": {
   "codemirror_mode": {
    "name": "ipython",
    "version": 3
   },
   "file_extension": ".py",
   "mimetype": "text/x-python",
   "name": "python",
   "nbconvert_exporter": "python",
   "pygments_lexer": "ipython3",
   "version": "3.11.3"
  }
 },
 "nbformat": 4,
 "nbformat_minor": 5
}
