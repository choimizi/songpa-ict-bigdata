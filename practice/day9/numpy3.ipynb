{
 "cells": [
  {
   "cell_type": "code",
   "id": "9de648eb",
   "metadata": {
    "ExecuteTime": {
     "end_time": "2024-07-19T07:07:03.896298Z",
     "start_time": "2024-07-19T07:07:03.858340Z"
    }
   },
   "source": [
    "import numpy as np\n",
    "num=[1,2,3]\n",
    "type(num)"
   ],
   "outputs": [
    {
     "data": {
      "text/plain": [
       "list"
      ]
     },
     "execution_count": 1,
     "metadata": {},
     "output_type": "execute_result"
    }
   ],
   "execution_count": 1
  },
  {
   "cell_type": "code",
   "id": "805ff703",
   "metadata": {
    "ExecuteTime": {
     "end_time": "2024-07-19T07:07:04.523155Z",
     "start_time": "2024-07-19T07:07:04.518008Z"
    }
   },
   "source": [
    "arr=np.array(num)\n",
    "type(arr)"
   ],
   "outputs": [
    {
     "data": {
      "text/plain": [
       "numpy.ndarray"
      ]
     },
     "execution_count": 2,
     "metadata": {},
     "output_type": "execute_result"
    }
   ],
   "execution_count": 2
  },
  {
   "cell_type": "code",
   "id": "b6c2f019",
   "metadata": {
    "ExecuteTime": {
     "end_time": "2024-07-19T07:07:05.228964Z",
     "start_time": "2024-07-19T07:07:05.224592Z"
    }
   },
   "source": [
    "aa=(1,2,3)\n",
    "type(aa)"
   ],
   "outputs": [
    {
     "data": {
      "text/plain": [
       "tuple"
      ]
     },
     "execution_count": 3,
     "metadata": {},
     "output_type": "execute_result"
    }
   ],
   "execution_count": 3
  },
  {
   "cell_type": "code",
   "id": "091fe041",
   "metadata": {
    "ExecuteTime": {
     "end_time": "2024-07-19T07:07:05.900999Z",
     "start_time": "2024-07-19T07:07:05.898075Z"
    }
   },
   "source": [
    "for i in aa:\n",
    "    print(i)"
   ],
   "outputs": [
    {
     "name": "stdout",
     "output_type": "stream",
     "text": [
      "1\n",
      "2\n",
      "3\n"
     ]
    }
   ],
   "execution_count": 4
  },
  {
   "cell_type": "code",
   "id": "275fc13c",
   "metadata": {
    "ExecuteTime": {
     "end_time": "2024-07-19T07:07:06.536894Z",
     "start_time": "2024-07-19T07:07:06.534655Z"
    }
   },
   "source": [
    "for i in num:\n",
    "    print(i)"
   ],
   "outputs": [
    {
     "name": "stdout",
     "output_type": "stream",
     "text": [
      "1\n",
      "2\n",
      "3\n"
     ]
    }
   ],
   "execution_count": 5
  },
  {
   "cell_type": "code",
   "id": "0c03f080",
   "metadata": {
    "ExecuteTime": {
     "end_time": "2024-07-19T07:07:06.961617Z",
     "start_time": "2024-07-19T07:07:06.959533Z"
    }
   },
   "source": [
    "for i in arr:\n",
    "    print(i)"
   ],
   "outputs": [
    {
     "name": "stdout",
     "output_type": "stream",
     "text": [
      "1\n",
      "2\n",
      "3\n"
     ]
    }
   ],
   "execution_count": 6
  },
  {
   "cell_type": "code",
   "execution_count": null,
   "id": "a9408ad3",
   "metadata": {},
   "outputs": [],
   "source": []
  }
 ],
 "metadata": {
  "kernelspec": {
   "display_name": "Python 3 (ipykernel)",
   "language": "python",
   "name": "python3"
  },
  "language_info": {
   "codemirror_mode": {
    "name": "ipython",
    "version": 3
   },
   "file_extension": ".py",
   "mimetype": "text/x-python",
   "name": "python",
   "nbconvert_exporter": "python",
   "pygments_lexer": "ipython3",
   "version": "3.11.3"
  }
 },
 "nbformat": 4,
 "nbformat_minor": 5
}
