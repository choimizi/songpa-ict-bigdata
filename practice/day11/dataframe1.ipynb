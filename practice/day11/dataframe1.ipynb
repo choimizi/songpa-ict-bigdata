{
 "cells": [
  {
   "cell_type": "code",
   "id": "initial_id",
   "metadata": {
    "collapsed": true,
    "ExecuteTime": {
     "end_time": "2024-07-18T04:04:01.413529Z",
     "start_time": "2024-07-18T04:04:01.220772Z"
    }
   },
   "source": [
    "import numpy as np\n",
    "import pandas as pd\n",
    "\n",
    "# 1. 딕셔너리를 이용한 생성\n",
    "ipsa = {'순번': [2301, 2302, 2303, 2304, 2305],\n",
    "        '이름': ['차은우', '송혜교', '지창욱', '박서준', '아이유'],\n",
    "        '성적': [95, 96, 92, 87, 93]}\n",
    "df=pd.DataFrame(ipsa)\n",
    "print(df)"
   ],
   "outputs": [
    {
     "name": "stdout",
     "output_type": "stream",
     "text": [
      "     순번   이름  성적\n",
      "0  2301  차은우  95\n",
      "1  2302  송혜교  96\n",
      "2  2303  지창욱  92\n",
      "3  2304  박서준  87\n",
      "4  2305  아이유  93\n"
     ]
    }
   ],
   "execution_count": 1
  },
  {
   "metadata": {
    "ExecuteTime": {
     "end_time": "2024-07-18T04:07:54.892242Z",
     "start_time": "2024-07-18T04:07:54.885984Z"
    }
   },
   "cell_type": "code",
   "source": [
    "# 2. 리스트를 이용한 생성\n",
    "df = pd.DataFrame([[90, 80, 70], [100, 90, 95], [80, 80, 80], [90, 95, 90], [85, 85, 80]],\n",
    "                  index=['20231231', '20231232', '20231233', '20231235', '20231236'],\n",
    "                  columns=['kor', 'eng', 'math'])\n",
    "df"
   ],
   "id": "12c4666b4152826c",
   "outputs": [
    {
     "data": {
      "text/plain": [
       "          kor  eng  math\n",
       "20231231   90   80    70\n",
       "20231232  100   90    95\n",
       "20231233   80   80    80\n",
       "20231235   90   95    90\n",
       "20231236   85   85    80"
      ],
      "text/html": [
       "<div>\n",
       "<style scoped>\n",
       "    .dataframe tbody tr th:only-of-type {\n",
       "        vertical-align: middle;\n",
       "    }\n",
       "\n",
       "    .dataframe tbody tr th {\n",
       "        vertical-align: top;\n",
       "    }\n",
       "\n",
       "    .dataframe thead th {\n",
       "        text-align: right;\n",
       "    }\n",
       "</style>\n",
       "<table border=\"1\" class=\"dataframe\">\n",
       "  <thead>\n",
       "    <tr style=\"text-align: right;\">\n",
       "      <th></th>\n",
       "      <th>kor</th>\n",
       "      <th>eng</th>\n",
       "      <th>math</th>\n",
       "    </tr>\n",
       "  </thead>\n",
       "  <tbody>\n",
       "    <tr>\n",
       "      <th>20231231</th>\n",
       "      <td>90</td>\n",
       "      <td>80</td>\n",
       "      <td>70</td>\n",
       "    </tr>\n",
       "    <tr>\n",
       "      <th>20231232</th>\n",
       "      <td>100</td>\n",
       "      <td>90</td>\n",
       "      <td>95</td>\n",
       "    </tr>\n",
       "    <tr>\n",
       "      <th>20231233</th>\n",
       "      <td>80</td>\n",
       "      <td>80</td>\n",
       "      <td>80</td>\n",
       "    </tr>\n",
       "    <tr>\n",
       "      <th>20231235</th>\n",
       "      <td>90</td>\n",
       "      <td>95</td>\n",
       "      <td>90</td>\n",
       "    </tr>\n",
       "    <tr>\n",
       "      <th>20231236</th>\n",
       "      <td>85</td>\n",
       "      <td>85</td>\n",
       "      <td>80</td>\n",
       "    </tr>\n",
       "  </tbody>\n",
       "</table>\n",
       "</div>"
      ]
     },
     "execution_count": 4,
     "metadata": {},
     "output_type": "execute_result"
    }
   ],
   "execution_count": 4
  },
  {
   "metadata": {
    "ExecuteTime": {
     "end_time": "2024-07-18T04:29:36.935601Z",
     "start_time": "2024-07-18T04:29:36.927666Z"
    }
   },
   "cell_type": "code",
   "source": [
    "# 응용\n",
    "# 아래와 같이 멋지게 데이터프레임을 완성보세요\n",
    "# 학과    이름  나이\n",
    "# 컴퓨터     홍길동 20\n",
    "# 미디어     이순신 21\n",
    "# 인공지능    김유신 23\n",
    "# 통계학     유관순 24\n",
    "# 영문과     강감찬 23\n",
    "\n",
    "student = {\n",
    "        '학과': ['컴퓨터', '미디어', '인공지능', '통계학', '영문과'],\n",
    "        '이름': ['홍길동', '이순신', '김유신', '유관순', '강감찬'],\n",
    "        '나이': [20, 21, 23, 24, 23]\n",
    "}\n",
    "df = pd.DataFrame(student)\n",
    "print(\"student1=======\")\n",
    "print(df)\n",
    "\n",
    "student2 = pd.DataFrame([['컴퓨터', '홍길동', 20],\n",
    "                         ['미디어', '이순신', 21],\n",
    "                         ['인공지능', '김유신', 23],\n",
    "                         ['통계학', '유관순', 24],\n",
    "                         ['영문과', '강감찬', 23]],\n",
    "                        columns=['학과', '이름', '나이'])\n",
    "print(\"student2=======\")\n",
    "print(student2)"
   ],
   "id": "7ca70ab086dc5188",
   "outputs": [
    {
     "name": "stdout",
     "output_type": "stream",
     "text": [
      "student1=======\n",
      "     학과   이름  나이\n",
      "0   컴퓨터  홍길동  20\n",
      "1   미디어  이순신  21\n",
      "2  인공지능  김유신  23\n",
      "3   통계학  유관순  24\n",
      "4   영문과  강감찬  23\n",
      "student2=======\n",
      "     학과   이름  나이\n",
      "0   컴퓨터  홍길동  20\n",
      "1   미디어  이순신  21\n",
      "2  인공지능  김유신  23\n",
      "3   통계학  유관순  24\n",
      "4   영문과  강감찬  23\n"
     ]
    }
   ],
   "execution_count": 43
  },
  {
   "metadata": {
    "ExecuteTime": {
     "end_time": "2024-07-18T04:31:07.834512Z",
     "start_time": "2024-07-18T04:31:07.831204Z"
    }
   },
   "cell_type": "code",
   "source": [
    "# 1. 열 이름만 출력\n",
    "# print(df.columns)\n",
    "df['이름']"
   ],
   "id": "e3838bd493f6fe40",
   "outputs": [
    {
     "name": "stdout",
     "output_type": "stream",
     "text": [
      "Index(['학과', '이름', '나이'], dtype='object')\n"
     ]
    }
   ],
   "execution_count": 44
  },
  {
   "metadata": {
    "ExecuteTime": {
     "end_time": "2024-07-18T04:22:55.266495Z",
     "start_time": "2024-07-18T04:22:55.262237Z"
    }
   },
   "cell_type": "code",
   "source": [
    "# 2. 열 이름, 나이 출력\n",
    "df[['이름','나이']]"
   ],
   "id": "cf02daacefd7ac3a",
   "outputs": [
    {
     "data": {
      "text/plain": [
       "    이름  나이\n",
       "0  홍길동  20\n",
       "1  이순신  21\n",
       "2  김유신  23\n",
       "3  유관순  24\n",
       "4  강감찬  23"
      ],
      "text/html": [
       "<div>\n",
       "<style scoped>\n",
       "    .dataframe tbody tr th:only-of-type {\n",
       "        vertical-align: middle;\n",
       "    }\n",
       "\n",
       "    .dataframe tbody tr th {\n",
       "        vertical-align: top;\n",
       "    }\n",
       "\n",
       "    .dataframe thead th {\n",
       "        text-align: right;\n",
       "    }\n",
       "</style>\n",
       "<table border=\"1\" class=\"dataframe\">\n",
       "  <thead>\n",
       "    <tr style=\"text-align: right;\">\n",
       "      <th></th>\n",
       "      <th>이름</th>\n",
       "      <th>나이</th>\n",
       "    </tr>\n",
       "  </thead>\n",
       "  <tbody>\n",
       "    <tr>\n",
       "      <th>0</th>\n",
       "      <td>홍길동</td>\n",
       "      <td>20</td>\n",
       "    </tr>\n",
       "    <tr>\n",
       "      <th>1</th>\n",
       "      <td>이순신</td>\n",
       "      <td>21</td>\n",
       "    </tr>\n",
       "    <tr>\n",
       "      <th>2</th>\n",
       "      <td>김유신</td>\n",
       "      <td>23</td>\n",
       "    </tr>\n",
       "    <tr>\n",
       "      <th>3</th>\n",
       "      <td>유관순</td>\n",
       "      <td>24</td>\n",
       "    </tr>\n",
       "    <tr>\n",
       "      <th>4</th>\n",
       "      <td>강감찬</td>\n",
       "      <td>23</td>\n",
       "    </tr>\n",
       "  </tbody>\n",
       "</table>\n",
       "</div>"
      ]
     },
     "execution_count": 34,
     "metadata": {},
     "output_type": "execute_result"
    }
   ],
   "execution_count": 34
  },
  {
   "metadata": {
    "ExecuteTime": {
     "end_time": "2024-07-18T04:21:27.132161Z",
     "start_time": "2024-07-18T04:21:27.128710Z"
    }
   },
   "cell_type": "code",
   "source": [
    "# 3. 나이가 23세 이상만 출력\n",
    "df[df['나이'] >=23]"
   ],
   "id": "704bc648c96a4a95",
   "outputs": [
    {
     "data": {
      "text/plain": [
       "     학과   이름  나이\n",
       "2  인공지능  김유신  23\n",
       "3   통계학  유관순  24\n",
       "4   영문과  강감찬  23"
      ],
      "text/html": [
       "<div>\n",
       "<style scoped>\n",
       "    .dataframe tbody tr th:only-of-type {\n",
       "        vertical-align: middle;\n",
       "    }\n",
       "\n",
       "    .dataframe tbody tr th {\n",
       "        vertical-align: top;\n",
       "    }\n",
       "\n",
       "    .dataframe thead th {\n",
       "        text-align: right;\n",
       "    }\n",
       "</style>\n",
       "<table border=\"1\" class=\"dataframe\">\n",
       "  <thead>\n",
       "    <tr style=\"text-align: right;\">\n",
       "      <th></th>\n",
       "      <th>학과</th>\n",
       "      <th>이름</th>\n",
       "      <th>나이</th>\n",
       "    </tr>\n",
       "  </thead>\n",
       "  <tbody>\n",
       "    <tr>\n",
       "      <th>2</th>\n",
       "      <td>인공지능</td>\n",
       "      <td>김유신</td>\n",
       "      <td>23</td>\n",
       "    </tr>\n",
       "    <tr>\n",
       "      <th>3</th>\n",
       "      <td>통계학</td>\n",
       "      <td>유관순</td>\n",
       "      <td>24</td>\n",
       "    </tr>\n",
       "    <tr>\n",
       "      <th>4</th>\n",
       "      <td>영문과</td>\n",
       "      <td>강감찬</td>\n",
       "      <td>23</td>\n",
       "    </tr>\n",
       "  </tbody>\n",
       "</table>\n",
       "</div>"
      ]
     },
     "execution_count": 32,
     "metadata": {},
     "output_type": "execute_result"
    }
   ],
   "execution_count": 32
  },
  {
   "metadata": {
    "ExecuteTime": {
     "end_time": "2024-07-18T04:21:27.453314Z",
     "start_time": "2024-07-18T04:21:27.447247Z"
    }
   },
   "cell_type": "code",
   "source": [
    "# 4. 나이가 22세이상 25세 미만 데이터 출력\n",
    "df[(df['나이'] >= 22) & (df['나이'] < 25)]"
   ],
   "id": "c0e686dc659b55f6",
   "outputs": [
    {
     "data": {
      "text/plain": [
       "     학과   이름  나이\n",
       "2  인공지능  김유신  23\n",
       "3   통계학  유관순  24\n",
       "4   영문과  강감찬  23"
      ],
      "text/html": [
       "<div>\n",
       "<style scoped>\n",
       "    .dataframe tbody tr th:only-of-type {\n",
       "        vertical-align: middle;\n",
       "    }\n",
       "\n",
       "    .dataframe tbody tr th {\n",
       "        vertical-align: top;\n",
       "    }\n",
       "\n",
       "    .dataframe thead th {\n",
       "        text-align: right;\n",
       "    }\n",
       "</style>\n",
       "<table border=\"1\" class=\"dataframe\">\n",
       "  <thead>\n",
       "    <tr style=\"text-align: right;\">\n",
       "      <th></th>\n",
       "      <th>학과</th>\n",
       "      <th>이름</th>\n",
       "      <th>나이</th>\n",
       "    </tr>\n",
       "  </thead>\n",
       "  <tbody>\n",
       "    <tr>\n",
       "      <th>2</th>\n",
       "      <td>인공지능</td>\n",
       "      <td>김유신</td>\n",
       "      <td>23</td>\n",
       "    </tr>\n",
       "    <tr>\n",
       "      <th>3</th>\n",
       "      <td>통계학</td>\n",
       "      <td>유관순</td>\n",
       "      <td>24</td>\n",
       "    </tr>\n",
       "    <tr>\n",
       "      <th>4</th>\n",
       "      <td>영문과</td>\n",
       "      <td>강감찬</td>\n",
       "      <td>23</td>\n",
       "    </tr>\n",
       "  </tbody>\n",
       "</table>\n",
       "</div>"
      ]
     },
     "execution_count": 33,
     "metadata": {},
     "output_type": "execute_result"
    }
   ],
   "execution_count": 33
  },
  {
   "metadata": {},
   "cell_type": "code",
   "outputs": [],
   "execution_count": null,
   "source": "",
   "id": "fc0a8072dff649a7"
  }
 ],
 "metadata": {
  "kernelspec": {
   "display_name": "Python 3",
   "language": "python",
   "name": "python3"
  },
  "language_info": {
   "codemirror_mode": {
    "name": "ipython",
    "version": 2
   },
   "file_extension": ".py",
   "mimetype": "text/x-python",
   "name": "python",
   "nbconvert_exporter": "python",
   "pygments_lexer": "ipython2",
   "version": "2.7.6"
  }
 },
 "nbformat": 4,
 "nbformat_minor": 5
}
