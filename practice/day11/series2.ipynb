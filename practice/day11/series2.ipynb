{
 "cells": [
  {
   "cell_type": "code",
   "id": "initial_id",
   "metadata": {
    "collapsed": true,
    "ExecuteTime": {
     "end_time": "2024-07-18T03:13:16.404775Z",
     "start_time": "2024-07-18T03:13:16.193464Z"
    }
   },
   "source": [
    "import numpy as np\n",
    "import pandas as pd"
   ],
   "outputs": [],
   "execution_count": 2
  },
  {
   "metadata": {
    "ExecuteTime": {
     "end_time": "2024-07-18T03:20:08.597293Z",
     "start_time": "2024-07-18T03:20:08.590885Z"
    }
   },
   "cell_type": "code",
   "source": [
    "# page 204 진단문제\n",
    "# 20세 이상 24세 미만 결과 반환\n",
    "# 1. 리스트에 대한 자료형을 가지고 시리즈를 구성\n",
    "# 2. 2개의 조건을 사용할 경우 각 조건을 ()로 묶은 후 & 연산자를 이용\n",
    "name = ['홍길동', '김유신', '강감찬', '라이온', '유관순']\n",
    "age = [20, 22, 21, 19, 24]\n",
    "profile = pd.Series(age, index=name)\n",
    "profile[(profile >= 20) & (profile < 24)]\n"
   ],
   "id": "a59e8e965e17cff0",
   "outputs": [
    {
     "data": {
      "text/plain": [
       "홍길동    20\n",
       "김유신    22\n",
       "강감찬    21\n",
       "dtype: int64"
      ]
     },
     "execution_count": 21,
     "metadata": {},
     "output_type": "execute_result"
    }
   ],
   "execution_count": 21
  },
  {
   "metadata": {
    "ExecuteTime": {
     "end_time": "2024-07-18T03:20:11.713485Z",
     "start_time": "2024-07-18T03:20:11.709015Z"
    }
   },
   "cell_type": "code",
   "source": [
    "# profile 시리즈에 index=송혜교, age=40 추가\n",
    "profile['김수현'] = 35\n",
    "profile['송혜교'] = 40\n",
    "print(profile)"
   ],
   "id": "536e9e9b2f9d076f",
   "outputs": [
    {
     "name": "stdout",
     "output_type": "stream",
     "text": [
      "홍길동    20\n",
      "김유신    22\n",
      "강감찬    21\n",
      "라이온    19\n",
      "유관순    24\n",
      "김수현    35\n",
      "송혜교    40\n",
      "dtype: int64\n"
     ]
    }
   ],
   "execution_count": 22
  },
  {
   "metadata": {
    "ExecuteTime": {
     "end_time": "2024-07-18T03:20:14.136313Z",
     "start_time": "2024-07-18T03:20:14.132183Z"
    }
   },
   "cell_type": "code",
   "source": [
    "# 같은 index 일 경우 수정이 된다\n",
    "profile['라이온'] = 21\n",
    "print(profile)"
   ],
   "id": "e9bbb53bd340830b",
   "outputs": [
    {
     "name": "stdout",
     "output_type": "stream",
     "text": [
      "홍길동    20\n",
      "김유신    22\n",
      "강감찬    21\n",
      "라이온    21\n",
      "유관순    24\n",
      "김수현    35\n",
      "송혜교    40\n",
      "dtype: int64\n"
     ]
    }
   ],
   "execution_count": 23
  },
  {
   "metadata": {
    "ExecuteTime": {
     "end_time": "2024-07-18T03:20:16.156921Z",
     "start_time": "2024-07-18T03:20:16.152487Z"
    }
   },
   "cell_type": "code",
   "source": [
    "# 시리즈 삭제\n",
    "del profile['김유신']\n",
    "del profile['송혜교']\n",
    "print(profile)"
   ],
   "id": "3e82791a3920f708",
   "outputs": [
    {
     "name": "stdout",
     "output_type": "stream",
     "text": [
      "홍길동    20\n",
      "강감찬    21\n",
      "라이온    21\n",
      "유관순    24\n",
      "김수현    35\n",
      "dtype: int64\n"
     ]
    }
   ],
   "execution_count": 24
  },
  {
   "metadata": {
    "ExecuteTime": {
     "end_time": "2024-07-18T03:19:57.496980Z",
     "start_time": "2024-07-18T03:19:57.461149Z"
    }
   },
   "cell_type": "code",
   "source": [
    "# 시리즈 객체 삭제\n",
    "del profile"
   ],
   "id": "6d793d9d80bfc7bd",
   "outputs": [
    {
     "ename": "NameError",
     "evalue": "name 'profile' is not defined",
     "output_type": "error",
     "traceback": [
      "\u001B[0;31m---------------------------------------------------------------------------\u001B[0m",
      "\u001B[0;31mNameError\u001B[0m                                 Traceback (most recent call last)",
      "Cell \u001B[0;32mIn[20], line 2\u001B[0m\n\u001B[1;32m      1\u001B[0m \u001B[38;5;66;03m# 시리즈 객체 삭제\u001B[39;00m\n\u001B[0;32m----> 2\u001B[0m \u001B[38;5;28;01mdel\u001B[39;00m \u001B[43mprofile\u001B[49m\n\u001B[1;32m      3\u001B[0m \u001B[38;5;28mprint\u001B[39m(profile)\n",
      "\u001B[0;31mNameError\u001B[0m: name 'profile' is not defined"
     ]
    }
   ],
   "execution_count": 20
  },
  {
   "metadata": {},
   "cell_type": "code",
   "outputs": [],
   "execution_count": null,
   "source": "",
   "id": "e2b4ce369ab16caa"
  }
 ],
 "metadata": {
  "kernelspec": {
   "display_name": "Python 3",
   "language": "python",
   "name": "python3"
  },
  "language_info": {
   "codemirror_mode": {
    "name": "ipython",
    "version": 2
   },
   "file_extension": ".py",
   "mimetype": "text/x-python",
   "name": "python",
   "nbconvert_exporter": "python",
   "pygments_lexer": "ipython2",
   "version": "2.7.6"
  }
 },
 "nbformat": 4,
 "nbformat_minor": 5
}
