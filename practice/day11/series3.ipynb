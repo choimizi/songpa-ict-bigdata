{
 "cells": [
  {
   "cell_type": "code",
   "id": "initial_id",
   "metadata": {
    "collapsed": true,
    "ExecuteTime": {
     "end_time": "2024-07-18T03:31:36.366535Z",
     "start_time": "2024-07-18T03:31:36.360200Z"
    }
   },
   "source": [
    "import numpy as np\n",
    "import pandas as pd\n",
    "\n",
    "# page 198 결측치\n",
    "dic_data = {'kor': 90, 'eng': 80, 'math': 100, 'sci': 90}\n",
    "subject_index = ['kor', 'eng', 'math', 'soc']\n",
    "grade = pd.Series(dic_data, index=subject_index)\n",
    "print(grade)\n"
   ],
   "outputs": [
    {
     "name": "stdout",
     "output_type": "stream",
     "text": [
      "kor      90.0\n",
      "eng      80.0\n",
      "math    100.0\n",
      "soc       NaN\n",
      "dtype: float64\n"
     ]
    }
   ],
   "execution_count": 3
  },
  {
   "metadata": {
    "ExecuteTime": {
     "end_time": "2024-07-18T03:32:34.052691Z",
     "start_time": "2024-07-18T03:32:34.043794Z"
    }
   },
   "cell_type": "code",
   "source": "grade.to_frame()",
   "id": "ad7f48c2055b4c12",
   "outputs": [
    {
     "data": {
      "text/plain": [
       "          0\n",
       "kor    90.0\n",
       "eng    80.0\n",
       "math  100.0\n",
       "soc     NaN"
      ],
      "text/html": [
       "<div>\n",
       "<style scoped>\n",
       "    .dataframe tbody tr th:only-of-type {\n",
       "        vertical-align: middle;\n",
       "    }\n",
       "\n",
       "    .dataframe tbody tr th {\n",
       "        vertical-align: top;\n",
       "    }\n",
       "\n",
       "    .dataframe thead th {\n",
       "        text-align: right;\n",
       "    }\n",
       "</style>\n",
       "<table border=\"1\" class=\"dataframe\">\n",
       "  <thead>\n",
       "    <tr style=\"text-align: right;\">\n",
       "      <th></th>\n",
       "      <th>0</th>\n",
       "    </tr>\n",
       "  </thead>\n",
       "  <tbody>\n",
       "    <tr>\n",
       "      <th>kor</th>\n",
       "      <td>90.0</td>\n",
       "    </tr>\n",
       "    <tr>\n",
       "      <th>eng</th>\n",
       "      <td>80.0</td>\n",
       "    </tr>\n",
       "    <tr>\n",
       "      <th>math</th>\n",
       "      <td>100.0</td>\n",
       "    </tr>\n",
       "    <tr>\n",
       "      <th>soc</th>\n",
       "      <td>NaN</td>\n",
       "    </tr>\n",
       "  </tbody>\n",
       "</table>\n",
       "</div>"
      ]
     },
     "execution_count": 4,
     "metadata": {},
     "output_type": "execute_result"
    }
   ],
   "execution_count": 4
  },
  {
   "metadata": {
    "ExecuteTime": {
     "end_time": "2024-07-18T03:33:46.010248Z",
     "start_time": "2024-07-18T03:33:46.006754Z"
    }
   },
   "cell_type": "code",
   "source": "grade.isnull()",
   "id": "82eb0fcbaaac7751",
   "outputs": [
    {
     "data": {
      "text/plain": [
       "kor     False\n",
       "eng     False\n",
       "math    False\n",
       "soc      True\n",
       "dtype: bool"
      ]
     },
     "execution_count": 5,
     "metadata": {},
     "output_type": "execute_result"
    }
   ],
   "execution_count": 5
  },
  {
   "metadata": {
    "ExecuteTime": {
     "end_time": "2024-07-18T03:33:55.961403Z",
     "start_time": "2024-07-18T03:33:55.956581Z"
    }
   },
   "cell_type": "code",
   "source": "grade.isna()",
   "id": "bbf53e0ec15433e3",
   "outputs": [
    {
     "data": {
      "text/plain": [
       "kor     False\n",
       "eng     False\n",
       "math    False\n",
       "soc      True\n",
       "dtype: bool"
      ]
     },
     "execution_count": 6,
     "metadata": {},
     "output_type": "execute_result"
    }
   ],
   "execution_count": 6
  },
  {
   "metadata": {
    "ExecuteTime": {
     "end_time": "2024-07-18T03:34:02.154022Z",
     "start_time": "2024-07-18T03:34:02.150990Z"
    }
   },
   "cell_type": "code",
   "source": "grade.notnull()",
   "id": "670f89178bac8312",
   "outputs": [
    {
     "data": {
      "text/plain": [
       "kor      True\n",
       "eng      True\n",
       "math     True\n",
       "soc     False\n",
       "dtype: bool"
      ]
     },
     "execution_count": 7,
     "metadata": {},
     "output_type": "execute_result"
    }
   ],
   "execution_count": 7
  },
  {
   "metadata": {
    "ExecuteTime": {
     "end_time": "2024-07-18T03:34:24.422652Z",
     "start_time": "2024-07-18T03:34:24.418149Z"
    }
   },
   "cell_type": "code",
   "source": "grade.sum()",
   "id": "2bb361326bf814c8",
   "outputs": [
    {
     "data": {
      "text/plain": [
       "np.float64(270.0)"
      ]
     },
     "execution_count": 8,
     "metadata": {},
     "output_type": "execute_result"
    }
   ],
   "execution_count": 8
  },
  {
   "metadata": {
    "ExecuteTime": {
     "end_time": "2024-07-18T03:34:32.265030Z",
     "start_time": "2024-07-18T03:34:32.259756Z"
    }
   },
   "cell_type": "code",
   "source": "grade.mean()",
   "id": "b4954d050ef69e9e",
   "outputs": [
    {
     "data": {
      "text/plain": [
       "np.float64(90.0)"
      ]
     },
     "execution_count": 10,
     "metadata": {},
     "output_type": "execute_result"
    }
   ],
   "execution_count": 10
  },
  {
   "metadata": {
    "ExecuteTime": {
     "end_time": "2024-07-18T03:34:36.267420Z",
     "start_time": "2024-07-18T03:34:36.264712Z"
    }
   },
   "cell_type": "code",
   "source": "grade.count()",
   "id": "b292912459e72cd8",
   "outputs": [
    {
     "data": {
      "text/plain": [
       "np.int64(3)"
      ]
     },
     "execution_count": 11,
     "metadata": {},
     "output_type": "execute_result"
    }
   ],
   "execution_count": 11
  },
  {
   "metadata": {
    "ExecuteTime": {
     "end_time": "2024-07-18T03:44:48.151647Z",
     "start_time": "2024-07-18T03:44:48.145655Z"
    }
   },
   "cell_type": "code",
   "source": [
    "# 응용\n",
    "# 1. 다음과 같이 리스트 구조로 완성하신 후, se 라는 시리즈로 변경\n",
    "city = ['서울', '부산', '대구', '인천']\n",
    "temp = [18, 17, 16, 14]\n",
    "se=pd.Series(temp, index=city)\n",
    "print(se)"
   ],
   "id": "eea5aa658dedd5be",
   "outputs": [
    {
     "name": "stdout",
     "output_type": "stream",
     "text": [
      "서울    18\n",
      "부산    17\n",
      "대구    16\n",
      "인천    14\n",
      "dtype: int64\n"
     ]
    }
   ],
   "execution_count": 26
  },
  {
   "metadata": {
    "ExecuteTime": {
     "end_time": "2024-07-18T03:44:49.575300Z",
     "start_time": "2024-07-18T03:44:49.571776Z"
    }
   },
   "cell_type": "code",
   "source": [
    "# 2. se 시리즈에 다음 데이터 삽입  /   대전 = 19\n",
    "se['대전'] = 19\n",
    "print(se)"
   ],
   "id": "db712b6e974df8f1",
   "outputs": [
    {
     "name": "stdout",
     "output_type": "stream",
     "text": [
      "서울    18\n",
      "부산    17\n",
      "대구    16\n",
      "인천    14\n",
      "대전    19\n",
      "dtype: int64\n"
     ]
    }
   ],
   "execution_count": 27
  },
  {
   "metadata": {
    "ExecuteTime": {
     "end_time": "2024-07-18T03:44:50.698094Z",
     "start_time": "2024-07-18T03:44:50.693124Z"
    }
   },
   "cell_type": "code",
   "source": [
    "# 3. 시리즈에서 기온이 16이상 18 미만의 데이터 조회\n",
    "se[(se >= 16) & (se < 18)]"
   ],
   "id": "edba884e6d824712",
   "outputs": [
    {
     "data": {
      "text/plain": [
       "부산    17\n",
       "대구    16\n",
       "dtype: int64"
      ]
     },
     "execution_count": 28,
     "metadata": {},
     "output_type": "execute_result"
    }
   ],
   "execution_count": 28
  },
  {
   "metadata": {
    "ExecuteTime": {
     "end_time": "2024-07-18T03:44:51.786651Z",
     "start_time": "2024-07-18T03:44:51.783523Z"
    }
   },
   "cell_type": "code",
   "source": [
    "# 4. 부산 데이터를 20으로 수정\n",
    "se['부산'] = 20\n",
    "print(se)"
   ],
   "id": "638234ac7d1ccf81",
   "outputs": [
    {
     "name": "stdout",
     "output_type": "stream",
     "text": [
      "서울    18\n",
      "부산    20\n",
      "대구    16\n",
      "인천    14\n",
      "대전    19\n",
      "dtype: int64\n"
     ]
    }
   ],
   "execution_count": 29
  },
  {
   "metadata": {
    "ExecuteTime": {
     "end_time": "2024-07-18T03:45:00.849403Z",
     "start_time": "2024-07-18T03:45:00.845906Z"
    }
   },
   "cell_type": "code",
   "source": [
    "# 5. 서울에서 대구까지 index를 조회\n",
    "se.loc['서울':'대구']"
   ],
   "id": "cd6f999e9a95b6e5",
   "outputs": [
    {
     "data": {
      "text/plain": [
       "서울    18\n",
       "부산    20\n",
       "대구    16\n",
       "dtype: int64"
      ]
     },
     "execution_count": 30,
     "metadata": {},
     "output_type": "execute_result"
    }
   ],
   "execution_count": 30
  },
  {
   "metadata": {
    "ExecuteTime": {
     "end_time": "2024-07-18T03:45:04.170325Z",
     "start_time": "2024-07-18T03:45:04.166749Z"
    }
   },
   "cell_type": "code",
   "source": [
    "# 6. 대구 index를 삭제\n",
    "del se['대구']\n",
    "print(se)"
   ],
   "id": "7bfca04bb5a4930a",
   "outputs": [
    {
     "name": "stdout",
     "output_type": "stream",
     "text": [
      "서울    18\n",
      "부산    20\n",
      "인천    14\n",
      "대전    19\n",
      "dtype: int64\n"
     ]
    }
   ],
   "execution_count": 31
  },
  {
   "metadata": {
    "ExecuteTime": {
     "end_time": "2024-07-18T03:43:35.957802Z",
     "start_time": "2024-07-18T03:43:35.955254Z"
    }
   },
   "cell_type": "code",
   "source": [
    "# 7. se 시리즈를 삭제\n",
    "del se"
   ],
   "id": "c86f2790f6dcb691",
   "outputs": [],
   "execution_count": 25
  },
  {
   "metadata": {},
   "cell_type": "code",
   "outputs": [],
   "execution_count": null,
   "source": "",
   "id": "eed86656c4f0e55f"
  }
 ],
 "metadata": {
  "kernelspec": {
   "display_name": "Python 3",
   "language": "python",
   "name": "python3"
  },
  "language_info": {
   "codemirror_mode": {
    "name": "ipython",
    "version": 2
   },
   "file_extension": ".py",
   "mimetype": "text/x-python",
   "name": "python",
   "nbconvert_exporter": "python",
   "pygments_lexer": "ipython2",
   "version": "2.7.6"
  }
 },
 "nbformat": 4,
 "nbformat_minor": 5
}
