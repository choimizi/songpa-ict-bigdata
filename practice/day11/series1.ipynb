{
 "cells": [
  {
   "cell_type": "code",
   "id": "initial_id",
   "metadata": {
    "collapsed": true,
    "ExecuteTime": {
     "end_time": "2024-07-18T02:33:51.271537Z",
     "start_time": "2024-07-18T02:33:51.265840Z"
    }
   },
   "source": [
    "import numpy as np\n",
    "import pandas as pd\n",
    "\n",
    "# 1. 딕셔너리를 이용한 생성\n",
    "score_dict = {'kor': 90, 'eng': 80, 'math': 100}\n",
    "print(\"score dict type:\", type(score_dict))\n",
    "series1 = pd.Series(score_dict)\n",
    "print(series1)\n",
    "print(\"series1 type:\", type(series1))"
   ],
   "outputs": [
    {
     "name": "stdout",
     "output_type": "stream",
     "text": [
      "score dict type: <class 'dict'>\n",
      "kor      90\n",
      "eng      80\n",
      "math    100\n",
      "dtype: int64\n",
      "series1 type: <class 'pandas.core.series.Series'>\n"
     ]
    }
   ],
   "execution_count": 12
  },
  {
   "metadata": {
    "ExecuteTime": {
     "end_time": "2024-07-18T02:33:49.610924Z",
     "start_time": "2024-07-18T02:33:49.606086Z"
    }
   },
   "cell_type": "code",
   "source": [
    "# 2. 리스트를 이용한 생성\n",
    "score_list = [100, 50, 70, 90]\n",
    "print(\"score list type:\", type(score_list))\n",
    "series2 = pd.Series(score_list)\n",
    "print(series2)\n",
    "print(\"series2 type:\", type(series2))"
   ],
   "id": "1d25c80128a339b0",
   "outputs": [
    {
     "name": "stdout",
     "output_type": "stream",
     "text": [
      "score list type: <class 'list'>\n",
      "0    100\n",
      "1     50\n",
      "2     70\n",
      "3     90\n",
      "dtype: int64\n",
      "series2 type: <class 'pandas.core.series.Series'>\n"
     ]
    }
   ],
   "execution_count": 11
  },
  {
   "metadata": {
    "ExecuteTime": {
     "end_time": "2024-07-18T02:33:46.390231Z",
     "start_time": "2024-07-18T02:33:46.386969Z"
    }
   },
   "cell_type": "code",
   "source": [
    "# 3. arange를 이용한 생성\n",
    "score_arr = np.array([10, 50, 10])\n",
    "print(\"score arr type:\", type(score_arr))\n",
    "series3 = pd.Series(score_arr)\n",
    "print(series3)\n",
    "print(\"series3 type:\", type(series3))"
   ],
   "id": "fd2be0d3e2f0dadf",
   "outputs": [
    {
     "name": "stdout",
     "output_type": "stream",
     "text": [
      "score arr type: <class 'numpy.ndarray'>\n",
      "0    10\n",
      "1    50\n",
      "2    10\n",
      "dtype: int64\n",
      "series3 type: <class 'pandas.core.series.Series'>\n"
     ]
    }
   ],
   "execution_count": 10
  },
  {
   "metadata": {
    "ExecuteTime": {
     "end_time": "2024-07-18T02:49:41.030375Z",
     "start_time": "2024-07-18T02:49:41.024806Z"
    }
   },
   "cell_type": "code",
   "source": [
    "# 4. 직접 생성\n",
    "series4 = pd.Series([90, 80, 100], index=['kor', 'eng', 'math'])\n",
    "print(series4)\n",
    "print(\"series4 type:\", type(series4))"
   ],
   "id": "b3a046f47c7889fb",
   "outputs": [
    {
     "name": "stdout",
     "output_type": "stream",
     "text": [
      "kor      90\n",
      "eng      80\n",
      "math    100\n",
      "dtype: int64\n",
      "series4 type: <class 'pandas.core.series.Series'>\n"
     ]
    }
   ],
   "execution_count": 36
  },
  {
   "metadata": {
    "ExecuteTime": {
     "end_time": "2024-07-18T02:49:42.082893Z",
     "start_time": "2024-07-18T02:49:42.079169Z"
    }
   },
   "cell_type": "code",
   "source": [
    "# ======================================\n",
    "# 응용1 점수 80에서 100까지 슬라이싱으로 조회\n",
    "# series4.loc['eng':'math']\n",
    "series4.iloc[1:3]"
   ],
   "id": "f89a01c26b982a24",
   "outputs": [
    {
     "data": {
      "text/plain": [
       "eng      80\n",
       "math    100\n",
       "dtype: int64"
      ]
     },
     "execution_count": 37,
     "metadata": {},
     "output_type": "execute_result"
    }
   ],
   "execution_count": 37
  },
  {
   "metadata": {
    "ExecuteTime": {
     "end_time": "2024-07-18T02:49:43.776607Z",
     "start_time": "2024-07-18T02:49:43.773204Z"
    }
   },
   "cell_type": "code",
   "source": [
    "# 응용2 kor, math에 대해서 슬라이싱으로 조회\n",
    "series4.loc[['kor', 'math']]"
   ],
   "id": "c56aa97876ea2ee2",
   "outputs": [
    {
     "data": {
      "text/plain": [
       "kor      90\n",
       "math    100\n",
       "dtype: int64"
      ]
     },
     "execution_count": 38,
     "metadata": {},
     "output_type": "execute_result"
    }
   ],
   "execution_count": 38
  },
  {
   "metadata": {
    "ExecuteTime": {
     "end_time": "2024-07-18T02:49:44.321285Z",
     "start_time": "2024-07-18T02:49:44.318301Z"
    }
   },
   "cell_type": "code",
   "source": [
    "# 응용3 열 90,80에 대해서 슬라이싱으로 조회\n",
    "series4.iloc[0:2]"
   ],
   "id": "f025d5f94a46617",
   "outputs": [
    {
     "data": {
      "text/plain": [
       "kor    90\n",
       "eng    80\n",
       "dtype: int64"
      ]
     },
     "execution_count": 39,
     "metadata": {},
     "output_type": "execute_result"
    }
   ],
   "execution_count": 39
  },
  {
   "metadata": {
    "ExecuteTime": {
     "end_time": "2024-07-18T02:49:44.938864Z",
     "start_time": "2024-07-18T02:49:44.933325Z"
    }
   },
   "cell_type": "code",
   "source": [
    "# 시리즈 조회\n",
    "series4 >= 90"
   ],
   "id": "6c70f413ffc777cd",
   "outputs": [
    {
     "data": {
      "text/plain": [
       "kor      True\n",
       "eng     False\n",
       "math     True\n",
       "dtype: bool"
      ]
     },
     "execution_count": 40,
     "metadata": {},
     "output_type": "execute_result"
    }
   ],
   "execution_count": 40
  },
  {
   "metadata": {
    "ExecuteTime": {
     "end_time": "2024-07-18T02:50:03.342190Z",
     "start_time": "2024-07-18T02:50:03.338015Z"
    }
   },
   "cell_type": "code",
   "source": "series4[series4 >= 90]",
   "id": "603c0432da28c14c",
   "outputs": [
    {
     "data": {
      "text/plain": [
       "kor      90\n",
       "math    100\n",
       "dtype: int64"
      ]
     },
     "execution_count": 41,
     "metadata": {},
     "output_type": "execute_result"
    }
   ],
   "execution_count": 41
  },
  {
   "metadata": {
    "ExecuteTime": {
     "end_time": "2024-07-18T02:58:06.773874Z",
     "start_time": "2024-07-18T02:58:06.769766Z"
    }
   },
   "cell_type": "code",
   "source": [
    "# 응용\n",
    "# 시리즈 연산자를 이용해서 열에대한 데이터가 90점이상 100점 이하인 데이터를 조회\n",
    "series4[(series4 >= 90) & (series4 <= 100)]"
   ],
   "id": "26615c69765689ff",
   "outputs": [
    {
     "data": {
      "text/plain": [
       "kor      90\n",
       "math    100\n",
       "dtype: int64"
      ]
     },
     "execution_count": 54,
     "metadata": {},
     "output_type": "execute_result"
    }
   ],
   "execution_count": 54
  },
  {
   "metadata": {},
   "cell_type": "code",
   "outputs": [],
   "execution_count": null,
   "source": "",
   "id": "9926f4560d1b7e4e"
  }
 ],
 "metadata": {
  "kernelspec": {
   "display_name": "Python 3",
   "language": "python",
   "name": "python3"
  },
  "language_info": {
   "codemirror_mode": {
    "name": "ipython",
    "version": 2
   },
   "file_extension": ".py",
   "mimetype": "text/x-python",
   "name": "python",
   "nbconvert_exporter": "python",
   "pygments_lexer": "ipython2",
   "version": "2.7.6"
  }
 },
 "nbformat": 4,
 "nbformat_minor": 5
}
