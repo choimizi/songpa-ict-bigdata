{
 "cells": [
  {
   "cell_type": "code",
   "id": "initial_id",
   "metadata": {
    "collapsed": true,
    "ExecuteTime": {
     "end_time": "2024-07-18T01:54:34.155774Z",
     "start_time": "2024-07-18T01:54:34.147930Z"
    }
   },
   "source": [
    "import numpy as np\n",
    "\n",
    "# review2\n",
    "# 다음 grade 리스트 자료형의 데이터는 송파 중학교 5명 학생들에 대한 점수(국어, 영어, 수학) 데이터 값들이다.\n",
    "# 넘파이 배열을 이용하여 아래와 같이 국어평균, 영어평균, 수학평균 점수를 구하는 프로그램을 작성\n",
    "# 단, 각 평균점수는 소숫점 셋째자리에서 반올림\n",
    "# \n",
    "# grade = [[75,66,97],\n",
    "#          [77,79,63],\n",
    "#          [78,72,83],\n",
    "#          [52,85,39],\n",
    "#          [72,51,85]]\n",
    "# [실행결과]\n",
    "# 국어점수 평균 : 70.0\n",
    "# 영어점수 평균 : 70.6\n",
    "# 수학점수 평균 : 83.4\n",
    "\n",
    "grade = [[75, 66, 97],\n",
    "         [77, 79, 63],\n",
    "         [78, 72, 83],\n",
    "         [52, 85, 89],\n",
    "         [72, 51, 85]]\n",
    "\n",
    "np_grade = np.array(grade)\n",
    "sum_kor, sum_eng, sum_math = 0, 0, 0\n",
    "for kor, eng, math in np_grade:\n",
    "    sum_kor += kor\n",
    "    sum_eng += eng\n",
    "    sum_math += math\n",
    "\n",
    "kor_mean=(sum_kor/len(np_grade)).round(2)\n",
    "eng_mean=(sum_eng/len(np_grade)).round(2)\n",
    "math_mean=(sum_math/len(np_grade)).round(2)\n",
    "\n",
    "# print(f\"{sum_kor/3:.2f} {sum_eng/3:.2f} {sum_math/3:.2f}\")\n",
    "\n",
    "print(f\"국어점수 평균: {kor_mean}\\n영어점수 평균: {eng_mean}\\n수학점수 평균: {math_mean}\")"
   ],
   "outputs": [
    {
     "name": "stdout",
     "output_type": "stream",
     "text": [
      "국어점수 평균: 70.8\n",
      "영어점수 평균: 70.6\n",
      "수학점수 평균: 83.4\n"
     ]
    }
   ],
   "execution_count": 12
  },
  {
   "metadata": {
    "ExecuteTime": {
     "end_time": "2024-07-18T01:59:52.336765Z",
     "start_time": "2024-07-18T01:59:52.329460Z"
    }
   },
   "cell_type": "code",
   "source": [
    "kor = np_grade[:, 0:1]  # np_grade[:, 1]\n",
    "eng = np_grade[:, 1:2]  # np_grade[:, 2]\n",
    "math = np_grade[:, 2:3]  # np_grade[:, 3]\n",
    "\n",
    "print(f\"\"\"\n",
    "국어점수 평균 : {np.round(np.mean(kor), 2)}\n",
    "영어점수 평균 : {np.round(np.mean(eng), 2)}\n",
    "수학점수 평균 : {np.round(np.mean(math), 2)}\n",
    "\"\"\")"
   ],
   "id": "123611780472044e",
   "outputs": [
    {
     "name": "stdout",
     "output_type": "stream",
     "text": [
      "\n",
      "국어점수 평균 : 70.8\n",
      "영어점수 평균 : 70.6\n",
      "수학점수 평균 : 83.4\n",
      "\n"
     ]
    }
   ],
   "execution_count": 13
  },
  {
   "metadata": {},
   "cell_type": "code",
   "outputs": [],
   "execution_count": null,
   "source": "",
   "id": "7f2fde9c21149248"
  }
 ],
 "metadata": {
  "kernelspec": {
   "display_name": "Python 3",
   "language": "python",
   "name": "python3"
  },
  "language_info": {
   "codemirror_mode": {
    "name": "ipython",
    "version": 2
   },
   "file_extension": ".py",
   "mimetype": "text/x-python",
   "name": "python",
   "nbconvert_exporter": "python",
   "pygments_lexer": "ipython2",
   "version": "2.7.6"
  }
 },
 "nbformat": 4,
 "nbformat_minor": 5
}
