{
 "cells": [
  {
   "cell_type": "code",
   "id": "initial_id",
   "metadata": {
    "collapsed": true,
    "ExecuteTime": {
     "end_time": "2024-07-18T01:21:01.144364Z",
     "start_time": "2024-07-18T01:21:01.135165Z"
    }
   },
   "source": [
    "import numpy as np\n",
    "\n",
    "# review\n",
    "\n",
    "# 아래 리스트 자료형 변수 (heights,weights)에는 '송파 퓌트니스' 신규회원 5명에 대해 키(height)와 몸무게(weight) 데이터 값이 들어있다\n",
    "# 리스트 항목에 대한 데이터를 활용해서 배열로 변환 후,\n",
    "# [실행결과]와 같이 회원들에 대한 키, 몸무게, BMI 결과, 비만대상자(BMI 25이상) 수를 Numpy 배열을 이용하여 출력.\n",
    "# 단, BMI 비만도=(weights/heights**2)이며, 평균키, 평균몸무게, BMI, BMI평균은 소수 셋째자리에서 반올림하여 둘째자리까지 출력\n",
    "heights = [1.83, 1.76, 1.69, 1.77, 1.73]\n",
    "weights = [85, 74, 59, 80, 68]\n",
    "np_heights = np.array(heights)  # numpy array로 변경\n",
    "np_weights = np.array(weights)  # numpy array로 변경\n",
    "\n",
    "bmi = (np_weights / (np_heights ** 2)).round(2) # BMI를 구해서 소숫점 2째자리까지\n",
    "print(bmi)\n",
    "\n",
    "heights_avg = np.round(np.mean(np_heights), 2) # 키의 평균을 구해서 소숫점 2째자리까지\n",
    "weights_avg = np.round(np.mean(np_weights), 2) # 몸무게의 평균을 구해서 소숫점 2째자리까지\n",
    "bmi_avg = np.round(np.mean(bmi), 2)            # BMI의 평균을 구해서 소숫점 2째자리까지\n",
    "\n",
    "bmi_count = 0\n",
    "for b in bmi:\n",
    "    if b > 25:          # BMI 지수가 25이상인 사람을 count\n",
    "        bmi_count += 1\n",
    "\n",
    "print(f\"{'신규 회원들의 키 :':<30}{heights}\")\n",
    "print(f\"{'신규 회원들의 평균 키 :':<30}{heights_avg}\")\n",
    "print(f\"{'신규 회원들의 몸무게 :':<30}{weights}\")\n",
    "print(f\"{'신규 회원들의 평균 몸무게 :':<30}{weights_avg}\")\n",
    "print(f\"{'신규 회원들의 BMI :':<30}{bmi}\")\n",
    "print(f\"{'신규 회원들의 평균 BMI :':<30}{bmi_avg}\")\n",
    "print(f\"{'신규 회원 BMI 비만 대상자':<30}{bmi_count}명\")\n",
    "\n"
   ],
   "outputs": [
    {
     "name": "stdout",
     "output_type": "stream",
     "text": [
      "[25.38 23.89 20.66 25.54 22.72]\n",
      "신규 회원들의 키 :                   [1.83, 1.76, 1.69, 1.77, 1.73]\n",
      "신규 회원들의 평균 키 :                1.76\n",
      "신규 회원들의 몸무게 :                 [85, 74, 59, 80, 68]\n",
      "신규 회원들의 평균 몸무게 :              73.2\n",
      "신규 회원들의 BMI :                 [25.38 23.89 20.66 25.54 22.72]\n",
      "신규 회원들의 평균 BMI :              23.64\n",
      "신규 회원 BMI 비만 대상자              2명\n"
     ]
    }
   ],
   "execution_count": 21
  },
  {
   "metadata": {
    "ExecuteTime": {
     "end_time": "2024-07-18T01:37:10.347044Z",
     "start_time": "2024-07-18T01:37:10.341889Z"
    }
   },
   "cell_type": "code",
   "source": [
    "def members(n):\n",
    "    result = \"\"\n",
    "    for i in n:\n",
    "        result += f\"{i:.2f} \"\n",
    "    return result\n",
    "\n",
    "\n",
    "print(f\"{'신규 회원들의 키 :':<30}{members(heights)}\")\n",
    "print(f\"{'신규 회원들의 평균 키 :':<30}{heights_avg}\")\n",
    "print(f\"{'신규 회원들의 몸무게 :':<30}{members(weights)}\")\n",
    "print(f\"{'신규 회원들의 평균 몸무게 :':<30}{weights_avg}\")\n",
    "print(f\"{'신규 회원들의 BMI :':<30}{members(bmi)}\")\n",
    "print(f\"{'신규 회원들의 평균 BMI :':<30}{bmi_avg}\")\n",
    "print(f\"{'신규 회원 BMI 비만 대상자':<30}{bmi_count}명\")\n"
   ],
   "id": "25bd9a0705b9aaa9",
   "outputs": [
    {
     "name": "stdout",
     "output_type": "stream",
     "text": [
      "신규 회원들의 키 :                   1.83 1.76 1.69 1.77 1.73 \n",
      "신규 회원들의 평균 키 :                1.76\n",
      "신규 회원들의 몸무게 :                 85.00 74.00 59.00 80.00 68.00 \n",
      "신규 회원들의 평균 몸무게 :              73.2\n",
      "신규 회원들의 BMI :                 25.38 23.89 20.66 25.54 22.72 \n",
      "신규 회원들의 평균 BMI :              23.64\n",
      "신규 회원 BMI 비만 대상자              2명\n"
     ]
    }
   ],
   "execution_count": 27
  },
  {
   "metadata": {},
   "cell_type": "code",
   "outputs": [],
   "execution_count": null,
   "source": "",
   "id": "7d0e0e1aa25de02c"
  }
 ],
 "metadata": {
  "kernelspec": {
   "display_name": "Python 3",
   "language": "python",
   "name": "python3"
  },
  "language_info": {
   "codemirror_mode": {
    "name": "ipython",
    "version": 2
   },
   "file_extension": ".py",
   "mimetype": "text/x-python",
   "name": "python",
   "nbconvert_exporter": "python",
   "pygments_lexer": "ipython2",
   "version": "2.7.6"
  }
 },
 "nbformat": 4,
 "nbformat_minor": 5
}
