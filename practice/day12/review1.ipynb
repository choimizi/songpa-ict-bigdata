{
 "cells": [
  {
   "cell_type": "code",
   "id": "initial_id",
   "metadata": {
    "collapsed": true,
    "ExecuteTime": {
     "end_time": "2024-07-19T00:46:45.657001Z",
     "start_time": "2024-07-19T00:46:45.648793Z"
    }
   },
   "source": [
    "import numpy as np\n",
    "import pandas as pd\n",
    "\n",
    "# 1. 다음 강수량에 대한 데이터를 참고하여 시리즈 데이터를 생성. 이때 지역명이 index 이다.\n",
    "# 춘천 20.50\n",
    "# 통영 22.30\n",
    "# 인천 21.70\n",
    "# 대전 29.10\n",
    "# 광주 12.80\n",
    "# 2. '광주' index를 22.3으로 수정\n",
    "# 3. 다음 두 도시를 index에 추가\n",
    "# 서울 = 28.2\n",
    "# 제주 = 23.3\n",
    "# 4. 통영부터 광주까지 문자열 인덱스를 슬라이싱\n",
    "# 5. 춘천, 서울, 제주 문자열 인덱스를 슬라이싱\n",
    "# 6. 강수량이 23보다 크고 30미만의 데이터에 대해 조회\n",
    "# 7. 시리즈를 Numpy 배열로 반환 후 [실행결과]와 같이 출력\n",
    "\n",
    "# Series\n",
    "# 1. 데이터 생성\n",
    "series = pd.Series([20.50, 22.30, 21.70, 29.10, 12.80], index=['춘천', '통영', '인천', '대전', '광주'])\n",
    "print(series)"
   ],
   "outputs": [
    {
     "name": "stdout",
     "output_type": "stream",
     "text": [
      "춘천    20.5\n",
      "통영    22.3\n",
      "인천    21.7\n",
      "대전    29.1\n",
      "광주    12.8\n",
      "dtype: float64\n"
     ]
    }
   ],
   "execution_count": 2
  },
  {
   "metadata": {
    "ExecuteTime": {
     "end_time": "2024-07-19T00:48:12.807124Z",
     "start_time": "2024-07-19T00:48:12.804541Z"
    }
   },
   "cell_type": "code",
   "source": [
    "# 2. '광주' index를 22.3으로 수정\n",
    "series['광주'] = 22.3\n",
    "print(series)"
   ],
   "id": "9852a27b03398932",
   "outputs": [
    {
     "name": "stdout",
     "output_type": "stream",
     "text": [
      "춘천    20.5\n",
      "통영    22.3\n",
      "인천    21.7\n",
      "대전    29.1\n",
      "광주    22.3\n",
      "dtype: float64\n"
     ]
    }
   ],
   "execution_count": 3
  },
  {
   "metadata": {
    "ExecuteTime": {
     "end_time": "2024-07-19T06:57:37.998149Z",
     "start_time": "2024-07-19T06:57:37.986951Z"
    }
   },
   "cell_type": "code",
   "source": [
    "# 3. 다음 두 도시를 index에 추가\n",
    "# 서울 = 28.2\n",
    "# 제주 = 23.3\n",
    "series['서울'] = 28.2\n",
    "series['제주'] = 23.3"
   ],
   "id": "5fe1d45cf66ed43a",
   "outputs": [
    {
     "data": {
      "text/plain": [
       "       0\n",
       "춘천  20.5\n",
       "통영  22.3\n",
       "인천  21.7\n",
       "대전  29.1\n",
       "광주  22.3\n",
       "서울  28.2\n",
       "제주  23.3"
      ],
      "text/html": [
       "<div>\n",
       "<style scoped>\n",
       "    .dataframe tbody tr th:only-of-type {\n",
       "        vertical-align: middle;\n",
       "    }\n",
       "\n",
       "    .dataframe tbody tr th {\n",
       "        vertical-align: top;\n",
       "    }\n",
       "\n",
       "    .dataframe thead th {\n",
       "        text-align: right;\n",
       "    }\n",
       "</style>\n",
       "<table border=\"1\" class=\"dataframe\">\n",
       "  <thead>\n",
       "    <tr style=\"text-align: right;\">\n",
       "      <th></th>\n",
       "      <th>0</th>\n",
       "    </tr>\n",
       "  </thead>\n",
       "  <tbody>\n",
       "    <tr>\n",
       "      <th>춘천</th>\n",
       "      <td>20.5</td>\n",
       "    </tr>\n",
       "    <tr>\n",
       "      <th>통영</th>\n",
       "      <td>22.3</td>\n",
       "    </tr>\n",
       "    <tr>\n",
       "      <th>인천</th>\n",
       "      <td>21.7</td>\n",
       "    </tr>\n",
       "    <tr>\n",
       "      <th>대전</th>\n",
       "      <td>29.1</td>\n",
       "    </tr>\n",
       "    <tr>\n",
       "      <th>광주</th>\n",
       "      <td>22.3</td>\n",
       "    </tr>\n",
       "    <tr>\n",
       "      <th>서울</th>\n",
       "      <td>28.2</td>\n",
       "    </tr>\n",
       "    <tr>\n",
       "      <th>제주</th>\n",
       "      <td>23.3</td>\n",
       "    </tr>\n",
       "  </tbody>\n",
       "</table>\n",
       "</div>"
      ]
     },
     "execution_count": 56,
     "metadata": {},
     "output_type": "execute_result"
    }
   ],
   "execution_count": 56
  },
  {
   "metadata": {
    "ExecuteTime": {
     "end_time": "2024-07-19T01:22:06.082675Z",
     "start_time": "2024-07-19T01:22:06.076425Z"
    }
   },
   "cell_type": "code",
   "source": [
    "# 4. 통영부터 광주까지 문자열 인덱스를 슬라이싱\n",
    "series.loc['통영':'광주']"
   ],
   "id": "78ff7166f1f808e5",
   "outputs": [
    {
     "data": {
      "text/plain": [
       "통영    22.3\n",
       "인천    21.7\n",
       "대전    29.1\n",
       "광주    22.3\n",
       "dtype: float64"
      ]
     },
     "execution_count": 43,
     "metadata": {},
     "output_type": "execute_result"
    }
   ],
   "execution_count": 43
  },
  {
   "metadata": {
    "ExecuteTime": {
     "end_time": "2024-07-19T01:22:07.717013Z",
     "start_time": "2024-07-19T01:22:07.711507Z"
    }
   },
   "cell_type": "code",
   "source": [
    "# 5. 춘천, 서울, 제주 문자열 인덱스를 슬라이싱\n",
    "series.loc[['춘천', '서울', '제주']]"
   ],
   "id": "ff3026ff777a52ae",
   "outputs": [
    {
     "data": {
      "text/plain": [
       "춘천    20.5\n",
       "서울    28.2\n",
       "제주    23.3\n",
       "dtype: float64"
      ]
     },
     "execution_count": 44,
     "metadata": {},
     "output_type": "execute_result"
    }
   ],
   "execution_count": 44
  },
  {
   "metadata": {
    "ExecuteTime": {
     "end_time": "2024-07-19T01:22:09.424416Z",
     "start_time": "2024-07-19T01:22:09.416880Z"
    }
   },
   "cell_type": "code",
   "source": [
    "# 6. 강수량이 23보다 크고 30미만의 데이터에 대해 조회\n",
    "series[(series > 23) & (series < 30)]"
   ],
   "id": "bc6bc257091612b0",
   "outputs": [
    {
     "data": {
      "text/plain": [
       "대전    29.1\n",
       "서울    28.2\n",
       "제주    23.3\n",
       "dtype: float64"
      ]
     },
     "execution_count": 45,
     "metadata": {},
     "output_type": "execute_result"
    }
   ],
   "execution_count": 45
  },
  {
   "metadata": {
    "ExecuteTime": {
     "end_time": "2024-07-19T02:15:22.897826Z",
     "start_time": "2024-07-19T02:15:22.888471Z"
    }
   },
   "cell_type": "code",
   "source": [
    "# 7. 시리즈를 Numpy 배열로 반환 후 [실행결과]와 같이 출력\n",
    "# 풀이1\n",
    "series_index = series.index\n",
    "series_column = series.values\n",
    "series_zip = zip(series_index, series_column)\n",
    "series_arr = np.array(list(series_zip))\n",
    "# print(series_arr)\n",
    "\n",
    "print(\" 도시 \\t\\t 강우량\")\n",
    "print(\"=\" * 20)\n",
    "for city, precipitation in series_arr:\n",
    "    print(f\"{city} 도시\\t\\t강우량 {precipitation}\")"
   ],
   "id": "157e6d5153950b7a",
   "outputs": [
    {
     "name": "stdout",
     "output_type": "stream",
     "text": [
      "[['춘천' '20.5']\n",
      " ['통영' '22.3']\n",
      " ['인천' '21.7']\n",
      " ['대전' '29.1']\n",
      " ['광주' '22.3']\n",
      " ['서울' '28.2']\n",
      " ['제주' '23.3']]\n",
      " 도시 \t\t 강우량\n",
      "====================\n",
      "춘천 도시\t\t강우량 20.5\n",
      "통영 도시\t\t강우량 22.3\n",
      "인천 도시\t\t강우량 21.7\n",
      "대전 도시\t\t강우량 29.1\n",
      "광주 도시\t\t강우량 22.3\n",
      "서울 도시\t\t강우량 28.2\n",
      "제주 도시\t\t강우량 23.3\n"
     ]
    }
   ],
   "execution_count": 52
  },
  {
   "metadata": {
    "ExecuteTime": {
     "end_time": "2024-07-19T06:59:44.782145Z",
     "start_time": "2024-07-19T06:59:44.774563Z"
    }
   },
   "cell_type": "code",
   "source": [
    "# 풀이2\n",
    "series_index_np = np.array(series.index)\n",
    "series_column_np = series.values    # type(series.values) ==> numpy.ndarray\n",
    "series_zip_np = zip(series_index_np, series_column_np)\n",
    "\n",
    "for i,j in series_zip_np:\n",
    "    print(f\"{i} 도시 강우량 {j:.2f}\")"
   ],
   "id": "63a310243198bc76",
   "outputs": [
    {
     "name": "stdout",
     "output_type": "stream",
     "text": [
      "춘천 도시 강우량 20.50\n",
      "통영 도시 강우량 22.30\n",
      "인천 도시 강우량 21.70\n",
      "대전 도시 강우량 29.10\n",
      "광주 도시 강우량 12.80\n"
     ]
    }
   ],
   "execution_count": 63
  },
  {
   "metadata": {
    "ExecuteTime": {
     "end_time": "2024-07-19T07:01:42.116393Z",
     "start_time": "2024-07-19T07:01:42.107411Z"
    }
   },
   "cell_type": "code",
   "source": [
    "# series.index.to_frame()\n",
    "type(series.index)"
   ],
   "id": "b3ff308a36ee085f",
   "outputs": [
    {
     "data": {
      "text/plain": [
       "pandas.core.indexes.base.Index"
      ]
     },
     "execution_count": 64,
     "metadata": {},
     "output_type": "execute_result"
    }
   ],
   "execution_count": 64
  },
  {
   "metadata": {
    "ExecuteTime": {
     "end_time": "2024-07-19T07:02:16.628944Z",
     "start_time": "2024-07-19T07:02:16.624330Z"
    }
   },
   "cell_type": "code",
   "source": [
    "series = pd.Series([20.50, 22.30, 21.70, 29.10, 12.80], index=['춘천', '통영', '인천', '대전', '광주'])\n",
    "type(series.values)"
   ],
   "id": "ba3dc4084baec891",
   "outputs": [
    {
     "data": {
      "text/plain": [
       "numpy.ndarray"
      ]
     },
     "execution_count": 66,
     "metadata": {},
     "output_type": "execute_result"
    }
   ],
   "execution_count": 66
  },
  {
   "metadata": {},
   "cell_type": "code",
   "outputs": [],
   "execution_count": null,
   "source": "",
   "id": "f0518ee921ec7c97"
  }
 ],
 "metadata": {
  "kernelspec": {
   "display_name": "Python 3",
   "language": "python",
   "name": "python3"
  },
  "language_info": {
   "codemirror_mode": {
    "name": "ipython",
    "version": 2
   },
   "file_extension": ".py",
   "mimetype": "text/x-python",
   "name": "python",
   "nbconvert_exporter": "python",
   "pygments_lexer": "ipython2",
   "version": "2.7.6"
  }
 },
 "nbformat": 4,
 "nbformat_minor": 5
}
