{
 "cells": [
  {
   "cell_type": "code",
   "id": "initial_id",
   "metadata": {
    "collapsed": true,
    "ExecuteTime": {
     "end_time": "2024-07-19T01:53:13.656543Z",
     "start_time": "2024-07-19T01:53:13.650378Z"
    }
   },
   "source": [
    "import numpy as np\n",
    "import pandas as pd\n",
    "\n",
    "\"\"\"\n",
    "1. 파이썬 딕셔너리 자료형을 사용하여 다음과 같은 데이터프레임을 생성. 데이터프레임 변수는 df1이다.\n",
    "학교명     설립년도    순위  합격률\n",
    "하버드      1636       3  3.41\n",
    "예일       1701       3   4.35\n",
    "프린스턴    1746       1   4.00\n",
    "컬럼비아    1754       18  3.93\n",
    "펜실베니아   1755       7   4.1\n",
    "\"\"\"\n",
    "\n",
    "university = {'학교명': ['하버드', '예일', '프린스턴', '컬럼비아', '펜실베니아'],\n",
    "              '설립년도': [1636, 1701, 1746, 1754, 1755],\n",
    "              '순위': [3, 3, 1, 18, 7],\n",
    "              '합격률': [3.41, 4.35, 4.00, 3.93, 4.1]}\n",
    "df1 = pd.DataFrame(university)\n",
    "print(df1)"
   ],
   "outputs": [
    {
     "name": "stdout",
     "output_type": "stream",
     "text": [
      "     학교명  설립년도  순위   합격률\n",
      "0    하버드  1636   3  3.41\n",
      "1     예일  1701   3  4.35\n",
      "2   프린스턴  1746   1  4.00\n",
      "3   컬럼비아  1754  18  3.93\n",
      "4  펜실베니아  1755   7  4.10\n"
     ]
    }
   ],
   "execution_count": 7
  },
  {
   "metadata": {
    "ExecuteTime": {
     "end_time": "2024-07-19T01:53:10.308629Z",
     "start_time": "2024-07-19T01:53:10.301372Z"
    }
   },
   "cell_type": "code",
   "source": [
    "\"\"\"\n",
    "2. 파이썬 리스트 자료형을 사용하여 다음과 같은 데이터프레임을 생성.\n",
    "Python, C, Java, C++, C#은 index, 데이터프레임 변수는 df2이다.\n",
    "         2022   2023   2024\n",
    "Python  17.18  13.45  13.97\n",
    "C       15.08  13.35  11.44\n",
    "Java    11.98  12.22   7.87\n",
    "C++     10.75  11.96   9.96\n",
    "C#       4.25   7.43   7.16\n",
    "\"\"\"\n",
    "lang = [[17.18, 13.45, 13.97],\n",
    "        [15.08, 13.35, 11.44],\n",
    "        [11.98, 12.22, 7.87],\n",
    "        [10.75, 11.96, 9.96],\n",
    "        [4.25, 7.43, 7.16]]\n",
    "df2 = pd.DataFrame(lang, index=[\"Python\", \"C\", \"Java\", \"C++\", \"C#\"], columns=[2022, 2023, 2024])\n",
    "print(df2)"
   ],
   "id": "bd536eb67e70d1a0",
   "outputs": [
    {
     "name": "stdout",
     "output_type": "stream",
     "text": [
      "         2022   2023   2024\n",
      "Python  17.18  13.45  13.97\n",
      "C       15.08  13.35  11.44\n",
      "Java    11.98  12.22   7.87\n",
      "C++     10.75  11.96   9.96\n",
      "C#       4.25   7.43   7.16\n"
     ]
    }
   ],
   "execution_count": 6
  },
  {
   "metadata": {},
   "cell_type": "code",
   "outputs": [],
   "execution_count": null,
   "source": "",
   "id": "6a7c3292845a1556"
  }
 ],
 "metadata": {
  "kernelspec": {
   "display_name": "Python 3",
   "language": "python",
   "name": "python3"
  },
  "language_info": {
   "codemirror_mode": {
    "name": "ipython",
    "version": 2
   },
   "file_extension": ".py",
   "mimetype": "text/x-python",
   "name": "python",
   "nbconvert_exporter": "python",
   "pygments_lexer": "ipython2",
   "version": "2.7.6"
  }
 },
 "nbformat": 4,
 "nbformat_minor": 5
}
