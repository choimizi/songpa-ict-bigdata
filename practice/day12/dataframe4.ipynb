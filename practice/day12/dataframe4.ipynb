{
 "cells": [
  {
   "cell_type": "code",
   "id": "initial_id",
   "metadata": {
    "collapsed": true,
    "ExecuteTime": {
     "end_time": "2024-07-19T04:09:23.690599Z",
     "start_time": "2024-07-19T04:09:23.682349Z"
    }
   },
   "source": [
    "import pandas as pd\n",
    "\n",
    "file = pd.read_csv(\"../file_processing/job.csv\", encoding=\"utf-8\")\n",
    "file"
   ],
   "outputs": [
    {
     "data": {
      "text/plain": [
       "  name from  age  job\n",
       "0  나은미   경기   23   학생\n",
       "1  정다혜   서울   35   교사\n",
       "2  이은형   충남   29  공무원\n",
       "3  김은미   강원   31  회사원\n",
       "4  최성주   제주   35  매니저\n",
       "5  오달수   강원   55   배우"
      ],
      "text/html": [
       "<div>\n",
       "<style scoped>\n",
       "    .dataframe tbody tr th:only-of-type {\n",
       "        vertical-align: middle;\n",
       "    }\n",
       "\n",
       "    .dataframe tbody tr th {\n",
       "        vertical-align: top;\n",
       "    }\n",
       "\n",
       "    .dataframe thead th {\n",
       "        text-align: right;\n",
       "    }\n",
       "</style>\n",
       "<table border=\"1\" class=\"dataframe\">\n",
       "  <thead>\n",
       "    <tr style=\"text-align: right;\">\n",
       "      <th></th>\n",
       "      <th>name</th>\n",
       "      <th>from</th>\n",
       "      <th>age</th>\n",
       "      <th>job</th>\n",
       "    </tr>\n",
       "  </thead>\n",
       "  <tbody>\n",
       "    <tr>\n",
       "      <th>0</th>\n",
       "      <td>나은미</td>\n",
       "      <td>경기</td>\n",
       "      <td>23</td>\n",
       "      <td>학생</td>\n",
       "    </tr>\n",
       "    <tr>\n",
       "      <th>1</th>\n",
       "      <td>정다혜</td>\n",
       "      <td>서울</td>\n",
       "      <td>35</td>\n",
       "      <td>교사</td>\n",
       "    </tr>\n",
       "    <tr>\n",
       "      <th>2</th>\n",
       "      <td>이은형</td>\n",
       "      <td>충남</td>\n",
       "      <td>29</td>\n",
       "      <td>공무원</td>\n",
       "    </tr>\n",
       "    <tr>\n",
       "      <th>3</th>\n",
       "      <td>김은미</td>\n",
       "      <td>강원</td>\n",
       "      <td>31</td>\n",
       "      <td>회사원</td>\n",
       "    </tr>\n",
       "    <tr>\n",
       "      <th>4</th>\n",
       "      <td>최성주</td>\n",
       "      <td>제주</td>\n",
       "      <td>35</td>\n",
       "      <td>매니저</td>\n",
       "    </tr>\n",
       "    <tr>\n",
       "      <th>5</th>\n",
       "      <td>오달수</td>\n",
       "      <td>강원</td>\n",
       "      <td>55</td>\n",
       "      <td>배우</td>\n",
       "    </tr>\n",
       "  </tbody>\n",
       "</table>\n",
       "</div>"
      ]
     },
     "execution_count": 3,
     "metadata": {},
     "output_type": "execute_result"
    }
   ],
   "execution_count": 3
  },
  {
   "metadata": {
    "ExecuteTime": {
     "end_time": "2024-07-19T04:09:46.997136Z",
     "start_time": "2024-07-19T04:09:46.990011Z"
    }
   },
   "cell_type": "code",
   "source": [
    "# 불러온 job.csv 파일을 데이터프레임으로 가져와 age가 30대인 데이터를 조회\n",
    "file[(file['age'] >= 30) & (file['age'] < 40)]"
   ],
   "id": "76f9adec66f49d0f",
   "outputs": [
    {
     "data": {
      "text/plain": [
       "  name from  age  job\n",
       "1  정다혜   서울   35   교사\n",
       "3  김은미   강원   31  회사원\n",
       "4  최성주   제주   35  매니저"
      ],
      "text/html": [
       "<div>\n",
       "<style scoped>\n",
       "    .dataframe tbody tr th:only-of-type {\n",
       "        vertical-align: middle;\n",
       "    }\n",
       "\n",
       "    .dataframe tbody tr th {\n",
       "        vertical-align: top;\n",
       "    }\n",
       "\n",
       "    .dataframe thead th {\n",
       "        text-align: right;\n",
       "    }\n",
       "</style>\n",
       "<table border=\"1\" class=\"dataframe\">\n",
       "  <thead>\n",
       "    <tr style=\"text-align: right;\">\n",
       "      <th></th>\n",
       "      <th>name</th>\n",
       "      <th>from</th>\n",
       "      <th>age</th>\n",
       "      <th>job</th>\n",
       "    </tr>\n",
       "  </thead>\n",
       "  <tbody>\n",
       "    <tr>\n",
       "      <th>1</th>\n",
       "      <td>정다혜</td>\n",
       "      <td>서울</td>\n",
       "      <td>35</td>\n",
       "      <td>교사</td>\n",
       "    </tr>\n",
       "    <tr>\n",
       "      <th>3</th>\n",
       "      <td>김은미</td>\n",
       "      <td>강원</td>\n",
       "      <td>31</td>\n",
       "      <td>회사원</td>\n",
       "    </tr>\n",
       "    <tr>\n",
       "      <th>4</th>\n",
       "      <td>최성주</td>\n",
       "      <td>제주</td>\n",
       "      <td>35</td>\n",
       "      <td>매니저</td>\n",
       "    </tr>\n",
       "  </tbody>\n",
       "</table>\n",
       "</div>"
      ]
     },
     "execution_count": 4,
     "metadata": {},
     "output_type": "execute_result"
    }
   ],
   "execution_count": 4
  },
  {
   "metadata": {},
   "cell_type": "code",
   "outputs": [],
   "execution_count": null,
   "source": "",
   "id": "bd7c0eadf2f0180b"
  }
 ],
 "metadata": {
  "kernelspec": {
   "display_name": "Python 3",
   "language": "python",
   "name": "python3"
  },
  "language_info": {
   "codemirror_mode": {
    "name": "ipython",
    "version": 2
   },
   "file_extension": ".py",
   "mimetype": "text/x-python",
   "name": "python",
   "nbconvert_exporter": "python",
   "pygments_lexer": "ipython2",
   "version": "2.7.6"
  }
 },
 "nbformat": 4,
 "nbformat_minor": 5
}
