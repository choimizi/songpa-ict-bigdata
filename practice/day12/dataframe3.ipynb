{
 "cells": [
  {
   "cell_type": "code",
   "id": "initial_id",
   "metadata": {
    "collapsed": true,
    "ExecuteTime": {
     "end_time": "2024-07-19T03:45:42.815989Z",
     "start_time": "2024-07-19T03:45:42.616886Z"
    }
   },
   "source": [
    "import numpy as np\n",
    "import pandas as pd\n",
    "\n",
    "# page 215~216 진단문제\n",
    "\n",
    "# 1. 딕셔너리를 사용하여 데이터프레임 생성하기\n",
    "product = {'code': ['IT323', 'IT306', 'IT455', 'IT470', 'IT502'],\n",
    "           '제품명': ['태블릿', 'BL헤드폰', '무선마우스', '무선스피커', '충전기'],\n",
    "           '가격': [900000, 120000, 89000, 130000, 43000]}\n",
    "df_product = pd.DataFrame(product)\n",
    "print(df_product)\n"
   ],
   "outputs": [
    {
     "name": "stdout",
     "output_type": "stream",
     "text": [
      "    code    제품명      가격\n",
      "0  IT323    태블릿  900000\n",
      "1  IT306  BL헤드폰  120000\n",
      "2  IT455  무선마우스   89000\n",
      "3  IT470  무선스피커  130000\n",
      "4  IT502    충전기   43000\n"
     ]
    }
   ],
   "execution_count": 1
  },
  {
   "metadata": {
    "ExecuteTime": {
     "end_time": "2024-07-19T03:47:23.097787Z",
     "start_time": "2024-07-19T03:47:23.093733Z"
    }
   },
   "cell_type": "code",
   "source": [
    "# 2. 열 추가하기\n",
    "# '수량'\n",
    "df_product['수량'] = [5, 3, 2, 7, 4]\n",
    "print(df_product)"
   ],
   "id": "d77bd909091d7aa2",
   "outputs": [
    {
     "name": "stdout",
     "output_type": "stream",
     "text": [
      "    code    제품명      가격  수량\n",
      "0  IT323    태블릿  900000   5\n",
      "1  IT306  BL헤드폰  120000   3\n",
      "2  IT455  무선마우스   89000   2\n",
      "3  IT470  무선스피커  130000   7\n",
      "4  IT502    충전기   43000   4\n"
     ]
    }
   ],
   "execution_count": 2
  },
  {
   "metadata": {
    "ExecuteTime": {
     "end_time": "2024-07-19T03:48:13.335150Z",
     "start_time": "2024-07-19T03:48:13.329965Z"
    }
   },
   "cell_type": "code",
   "source": [
    "# 3. 열이름 바꾸기. 가격 -> 단가\n",
    "df_product.rename(columns={'가격': '단가'}, inplace=True)\n",
    "print(df_product)"
   ],
   "id": "209060dc3d244ae8",
   "outputs": [
    {
     "name": "stdout",
     "output_type": "stream",
     "text": [
      "    code    제품명      단가  수량\n",
      "0  IT323    태블릿  900000   5\n",
      "1  IT306  BL헤드폰  120000   3\n",
      "2  IT455  무선마우스   89000   2\n",
      "3  IT470  무선스피커  130000   7\n",
      "4  IT502    충전기   43000   4\n"
     ]
    }
   ],
   "execution_count": 3
  },
  {
   "metadata": {
    "ExecuteTime": {
     "end_time": "2024-07-19T03:48:50.730490Z",
     "start_time": "2024-07-19T03:48:50.725172Z"
    }
   },
   "cell_type": "code",
   "source": [
    "# 4. 행 삭제.\n",
    "df_product.drop(2, axis=0, inplace=True)\n",
    "print(df_product)"
   ],
   "id": "44fa3e3c3d0365de",
   "outputs": [
    {
     "name": "stdout",
     "output_type": "stream",
     "text": [
      "    code    제품명      단가  수량\n",
      "0  IT323    태블릿  900000   5\n",
      "1  IT306  BL헤드폰  120000   3\n",
      "3  IT470  무선스피커  130000   7\n",
      "4  IT502    충전기   43000   4\n"
     ]
    }
   ],
   "execution_count": 4
  },
  {
   "metadata": {
    "ExecuteTime": {
     "end_time": "2024-07-19T03:53:30.643975Z",
     "start_time": "2024-07-19T03:53:30.639182Z"
    }
   },
   "cell_type": "code",
   "source": [
    "# 5. 열 추가\n",
    "# 금액 = 단가 * 수량\n",
    "df_product['금액'] = df_product['단가'] * df_product['수량']\n",
    "df_product"
   ],
   "id": "447a77556babf6fd",
   "outputs": [
    {
     "data": {
      "text/plain": [
       "    code    제품명      단가  수량       금액\n",
       "0  IT323    태블릿  900000   5  4500000\n",
       "1  IT306  BL헤드폰  120000   3   360000\n",
       "3  IT470  무선스피커  130000   7   910000\n",
       "4  IT502    충전기   43000   4   172000"
      ],
      "text/html": [
       "<div>\n",
       "<style scoped>\n",
       "    .dataframe tbody tr th:only-of-type {\n",
       "        vertical-align: middle;\n",
       "    }\n",
       "\n",
       "    .dataframe tbody tr th {\n",
       "        vertical-align: top;\n",
       "    }\n",
       "\n",
       "    .dataframe thead th {\n",
       "        text-align: right;\n",
       "    }\n",
       "</style>\n",
       "<table border=\"1\" class=\"dataframe\">\n",
       "  <thead>\n",
       "    <tr style=\"text-align: right;\">\n",
       "      <th></th>\n",
       "      <th>code</th>\n",
       "      <th>제품명</th>\n",
       "      <th>단가</th>\n",
       "      <th>수량</th>\n",
       "      <th>금액</th>\n",
       "    </tr>\n",
       "  </thead>\n",
       "  <tbody>\n",
       "    <tr>\n",
       "      <th>0</th>\n",
       "      <td>IT323</td>\n",
       "      <td>태블릿</td>\n",
       "      <td>900000</td>\n",
       "      <td>5</td>\n",
       "      <td>4500000</td>\n",
       "    </tr>\n",
       "    <tr>\n",
       "      <th>1</th>\n",
       "      <td>IT306</td>\n",
       "      <td>BL헤드폰</td>\n",
       "      <td>120000</td>\n",
       "      <td>3</td>\n",
       "      <td>360000</td>\n",
       "    </tr>\n",
       "    <tr>\n",
       "      <th>3</th>\n",
       "      <td>IT470</td>\n",
       "      <td>무선스피커</td>\n",
       "      <td>130000</td>\n",
       "      <td>7</td>\n",
       "      <td>910000</td>\n",
       "    </tr>\n",
       "    <tr>\n",
       "      <th>4</th>\n",
       "      <td>IT502</td>\n",
       "      <td>충전기</td>\n",
       "      <td>43000</td>\n",
       "      <td>4</td>\n",
       "      <td>172000</td>\n",
       "    </tr>\n",
       "  </tbody>\n",
       "</table>\n",
       "</div>"
      ]
     },
     "execution_count": 13,
     "metadata": {},
     "output_type": "execute_result"
    }
   ],
   "execution_count": 13
  },
  {
   "metadata": {},
   "cell_type": "code",
   "outputs": [],
   "execution_count": null,
   "source": "",
   "id": "f085dfdd1ab912a"
  }
 ],
 "metadata": {
  "kernelspec": {
   "display_name": "Python 3",
   "language": "python",
   "name": "python3"
  },
  "language_info": {
   "codemirror_mode": {
    "name": "ipython",
    "version": 2
   },
   "file_extension": ".py",
   "mimetype": "text/x-python",
   "name": "python",
   "nbconvert_exporter": "python",
   "pygments_lexer": "ipython2",
   "version": "2.7.6"
  }
 },
 "nbformat": 4,
 "nbformat_minor": 5
}
