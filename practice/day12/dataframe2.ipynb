{
 "cells": [
  {
   "cell_type": "code",
   "id": "initial_id",
   "metadata": {
    "collapsed": true,
    "ExecuteTime": {
     "end_time": "2024-07-19T03:15:44.212820Z",
     "start_time": "2024-07-19T03:15:44.004678Z"
    }
   },
   "source": [
    "import numpy as np\n",
    "import pandas as pd\n",
    "\n",
    "# 1. 딕셔너리를 이용한 생성\n",
    "ipsa = {'순번': [2301, 2302, 2303, 2304, 2305],\n",
    "        '이름': ['차은우', '송혜교', '지창욱', '박서준', '아이유'],\n",
    "        '성적': [95, 96, 92, 87, 93]}\n",
    "df = pd.DataFrame(ipsa)\n",
    "print(df)"
   ],
   "outputs": [
    {
     "name": "stdout",
     "output_type": "stream",
     "text": [
      "     순번   이름  성적\n",
      "0  2301  차은우  95\n",
      "1  2302  송혜교  96\n",
      "2  2303  지창욱  92\n",
      "3  2304  박서준  87\n",
      "4  2305  아이유  93\n"
     ]
    }
   ],
   "execution_count": 1
  },
  {
   "metadata": {
    "ExecuteTime": {
     "end_time": "2024-07-19T03:15:44.872586Z",
     "start_time": "2024-07-19T03:15:44.863449Z"
    }
   },
   "cell_type": "code",
   "source": [
    "# 응용\n",
    "# 1. 순번은 학번으로, 성적은 국어로 열 이름을 변경해보세요. 단, 동시에 열 이름 적용을 진행\n",
    "df.rename(columns={'이름': '성명', '순번': '학번', '성적': '국어'}, inplace=True)\n",
    "df"
   ],
   "id": "44b819e156061600",
   "outputs": [
    {
     "data": {
      "text/plain": [
       "     학번   성명  국어\n",
       "0  2301  차은우  95\n",
       "1  2302  송혜교  96\n",
       "2  2303  지창욱  92\n",
       "3  2304  박서준  87\n",
       "4  2305  아이유  93"
      ],
      "text/html": [
       "<div>\n",
       "<style scoped>\n",
       "    .dataframe tbody tr th:only-of-type {\n",
       "        vertical-align: middle;\n",
       "    }\n",
       "\n",
       "    .dataframe tbody tr th {\n",
       "        vertical-align: top;\n",
       "    }\n",
       "\n",
       "    .dataframe thead th {\n",
       "        text-align: right;\n",
       "    }\n",
       "</style>\n",
       "<table border=\"1\" class=\"dataframe\">\n",
       "  <thead>\n",
       "    <tr style=\"text-align: right;\">\n",
       "      <th></th>\n",
       "      <th>학번</th>\n",
       "      <th>성명</th>\n",
       "      <th>국어</th>\n",
       "    </tr>\n",
       "  </thead>\n",
       "  <tbody>\n",
       "    <tr>\n",
       "      <th>0</th>\n",
       "      <td>2301</td>\n",
       "      <td>차은우</td>\n",
       "      <td>95</td>\n",
       "    </tr>\n",
       "    <tr>\n",
       "      <th>1</th>\n",
       "      <td>2302</td>\n",
       "      <td>송혜교</td>\n",
       "      <td>96</td>\n",
       "    </tr>\n",
       "    <tr>\n",
       "      <th>2</th>\n",
       "      <td>2303</td>\n",
       "      <td>지창욱</td>\n",
       "      <td>92</td>\n",
       "    </tr>\n",
       "    <tr>\n",
       "      <th>3</th>\n",
       "      <td>2304</td>\n",
       "      <td>박서준</td>\n",
       "      <td>87</td>\n",
       "    </tr>\n",
       "    <tr>\n",
       "      <th>4</th>\n",
       "      <td>2305</td>\n",
       "      <td>아이유</td>\n",
       "      <td>93</td>\n",
       "    </tr>\n",
       "  </tbody>\n",
       "</table>\n",
       "</div>"
      ]
     },
     "execution_count": 2,
     "metadata": {},
     "output_type": "execute_result"
    }
   ],
   "execution_count": 2
  },
  {
   "metadata": {
    "ExecuteTime": {
     "end_time": "2024-07-19T03:15:51.918598Z",
     "start_time": "2024-07-19T03:15:51.912961Z"
    }
   },
   "cell_type": "code",
   "source": [
    "#2. 열 '국어' 뒤에 '영어' 점수를 추가\n",
    "# 영어\n",
    "# 80\n",
    "# 70\n",
    "# 60\n",
    "# 90\n",
    "# 95\n",
    "df.insert(3, '영어', [80, 70, 60, 90, 95])\n",
    "df"
   ],
   "id": "ee705843fec5e6ce",
   "outputs": [
    {
     "data": {
      "text/plain": [
       "     학번   성명  국어  영어\n",
       "0  2301  차은우  95  80\n",
       "1  2302  송혜교  96  70\n",
       "2  2303  지창욱  92  60\n",
       "3  2304  박서준  87  90\n",
       "4  2305  아이유  93  95"
      ],
      "text/html": [
       "<div>\n",
       "<style scoped>\n",
       "    .dataframe tbody tr th:only-of-type {\n",
       "        vertical-align: middle;\n",
       "    }\n",
       "\n",
       "    .dataframe tbody tr th {\n",
       "        vertical-align: top;\n",
       "    }\n",
       "\n",
       "    .dataframe thead th {\n",
       "        text-align: right;\n",
       "    }\n",
       "</style>\n",
       "<table border=\"1\" class=\"dataframe\">\n",
       "  <thead>\n",
       "    <tr style=\"text-align: right;\">\n",
       "      <th></th>\n",
       "      <th>학번</th>\n",
       "      <th>성명</th>\n",
       "      <th>국어</th>\n",
       "      <th>영어</th>\n",
       "    </tr>\n",
       "  </thead>\n",
       "  <tbody>\n",
       "    <tr>\n",
       "      <th>0</th>\n",
       "      <td>2301</td>\n",
       "      <td>차은우</td>\n",
       "      <td>95</td>\n",
       "      <td>80</td>\n",
       "    </tr>\n",
       "    <tr>\n",
       "      <th>1</th>\n",
       "      <td>2302</td>\n",
       "      <td>송혜교</td>\n",
       "      <td>96</td>\n",
       "      <td>70</td>\n",
       "    </tr>\n",
       "    <tr>\n",
       "      <th>2</th>\n",
       "      <td>2303</td>\n",
       "      <td>지창욱</td>\n",
       "      <td>92</td>\n",
       "      <td>60</td>\n",
       "    </tr>\n",
       "    <tr>\n",
       "      <th>3</th>\n",
       "      <td>2304</td>\n",
       "      <td>박서준</td>\n",
       "      <td>87</td>\n",
       "      <td>90</td>\n",
       "    </tr>\n",
       "    <tr>\n",
       "      <th>4</th>\n",
       "      <td>2305</td>\n",
       "      <td>아이유</td>\n",
       "      <td>93</td>\n",
       "      <td>95</td>\n",
       "    </tr>\n",
       "  </tbody>\n",
       "</table>\n",
       "</div>"
      ]
     },
     "execution_count": 3,
     "metadata": {},
     "output_type": "execute_result"
    }
   ],
   "execution_count": 3
  },
  {
   "metadata": {
    "ExecuteTime": {
     "end_time": "2024-07-19T03:15:57.723665Z",
     "start_time": "2024-07-19T03:15:57.718864Z"
    }
   },
   "cell_type": "code",
   "source": [
    "# 3. 열 '총점'에 모두 0 데이터를 삽입\n",
    "df['총점'] = 0\n",
    "df"
   ],
   "id": "e64c96a91f6f32b7",
   "outputs": [
    {
     "data": {
      "text/plain": [
       "     학번   성명  국어  영어  총점\n",
       "0  2301  차은우  95  80   0\n",
       "1  2302  송혜교  96  70   0\n",
       "2  2303  지창욱  92  60   0\n",
       "3  2304  박서준  87  90   0\n",
       "4  2305  아이유  93  95   0"
      ],
      "text/html": [
       "<div>\n",
       "<style scoped>\n",
       "    .dataframe tbody tr th:only-of-type {\n",
       "        vertical-align: middle;\n",
       "    }\n",
       "\n",
       "    .dataframe tbody tr th {\n",
       "        vertical-align: top;\n",
       "    }\n",
       "\n",
       "    .dataframe thead th {\n",
       "        text-align: right;\n",
       "    }\n",
       "</style>\n",
       "<table border=\"1\" class=\"dataframe\">\n",
       "  <thead>\n",
       "    <tr style=\"text-align: right;\">\n",
       "      <th></th>\n",
       "      <th>학번</th>\n",
       "      <th>성명</th>\n",
       "      <th>국어</th>\n",
       "      <th>영어</th>\n",
       "      <th>총점</th>\n",
       "    </tr>\n",
       "  </thead>\n",
       "  <tbody>\n",
       "    <tr>\n",
       "      <th>0</th>\n",
       "      <td>2301</td>\n",
       "      <td>차은우</td>\n",
       "      <td>95</td>\n",
       "      <td>80</td>\n",
       "      <td>0</td>\n",
       "    </tr>\n",
       "    <tr>\n",
       "      <th>1</th>\n",
       "      <td>2302</td>\n",
       "      <td>송혜교</td>\n",
       "      <td>96</td>\n",
       "      <td>70</td>\n",
       "      <td>0</td>\n",
       "    </tr>\n",
       "    <tr>\n",
       "      <th>2</th>\n",
       "      <td>2303</td>\n",
       "      <td>지창욱</td>\n",
       "      <td>92</td>\n",
       "      <td>60</td>\n",
       "      <td>0</td>\n",
       "    </tr>\n",
       "    <tr>\n",
       "      <th>3</th>\n",
       "      <td>2304</td>\n",
       "      <td>박서준</td>\n",
       "      <td>87</td>\n",
       "      <td>90</td>\n",
       "      <td>0</td>\n",
       "    </tr>\n",
       "    <tr>\n",
       "      <th>4</th>\n",
       "      <td>2305</td>\n",
       "      <td>아이유</td>\n",
       "      <td>93</td>\n",
       "      <td>95</td>\n",
       "      <td>0</td>\n",
       "    </tr>\n",
       "  </tbody>\n",
       "</table>\n",
       "</div>"
      ]
     },
     "execution_count": 4,
     "metadata": {},
     "output_type": "execute_result"
    }
   ],
   "execution_count": 4
  },
  {
   "metadata": {
    "ExecuteTime": {
     "end_time": "2024-07-19T03:16:04.175452Z",
     "start_time": "2024-07-19T03:16:04.171567Z"
    }
   },
   "cell_type": "code",
   "source": [
    "# 4. 열 '총점'에 국어, 영어 점수 합계를 계산하여 총점\n",
    "# 총점=국어+영어\n",
    "df['총점'] = df['국어'] + df['영어']\n",
    "df"
   ],
   "id": "433365023e89b52e",
   "outputs": [
    {
     "data": {
      "text/plain": [
       "     학번   성명  국어  영어   총점\n",
       "0  2301  차은우  95  80  175\n",
       "1  2302  송혜교  96  70  166\n",
       "2  2303  지창욱  92  60  152\n",
       "3  2304  박서준  87  90  177\n",
       "4  2305  아이유  93  95  188"
      ],
      "text/html": [
       "<div>\n",
       "<style scoped>\n",
       "    .dataframe tbody tr th:only-of-type {\n",
       "        vertical-align: middle;\n",
       "    }\n",
       "\n",
       "    .dataframe tbody tr th {\n",
       "        vertical-align: top;\n",
       "    }\n",
       "\n",
       "    .dataframe thead th {\n",
       "        text-align: right;\n",
       "    }\n",
       "</style>\n",
       "<table border=\"1\" class=\"dataframe\">\n",
       "  <thead>\n",
       "    <tr style=\"text-align: right;\">\n",
       "      <th></th>\n",
       "      <th>학번</th>\n",
       "      <th>성명</th>\n",
       "      <th>국어</th>\n",
       "      <th>영어</th>\n",
       "      <th>총점</th>\n",
       "    </tr>\n",
       "  </thead>\n",
       "  <tbody>\n",
       "    <tr>\n",
       "      <th>0</th>\n",
       "      <td>2301</td>\n",
       "      <td>차은우</td>\n",
       "      <td>95</td>\n",
       "      <td>80</td>\n",
       "      <td>175</td>\n",
       "    </tr>\n",
       "    <tr>\n",
       "      <th>1</th>\n",
       "      <td>2302</td>\n",
       "      <td>송혜교</td>\n",
       "      <td>96</td>\n",
       "      <td>70</td>\n",
       "      <td>166</td>\n",
       "    </tr>\n",
       "    <tr>\n",
       "      <th>2</th>\n",
       "      <td>2303</td>\n",
       "      <td>지창욱</td>\n",
       "      <td>92</td>\n",
       "      <td>60</td>\n",
       "      <td>152</td>\n",
       "    </tr>\n",
       "    <tr>\n",
       "      <th>3</th>\n",
       "      <td>2304</td>\n",
       "      <td>박서준</td>\n",
       "      <td>87</td>\n",
       "      <td>90</td>\n",
       "      <td>177</td>\n",
       "    </tr>\n",
       "    <tr>\n",
       "      <th>4</th>\n",
       "      <td>2305</td>\n",
       "      <td>아이유</td>\n",
       "      <td>93</td>\n",
       "      <td>95</td>\n",
       "      <td>188</td>\n",
       "    </tr>\n",
       "  </tbody>\n",
       "</table>\n",
       "</div>"
      ]
     },
     "execution_count": 5,
     "metadata": {},
     "output_type": "execute_result"
    }
   ],
   "execution_count": 5
  },
  {
   "metadata": {
    "ExecuteTime": {
     "end_time": "2024-07-19T03:20:52.880376Z",
     "start_time": "2024-07-19T03:20:52.871590Z"
    }
   },
   "cell_type": "code",
   "source": [
    "# 5. 열 '평균'에 총점/2를 계산하여 데이터를 삽입. 평균은 소숫점 둘째자리까지 표시\n",
    "df['평균'] = df['총점'] / 2\n",
    "# 소숫점 둘째자리 표시 옵션\n",
    "pd.options.display.float_format = '{:,.2f}'.format\n",
    "df"
   ],
   "id": "9ea8418a299a656e",
   "outputs": [
    {
     "data": {
      "text/plain": [
       "     학번   성명  국어  영어   총점    평균\n",
       "0  2301  차은우  95  80  175 87.50\n",
       "1  2302  송혜교  96  70  166 83.00\n",
       "2  2303  지창욱  92  60  152 76.00\n",
       "3  2304  박서준  87  90  177 88.50\n",
       "4  2305  아이유  93  95  188 94.00"
      ],
      "text/html": [
       "<div>\n",
       "<style scoped>\n",
       "    .dataframe tbody tr th:only-of-type {\n",
       "        vertical-align: middle;\n",
       "    }\n",
       "\n",
       "    .dataframe tbody tr th {\n",
       "        vertical-align: top;\n",
       "    }\n",
       "\n",
       "    .dataframe thead th {\n",
       "        text-align: right;\n",
       "    }\n",
       "</style>\n",
       "<table border=\"1\" class=\"dataframe\">\n",
       "  <thead>\n",
       "    <tr style=\"text-align: right;\">\n",
       "      <th></th>\n",
       "      <th>학번</th>\n",
       "      <th>성명</th>\n",
       "      <th>국어</th>\n",
       "      <th>영어</th>\n",
       "      <th>총점</th>\n",
       "      <th>평균</th>\n",
       "    </tr>\n",
       "  </thead>\n",
       "  <tbody>\n",
       "    <tr>\n",
       "      <th>0</th>\n",
       "      <td>2301</td>\n",
       "      <td>차은우</td>\n",
       "      <td>95</td>\n",
       "      <td>80</td>\n",
       "      <td>175</td>\n",
       "      <td>87.50</td>\n",
       "    </tr>\n",
       "    <tr>\n",
       "      <th>1</th>\n",
       "      <td>2302</td>\n",
       "      <td>송혜교</td>\n",
       "      <td>96</td>\n",
       "      <td>70</td>\n",
       "      <td>166</td>\n",
       "      <td>83.00</td>\n",
       "    </tr>\n",
       "    <tr>\n",
       "      <th>2</th>\n",
       "      <td>2303</td>\n",
       "      <td>지창욱</td>\n",
       "      <td>92</td>\n",
       "      <td>60</td>\n",
       "      <td>152</td>\n",
       "      <td>76.00</td>\n",
       "    </tr>\n",
       "    <tr>\n",
       "      <th>3</th>\n",
       "      <td>2304</td>\n",
       "      <td>박서준</td>\n",
       "      <td>87</td>\n",
       "      <td>90</td>\n",
       "      <td>177</td>\n",
       "      <td>88.50</td>\n",
       "    </tr>\n",
       "    <tr>\n",
       "      <th>4</th>\n",
       "      <td>2305</td>\n",
       "      <td>아이유</td>\n",
       "      <td>93</td>\n",
       "      <td>95</td>\n",
       "      <td>188</td>\n",
       "      <td>94.00</td>\n",
       "    </tr>\n",
       "  </tbody>\n",
       "</table>\n",
       "</div>"
      ]
     },
     "execution_count": 9,
     "metadata": {},
     "output_type": "execute_result"
    }
   ],
   "execution_count": 9
  },
  {
   "metadata": {
    "ExecuteTime": {
     "end_time": "2024-07-19T03:27:07.226708Z",
     "start_time": "2024-07-19T03:27:07.218760Z"
    }
   },
   "cell_type": "code",
   "source": [
    "# 6. 평균(avg)이 85점 이상인 사람 조회\n",
    "df[df['평균'] >= 85]"
   ],
   "id": "a902ff201da077de",
   "outputs": [
    {
     "data": {
      "text/plain": [
       "     학번   성명  국어  영어   총점    평균\n",
       "0  2301  차은우  95  80  175 87.50\n",
       "3  2304  박서준  87  90  177 88.50\n",
       "4  2305  아이유  93  95  188 94.00"
      ],
      "text/html": [
       "<div>\n",
       "<style scoped>\n",
       "    .dataframe tbody tr th:only-of-type {\n",
       "        vertical-align: middle;\n",
       "    }\n",
       "\n",
       "    .dataframe tbody tr th {\n",
       "        vertical-align: top;\n",
       "    }\n",
       "\n",
       "    .dataframe thead th {\n",
       "        text-align: right;\n",
       "    }\n",
       "</style>\n",
       "<table border=\"1\" class=\"dataframe\">\n",
       "  <thead>\n",
       "    <tr style=\"text-align: right;\">\n",
       "      <th></th>\n",
       "      <th>학번</th>\n",
       "      <th>성명</th>\n",
       "      <th>국어</th>\n",
       "      <th>영어</th>\n",
       "      <th>총점</th>\n",
       "      <th>평균</th>\n",
       "    </tr>\n",
       "  </thead>\n",
       "  <tbody>\n",
       "    <tr>\n",
       "      <th>0</th>\n",
       "      <td>2301</td>\n",
       "      <td>차은우</td>\n",
       "      <td>95</td>\n",
       "      <td>80</td>\n",
       "      <td>175</td>\n",
       "      <td>87.50</td>\n",
       "    </tr>\n",
       "    <tr>\n",
       "      <th>3</th>\n",
       "      <td>2304</td>\n",
       "      <td>박서준</td>\n",
       "      <td>87</td>\n",
       "      <td>90</td>\n",
       "      <td>177</td>\n",
       "      <td>88.50</td>\n",
       "    </tr>\n",
       "    <tr>\n",
       "      <th>4</th>\n",
       "      <td>2305</td>\n",
       "      <td>아이유</td>\n",
       "      <td>93</td>\n",
       "      <td>95</td>\n",
       "      <td>188</td>\n",
       "      <td>94.00</td>\n",
       "    </tr>\n",
       "  </tbody>\n",
       "</table>\n",
       "</div>"
      ]
     },
     "execution_count": 10,
     "metadata": {},
     "output_type": "execute_result"
    }
   ],
   "execution_count": 10
  },
  {
   "metadata": {
    "ExecuteTime": {
     "end_time": "2024-07-19T03:27:50.855960Z",
     "start_time": "2024-07-19T03:27:50.847654Z"
    }
   },
   "cell_type": "code",
   "source": [
    "# 7. 국어 점수와 영어 점수가 모두 90점 이상인 사람 조회\n",
    "df[(df['국어'] >= 90) & (df['영어'] >= 90)]"
   ],
   "id": "c159f2dd5a176a09",
   "outputs": [
    {
     "data": {
      "text/plain": [
       "     학번   성명  국어  영어   총점    평균\n",
       "4  2305  아이유  93  95  188 94.00"
      ],
      "text/html": [
       "<div>\n",
       "<style scoped>\n",
       "    .dataframe tbody tr th:only-of-type {\n",
       "        vertical-align: middle;\n",
       "    }\n",
       "\n",
       "    .dataframe tbody tr th {\n",
       "        vertical-align: top;\n",
       "    }\n",
       "\n",
       "    .dataframe thead th {\n",
       "        text-align: right;\n",
       "    }\n",
       "</style>\n",
       "<table border=\"1\" class=\"dataframe\">\n",
       "  <thead>\n",
       "    <tr style=\"text-align: right;\">\n",
       "      <th></th>\n",
       "      <th>학번</th>\n",
       "      <th>성명</th>\n",
       "      <th>국어</th>\n",
       "      <th>영어</th>\n",
       "      <th>총점</th>\n",
       "      <th>평균</th>\n",
       "    </tr>\n",
       "  </thead>\n",
       "  <tbody>\n",
       "    <tr>\n",
       "      <th>4</th>\n",
       "      <td>2305</td>\n",
       "      <td>아이유</td>\n",
       "      <td>93</td>\n",
       "      <td>95</td>\n",
       "      <td>188</td>\n",
       "      <td>94.00</td>\n",
       "    </tr>\n",
       "  </tbody>\n",
       "</table>\n",
       "</div>"
      ]
     },
     "execution_count": 11,
     "metadata": {},
     "output_type": "execute_result"
    }
   ],
   "execution_count": 11
  },
  {
   "metadata": {
    "ExecuteTime": {
     "end_time": "2024-07-19T03:28:44.023418Z",
     "start_time": "2024-07-19T03:28:44.017825Z"
    }
   },
   "cell_type": "code",
   "source": [
    "# 8. 국어 점수가 90점 이상이거나 평균이 85점 이상인 사람 조회\n",
    "df[(df['국어'] >= 90) | (df['평균'] >= 85)]"
   ],
   "id": "8db8c98849449324",
   "outputs": [
    {
     "data": {
      "text/plain": [
       "     학번   성명  국어  영어   총점    평균\n",
       "0  2301  차은우  95  80  175 87.50\n",
       "1  2302  송혜교  96  70  166 83.00\n",
       "2  2303  지창욱  92  60  152 76.00\n",
       "3  2304  박서준  87  90  177 88.50\n",
       "4  2305  아이유  93  95  188 94.00"
      ],
      "text/html": [
       "<div>\n",
       "<style scoped>\n",
       "    .dataframe tbody tr th:only-of-type {\n",
       "        vertical-align: middle;\n",
       "    }\n",
       "\n",
       "    .dataframe tbody tr th {\n",
       "        vertical-align: top;\n",
       "    }\n",
       "\n",
       "    .dataframe thead th {\n",
       "        text-align: right;\n",
       "    }\n",
       "</style>\n",
       "<table border=\"1\" class=\"dataframe\">\n",
       "  <thead>\n",
       "    <tr style=\"text-align: right;\">\n",
       "      <th></th>\n",
       "      <th>학번</th>\n",
       "      <th>성명</th>\n",
       "      <th>국어</th>\n",
       "      <th>영어</th>\n",
       "      <th>총점</th>\n",
       "      <th>평균</th>\n",
       "    </tr>\n",
       "  </thead>\n",
       "  <tbody>\n",
       "    <tr>\n",
       "      <th>0</th>\n",
       "      <td>2301</td>\n",
       "      <td>차은우</td>\n",
       "      <td>95</td>\n",
       "      <td>80</td>\n",
       "      <td>175</td>\n",
       "      <td>87.50</td>\n",
       "    </tr>\n",
       "    <tr>\n",
       "      <th>1</th>\n",
       "      <td>2302</td>\n",
       "      <td>송혜교</td>\n",
       "      <td>96</td>\n",
       "      <td>70</td>\n",
       "      <td>166</td>\n",
       "      <td>83.00</td>\n",
       "    </tr>\n",
       "    <tr>\n",
       "      <th>2</th>\n",
       "      <td>2303</td>\n",
       "      <td>지창욱</td>\n",
       "      <td>92</td>\n",
       "      <td>60</td>\n",
       "      <td>152</td>\n",
       "      <td>76.00</td>\n",
       "    </tr>\n",
       "    <tr>\n",
       "      <th>3</th>\n",
       "      <td>2304</td>\n",
       "      <td>박서준</td>\n",
       "      <td>87</td>\n",
       "      <td>90</td>\n",
       "      <td>177</td>\n",
       "      <td>88.50</td>\n",
       "    </tr>\n",
       "    <tr>\n",
       "      <th>4</th>\n",
       "      <td>2305</td>\n",
       "      <td>아이유</td>\n",
       "      <td>93</td>\n",
       "      <td>95</td>\n",
       "      <td>188</td>\n",
       "      <td>94.00</td>\n",
       "    </tr>\n",
       "  </tbody>\n",
       "</table>\n",
       "</div>"
      ]
     },
     "execution_count": 12,
     "metadata": {},
     "output_type": "execute_result"
    }
   ],
   "execution_count": 12
  },
  {
   "metadata": {},
   "cell_type": "code",
   "outputs": [],
   "execution_count": null,
   "source": "",
   "id": "8767b3d0466e54b7"
  }
 ],
 "metadata": {
  "kernelspec": {
   "display_name": "Python 3",
   "language": "python",
   "name": "python3"
  },
  "language_info": {
   "codemirror_mode": {
    "name": "ipython",
    "version": 2
   },
   "file_extension": ".py",
   "mimetype": "text/x-python",
   "name": "python",
   "nbconvert_exporter": "python",
   "pygments_lexer": "ipython2",
   "version": "2.7.6"
  }
 },
 "nbformat": 4,
 "nbformat_minor": 5
}
