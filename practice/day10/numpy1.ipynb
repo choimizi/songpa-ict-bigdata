{
 "cells": [
  {
   "cell_type": "code",
   "id": "initial_id",
   "metadata": {
    "collapsed": true,
    "ExecuteTime": {
     "end_time": "2024-07-17T00:54:49.173591Z",
     "start_time": "2024-07-17T00:54:49.168695Z"
    }
   },
   "source": [
    "import numpy as np\n",
    "\n",
    "# 응용1\n",
    "# 다음과 같은 리스트 자료형을 기억한 후, 배열로 변환후 출력해보세요.\n",
    "num = [4, 2, 9, 8, 7]\n",
    "arr = np.array(num)\n",
    "for i in arr:\n",
    "    print(i)\n",
    "print(\"배열의 합:\", sum(arr))\n",
    "type(arr)  # 자료형이 ndarray 라는것을 확인할 수 있다"
   ],
   "outputs": [
    {
     "name": "stdout",
     "output_type": "stream",
     "text": [
      "4\n",
      "2\n",
      "9\n",
      "8\n",
      "7\n",
      "배열의 합: 30\n"
     ]
    },
    {
     "data": {
      "text/plain": [
       "numpy.ndarray"
      ]
     },
     "execution_count": 7,
     "metadata": {},
     "output_type": "execute_result"
    }
   ],
   "execution_count": 7
  },
  {
   "metadata": {
    "ExecuteTime": {
     "end_time": "2024-07-17T01:11:03.804600Z",
     "start_time": "2024-07-17T01:11:03.800870Z"
    }
   },
   "cell_type": "code",
   "source": [
    "# 응용2\n",
    "# 위 배열에 대해서 실수로 변환하여 출력해보세요\n",
    "float_arr = np.array(num, dtype=float)\n",
    "# float_arr = arr.astype(np.float32)\n",
    "for i in float_arr:\n",
    "    print(i)"
   ],
   "id": "c5b37165077c9ed",
   "outputs": [
    {
     "name": "stdout",
     "output_type": "stream",
     "text": [
      "4.0\n",
      "2.0\n",
      "9.0\n",
      "8.0\n",
      "7.0\n"
     ]
    }
   ],
   "execution_count": 11
  },
  {
   "metadata": {
    "ExecuteTime": {
     "end_time": "2024-07-17T01:10:07.509036Z",
     "start_time": "2024-07-17T01:10:07.505413Z"
    }
   },
   "cell_type": "code",
   "source": [
    "for i in arr.astype(np.float32):\n",
    "    print(i)"
   ],
   "id": "3edac91f464a07ce",
   "outputs": [
    {
     "name": "stdout",
     "output_type": "stream",
     "text": [
      "4.0\n",
      "2.0\n",
      "9.0\n",
      "8.0\n",
      "7.0\n"
     ]
    }
   ],
   "execution_count": 10
  },
  {
   "metadata": {
    "ExecuteTime": {
     "end_time": "2024-07-17T01:11:34.888331Z",
     "start_time": "2024-07-17T01:11:34.885194Z"
    }
   },
   "cell_type": "code",
   "source": "arr.ndim",
   "id": "330984f74b10c4b5",
   "outputs": [
    {
     "data": {
      "text/plain": [
       "1"
      ]
     },
     "execution_count": 12,
     "metadata": {},
     "output_type": "execute_result"
    }
   ],
   "execution_count": 12
  },
  {
   "metadata": {
    "ExecuteTime": {
     "end_time": "2024-07-17T01:11:41.334499Z",
     "start_time": "2024-07-17T01:11:41.329962Z"
    }
   },
   "cell_type": "code",
   "source": "arr.size # 총 몇개의 항목?",
   "id": "4a73da579f678816",
   "outputs": [
    {
     "data": {
      "text/plain": [
       "5"
      ]
     },
     "execution_count": 13,
     "metadata": {},
     "output_type": "execute_result"
    }
   ],
   "execution_count": 13
  },
  {
   "metadata": {
    "ExecuteTime": {
     "end_time": "2024-07-17T01:11:57.283155Z",
     "start_time": "2024-07-17T01:11:57.279441Z"
    }
   },
   "cell_type": "code",
   "source": "arr.shape",
   "id": "1a23d14109a01252",
   "outputs": [
    {
     "data": {
      "text/plain": [
       "(5,)"
      ]
     },
     "execution_count": 14,
     "metadata": {},
     "output_type": "execute_result"
    }
   ],
   "execution_count": 14
  },
  {
   "metadata": {},
   "cell_type": "code",
   "outputs": [],
   "execution_count": null,
   "source": "",
   "id": "86742cfb0cdc2a01"
  }
 ],
 "metadata": {
  "kernelspec": {
   "display_name": "Python 3",
   "language": "python",
   "name": "python3"
  },
  "language_info": {
   "codemirror_mode": {
    "name": "ipython",
    "version": 2
   },
   "file_extension": ".py",
   "mimetype": "text/x-python",
   "name": "python",
   "nbconvert_exporter": "python",
   "pygments_lexer": "ipython2",
   "version": "2.7.6"
  }
 },
 "nbformat": 4,
 "nbformat_minor": 5
}
