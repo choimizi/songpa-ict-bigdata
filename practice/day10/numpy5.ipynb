{
 "cells": [
  {
   "cell_type": "code",
   "id": "initial_id",
   "metadata": {
    "collapsed": true,
    "ExecuteTime": {
     "end_time": "2024-07-17T02:00:14.417090Z",
     "start_time": "2024-07-17T02:00:14.379741Z"
    }
   },
   "source": [
    "import numpy as np\n",
    "\n",
    "num1 = np.array([1, 2, 3])\n",
    "num2 = np.array([4, 5, 6])\n",
    "print(np.add(num1, num2))"
   ],
   "outputs": [
    {
     "name": "stdout",
     "output_type": "stream",
     "text": [
      "[5 7 9]\n"
     ]
    }
   ],
   "execution_count": 1
  },
  {
   "metadata": {
    "ExecuteTime": {
     "end_time": "2024-07-17T02:00:36.462169Z",
     "start_time": "2024-07-17T02:00:36.458312Z"
    }
   },
   "cell_type": "code",
   "source": [
    "print(np.subtract(num2, num1))\n",
    "print(np.multiply(num1, num2))"
   ],
   "id": "2974bd1119ba30c8",
   "outputs": [
    {
     "name": "stdout",
     "output_type": "stream",
     "text": [
      "[3 3 3]\n",
      "[ 4 10 18]\n"
     ]
    }
   ],
   "execution_count": 2
  },
  {
   "metadata": {
    "ExecuteTime": {
     "end_time": "2024-07-17T02:00:48.514004Z",
     "start_time": "2024-07-17T02:00:48.510584Z"
    }
   },
   "cell_type": "code",
   "source": "print(np.divide(num1, num2))",
   "id": "f2b98c6611ca35f0",
   "outputs": [
    {
     "name": "stdout",
     "output_type": "stream",
     "text": [
      "[0.25 0.4  0.5 ]\n"
     ]
    }
   ],
   "execution_count": 3
  },
  {
   "metadata": {
    "ExecuteTime": {
     "end_time": "2024-07-22T09:00:49.513224Z",
     "start_time": "2024-07-22T09:00:49.508499Z"
    }
   },
   "cell_type": "code",
   "source": "print(np.dot(num1, num2))",
   "id": "91a239b39dbf6cb2",
   "outputs": [
    {
     "name": "stdout",
     "output_type": "stream",
     "text": [
      "32\n"
     ]
    }
   ],
   "execution_count": 22
  },
  {
   "metadata": {
    "ExecuteTime": {
     "end_time": "2024-07-17T02:07:15.790079Z",
     "start_time": "2024-07-17T02:07:15.785943Z"
    }
   },
   "cell_type": "code",
   "source": [
    "arr = [4, 1, 2, 7, 9, 8, 5]\n",
    "# arr 전체 출력\n",
    "print(arr)\n",
    "print(arr[0:])\n",
    "print(arr[:])\n",
    "# arr 2,7,9 출력\n",
    "print(arr[2:5:1])"
   ],
   "id": "79c32521ed111a9a",
   "outputs": [
    {
     "name": "stdout",
     "output_type": "stream",
     "text": [
      "[4, 1, 2, 7, 9, 8, 5]\n",
      "[4, 1, 2, 7, 9, 8, 5]\n",
      "[4, 1, 2, 7, 9, 8, 5]\n",
      "[2, 7, 9]\n"
     ]
    }
   ],
   "execution_count": 11
  },
  {
   "metadata": {
    "ExecuteTime": {
     "end_time": "2024-07-17T02:11:14.582956Z",
     "start_time": "2024-07-17T02:11:14.581058Z"
    }
   },
   "cell_type": "code",
   "source": [
    "arr2=np.array([[1,2,3],[4,5,6],[7,8,9]])\n",
    "print(arr2)"
   ],
   "id": "83b4a0a22cf6e331",
   "outputs": [
    {
     "name": "stdout",
     "output_type": "stream",
     "text": [
      "[[1 2 3]\n",
      " [4 5 6]\n",
      " [7 8 9]]\n"
     ]
    }
   ],
   "execution_count": 13
  },
  {
   "metadata": {
    "ExecuteTime": {
     "end_time": "2024-07-17T02:11:42.741404Z",
     "start_time": "2024-07-17T02:11:42.737458Z"
    }
   },
   "cell_type": "code",
   "source": "arr2[:2, :2]  # == arr2[0:2, 0:2]",
   "id": "2eb610e414554c1b",
   "outputs": [
    {
     "data": {
      "text/plain": [
       "array([[1, 2],\n",
       "       [4, 5]])"
      ]
     },
     "execution_count": 14,
     "metadata": {},
     "output_type": "execute_result"
    }
   ],
   "execution_count": 14
  },
  {
   "metadata": {
    "ExecuteTime": {
     "end_time": "2024-07-17T02:12:27.422204Z",
     "start_time": "2024-07-17T02:12:27.419489Z"
    }
   },
   "cell_type": "code",
   "source": "arr2[:2, 1:]  # == arr2[0:2, 1:3]",
   "id": "b292c26ab2b614b1",
   "outputs": [
    {
     "data": {
      "text/plain": [
       "array([[2, 3],\n",
       "       [5, 6]])"
      ]
     },
     "execution_count": 18,
     "metadata": {},
     "output_type": "execute_result"
    }
   ],
   "execution_count": 18
  },
  {
   "metadata": {
    "ExecuteTime": {
     "end_time": "2024-07-17T02:14:52.263964Z",
     "start_time": "2024-07-17T02:14:52.260142Z"
    }
   },
   "cell_type": "code",
   "source": "arr2[1:]  # == arr2[1:3, 0:3] == arr2[1:, :3]",
   "id": "3e0882dc201e3b21",
   "outputs": [
    {
     "data": {
      "text/plain": [
       "array([[4, 5, 6],\n",
       "       [7, 8, 9]])"
      ]
     },
     "execution_count": 20,
     "metadata": {},
     "output_type": "execute_result"
    }
   ],
   "execution_count": 20
  },
  {
   "metadata": {},
   "cell_type": "code",
   "outputs": [],
   "execution_count": null,
   "source": "",
   "id": "945f80e5643c6b85"
  }
 ],
 "metadata": {
  "kernelspec": {
   "display_name": "Python 3",
   "language": "python",
   "name": "python3"
  },
  "language_info": {
   "codemirror_mode": {
    "name": "ipython",
    "version": 2
   },
   "file_extension": ".py",
   "mimetype": "text/x-python",
   "name": "python",
   "nbconvert_exporter": "python",
   "pygments_lexer": "ipython2",
   "version": "2.7.6"
  }
 },
 "nbformat": 4,
 "nbformat_minor": 5
}
