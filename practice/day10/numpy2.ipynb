{
 "cells": [
  {
   "cell_type": "code",
   "id": "initial_id",
   "metadata": {
    "collapsed": true,
    "ExecuteTime": {
     "end_time": "2024-07-17T01:17:20.805385Z",
     "start_time": "2024-07-17T01:17:20.801763Z"
    }
   },
   "source": [
    "import numpy as np\n",
    "\n",
    "arr1=np.zeros(10)\n",
    "arr1"
   ],
   "outputs": [
    {
     "data": {
      "text/plain": [
       "array([0., 0., 0., 0., 0., 0., 0., 0., 0., 0.])"
      ]
     },
     "execution_count": 14,
     "metadata": {},
     "output_type": "execute_result"
    }
   ],
   "execution_count": 14
  },
  {
   "metadata": {
    "ExecuteTime": {
     "end_time": "2024-07-17T01:17:26.243809Z",
     "start_time": "2024-07-17T01:17:26.239125Z"
    }
   },
   "cell_type": "code",
   "source": [
    "arr2=np.ones(10)\n",
    "arr2"
   ],
   "id": "550f6d2d5037743a",
   "outputs": [
    {
     "data": {
      "text/plain": [
       "array([1., 1., 1., 1., 1., 1., 1., 1., 1., 1.])"
      ]
     },
     "execution_count": 15,
     "metadata": {},
     "output_type": "execute_result"
    }
   ],
   "execution_count": 15
  },
  {
   "metadata": {
    "ExecuteTime": {
     "end_time": "2024-07-17T01:17:33.389769Z",
     "start_time": "2024-07-17T01:17:33.385264Z"
    }
   },
   "cell_type": "code",
   "source": "np.eye(3,3)",
   "id": "6f531c0eb03662cc",
   "outputs": [
    {
     "data": {
      "text/plain": [
       "array([[1., 0., 0.],\n",
       "       [0., 1., 0.],\n",
       "       [0., 0., 1.]])"
      ]
     },
     "execution_count": 16,
     "metadata": {},
     "output_type": "execute_result"
    }
   ],
   "execution_count": 16
  },
  {
   "metadata": {
    "ExecuteTime": {
     "end_time": "2024-07-17T01:18:23.528649Z",
     "start_time": "2024-07-17T01:18:23.523756Z"
    }
   },
   "cell_type": "code",
   "source": "np.full((2,5),3)",
   "id": "872c03e280367024",
   "outputs": [
    {
     "data": {
      "text/plain": [
       "array([[3, 3, 3, 3, 3],\n",
       "       [3, 3, 3, 3, 3]])"
      ]
     },
     "execution_count": 19,
     "metadata": {},
     "output_type": "execute_result"
    }
   ],
   "execution_count": 19
  },
  {
   "metadata": {
    "ExecuteTime": {
     "end_time": "2024-07-17T01:19:59.475393Z",
     "start_time": "2024-07-17T01:19:59.470571Z"
    }
   },
   "cell_type": "code",
   "source": [
    "\n",
    "# page 154 진단문제\n",
    "# 3행 3열이 모두 1.5의 실수형 값으로 채워진 배열을 생성하도록 완성\n",
    "arr154=np.full((3,3),1.5)\n",
    "arr154"
   ],
   "id": "baad21693dcdecbb",
   "outputs": [
    {
     "data": {
      "text/plain": [
       "array([[1.5, 1.5, 1.5],\n",
       "       [1.5, 1.5, 1.5],\n",
       "       [1.5, 1.5, 1.5]])"
      ]
     },
     "execution_count": 21,
     "metadata": {},
     "output_type": "execute_result"
    }
   ],
   "execution_count": 21
  },
  {
   "metadata": {},
   "cell_type": "code",
   "outputs": [],
   "execution_count": null,
   "source": "",
   "id": "890ea3b5d3ff30b3"
  }
 ],
 "metadata": {
  "kernelspec": {
   "display_name": "Python 3",
   "language": "python",
   "name": "python3"
  },
  "language_info": {
   "codemirror_mode": {
    "name": "ipython",
    "version": 2
   },
   "file_extension": ".py",
   "mimetype": "text/x-python",
   "name": "python",
   "nbconvert_exporter": "python",
   "pygments_lexer": "ipython2",
   "version": "2.7.6"
  }
 },
 "nbformat": 4,
 "nbformat_minor": 5
}
