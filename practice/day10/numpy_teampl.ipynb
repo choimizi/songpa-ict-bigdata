{
 "cells": [
  {
   "cell_type": "code",
   "id": "initial_id",
   "metadata": {
    "collapsed": true,
    "ExecuteTime": {
     "end_time": "2024-07-17T03:12:03.167151Z",
     "start_time": "2024-07-17T03:12:03.120753Z"
    }
   },
   "source": "import numpy as np",
   "outputs": [],
   "execution_count": 2
  },
  {
   "metadata": {
    "ExecuteTime": {
     "end_time": "2024-07-17T04:10:38.631903Z",
     "start_time": "2024-07-17T04:10:38.624682Z"
    }
   },
   "cell_type": "code",
   "source": [
    "# Numpy 배열 팀플 과제\n",
    "# grade 다중 리스트 자료형 데이터를 총점을 구한 후, 넘파이 배열 변환 후, [실행결과]와 같이 총점이 높은 순으로 다차원 배열을 출력하시오.\n",
    "# grade=[[\"손석구\",70,75,80],\n",
    "#     [\"차은우\",90,80,85]\n",
    "#     [\"김고은\",80,90,90]\n",
    "#     [\"김지원\",85,85,60]\n",
    "#     [\"김수현\",80,80,90]]\n",
    "# [실행 결과]\n",
    "# 김고은 80 90 90 260\n",
    "# 차은우 90 80 85 255\n",
    "# 김수현 80 80 90 250\n",
    "# 김지원 85 85 60 230\n",
    "# 손석구 70 75 80 225\n",
    "grade = [[\"손석구\", 70, 75, 80],\n",
    "         [\"차은우\", 90, 80, 85],\n",
    "         [\"김고은\", 80, 90, 90],\n",
    "         [\"김지원\", 85, 85, 60],\n",
    "         [\"김수현\", 80, 80, 90]]\n",
    "\n",
    "grade_sum = []\n",
    "for name, score1, score2, score3 in grade:\n",
    "    sum = int(score1) + int(score2) + int(score3)\n",
    "    grade_sum.append([name, score1, score2, score3, sum])\n",
    "\n",
    "# 풀이 : 다중 리스트 튜플에서 총점 기준 정렬, numpy 배열로 변환 후 출력₩\n",
    "grade_sum_sort = sorted(grade_sum, key=lambda x: x[4], reverse=True)\n",
    "grade_arr1 = np.array(grade_sum_sort)\n",
    "# print(grade_arr1)\n",
    "for i in range(len(grade_arr1)):\n",
    "    for j in range(len(grade_arr1[i])):\n",
    "        print(f\"{grade_arr1[i][j]}\", end=\"\\t\")\n",
    "    print()"
   ],
   "id": "6c94dea47d02239f",
   "outputs": [
    {
     "name": "stdout",
     "output_type": "stream",
     "text": [
      "김고은\t80\t90\t90\t260\t\n",
      "차은우\t90\t80\t85\t255\t\n",
      "김수현\t80\t80\t90\t250\t\n",
      "김지원\t85\t85\t60\t230\t\n",
      "손석구\t70\t75\t80\t225\t\n"
     ]
    }
   ],
   "execution_count": 58
  },
  {
   "metadata": {},
   "cell_type": "code",
   "outputs": [],
   "execution_count": null,
   "source": "",
   "id": "4f1fa9a287a35c72"
  }
 ],
 "metadata": {
  "kernelspec": {
   "display_name": "Python 3",
   "language": "python",
   "name": "python3"
  },
  "language_info": {
   "codemirror_mode": {
    "name": "ipython",
    "version": 2
   },
   "file_extension": ".py",
   "mimetype": "text/x-python",
   "name": "python",
   "nbconvert_exporter": "python",
   "pygments_lexer": "ipython2",
   "version": "2.7.6"
  }
 },
 "nbformat": 4,
 "nbformat_minor": 5
}
