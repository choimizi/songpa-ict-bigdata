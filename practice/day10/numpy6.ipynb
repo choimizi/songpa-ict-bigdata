{
 "cells": [
  {
   "cell_type": "code",
   "id": "initial_id",
   "metadata": {
    "collapsed": true,
    "ExecuteTime": {
     "end_time": "2024-07-17T02:35:29.456085Z",
     "start_time": "2024-07-17T02:35:29.391797Z"
    }
   },
   "source": [
    "import numpy as np\n",
    "\n",
    "arr = np.array([5, 4, 2, 9, 3])\n",
    "\n",
    "np.sum(arr)"
   ],
   "outputs": [
    {
     "data": {
      "text/plain": [
       "np.float64(2.4166091947189146)"
      ]
     },
     "execution_count": 1,
     "metadata": {},
     "output_type": "execute_result"
    }
   ],
   "execution_count": 1
  },
  {
   "metadata": {
    "ExecuteTime": {
     "end_time": "2024-07-17T02:35:43.880302Z",
     "start_time": "2024-07-17T02:35:43.876104Z"
    }
   },
   "cell_type": "code",
   "source": "np.mean(arr)",
   "id": "8ceab3f4e174b048",
   "outputs": [
    {
     "data": {
      "text/plain": [
       "np.float64(4.6)"
      ]
     },
     "execution_count": 2,
     "metadata": {},
     "output_type": "execute_result"
    }
   ],
   "execution_count": 2
  },
  {
   "metadata": {
    "ExecuteTime": {
     "end_time": "2024-07-17T02:35:50.274733Z",
     "start_time": "2024-07-17T02:35:50.271224Z"
    }
   },
   "cell_type": "code",
   "source": "np.max(arr)",
   "id": "8ae576bc5199c114",
   "outputs": [
    {
     "data": {
      "text/plain": [
       "np.int64(9)"
      ]
     },
     "execution_count": 3,
     "metadata": {},
     "output_type": "execute_result"
    }
   ],
   "execution_count": 3
  },
  {
   "metadata": {
    "ExecuteTime": {
     "end_time": "2024-07-17T02:35:52.884535Z",
     "start_time": "2024-07-17T02:35:52.881510Z"
    }
   },
   "cell_type": "code",
   "source": "np.min(arr)",
   "id": "6b4d0ae23bcf2ce3",
   "outputs": [
    {
     "data": {
      "text/plain": [
       "np.int64(2)"
      ]
     },
     "execution_count": 4,
     "metadata": {},
     "output_type": "execute_result"
    }
   ],
   "execution_count": 4
  },
  {
   "metadata": {
    "ExecuteTime": {
     "end_time": "2024-07-17T02:36:00.636546Z",
     "start_time": "2024-07-17T02:36:00.634359Z"
    }
   },
   "cell_type": "code",
   "source": "np.var(arr)",
   "id": "8028edd382834d53",
   "outputs": [
    {
     "data": {
      "text/plain": [
       "np.float64(5.84)"
      ]
     },
     "execution_count": 5,
     "metadata": {},
     "output_type": "execute_result"
    }
   ],
   "execution_count": 5
  },
  {
   "metadata": {
    "ExecuteTime": {
     "end_time": "2024-07-17T02:36:02.077283Z",
     "start_time": "2024-07-17T02:36:02.072878Z"
    }
   },
   "cell_type": "code",
   "source": "np.std(arr)",
   "id": "6e80c1db5235d923",
   "outputs": [
    {
     "data": {
      "text/plain": [
       "np.float64(2.4166091947189146)"
      ]
     },
     "execution_count": 6,
     "metadata": {},
     "output_type": "execute_result"
    }
   ],
   "execution_count": 6
  },
  {
   "metadata": {
    "ExecuteTime": {
     "end_time": "2024-07-17T02:36:20.867806Z",
     "start_time": "2024-07-17T02:36:20.863503Z"
    }
   },
   "cell_type": "code",
   "source": "np.sign(arr)",
   "id": "e6f62515c1d16def",
   "outputs": [
    {
     "data": {
      "text/plain": [
       "array([1, 1, 1, 1, 1])"
      ]
     },
     "execution_count": 8,
     "metadata": {},
     "output_type": "execute_result"
    }
   ],
   "execution_count": 8
  },
  {
   "metadata": {
    "ExecuteTime": {
     "end_time": "2024-07-17T02:36:36.190462Z",
     "start_time": "2024-07-17T02:36:36.186935Z"
    }
   },
   "cell_type": "code",
   "source": "np.cumsum(arr)",
   "id": "8eeb0294cb6bca63",
   "outputs": [
    {
     "data": {
      "text/plain": [
       "array([ 5,  9, 11, 20, 23])"
      ]
     },
     "execution_count": 10,
     "metadata": {},
     "output_type": "execute_result"
    }
   ],
   "execution_count": 10
  },
  {
   "metadata": {
    "ExecuteTime": {
     "end_time": "2024-07-17T02:37:15.541562Z",
     "start_time": "2024-07-17T02:37:15.537793Z"
    }
   },
   "cell_type": "code",
   "source": "np.trunc(arr)",
   "id": "3372f353c3eedac8",
   "outputs": [
    {
     "data": {
      "text/plain": [
       "array([5., 4., 2., 9., 3.])"
      ]
     },
     "execution_count": 11,
     "metadata": {},
     "output_type": "execute_result"
    }
   ],
   "execution_count": 11
  },
  {
   "metadata": {
    "ExecuteTime": {
     "end_time": "2024-07-17T02:40:27.535128Z",
     "start_time": "2024-07-17T02:40:27.532698Z"
    }
   },
   "cell_type": "code",
   "source": [
    "#============\n",
    "maxIndex=np.argmax(arr)\n",
    "maxIndex"
   ],
   "id": "ca5ad15562de328f",
   "outputs": [
    {
     "data": {
      "text/plain": [
       "np.int64(3)"
      ]
     },
     "execution_count": 13,
     "metadata": {},
     "output_type": "execute_result"
    }
   ],
   "execution_count": 13
  },
  {
   "metadata": {
    "ExecuteTime": {
     "end_time": "2024-07-17T02:40:38.428195Z",
     "start_time": "2024-07-17T02:40:38.423842Z"
    }
   },
   "cell_type": "code",
   "source": [
    "minIndex=np.argmin(arr)\n",
    "minIndex"
   ],
   "id": "ada3b026b9041454",
   "outputs": [
    {
     "data": {
      "text/plain": [
       "np.int64(2)"
      ]
     },
     "execution_count": 15,
     "metadata": {},
     "output_type": "execute_result"
    }
   ],
   "execution_count": 15
  },
  {
   "metadata": {
    "ExecuteTime": {
     "end_time": "2024-07-17T02:59:21.188588Z",
     "start_time": "2024-07-17T02:59:21.185074Z"
    }
   },
   "cell_type": "code",
   "source": [
    "# page 192 4번 내림차순\n",
    "arr = np.array([80, 90, 80, 100, 60])\n",
    "arrRsort = np.flip(np.sort(arr))\n",
    "# == arrRsort = np.sort(arr)[::-1]\n",
    "for i in arrRsort:\n",
    "    print(i)"
   ],
   "id": "f34ab9f2df23fd92",
   "outputs": [
    {
     "name": "stdout",
     "output_type": "stream",
     "text": [
      "100\n",
      "90\n",
      "80\n",
      "80\n",
      "60\n"
     ]
    }
   ],
   "execution_count": 27
  },
  {
   "metadata": {
    "ExecuteTime": {
     "end_time": "2024-07-17T03:05:28.302104Z",
     "start_time": "2024-07-17T03:05:28.297446Z"
    }
   },
   "cell_type": "code",
   "source": [
    "# page 192 5번 sales 배열에서 2주동안의 커피 판매량 항목\n",
    "# HINT\n",
    "# cumsum()\n",
    "\n",
    "# 풀이1\n",
    "sales = np.array([5, 7, 3, 6, 2, 4, 8, 7, 5, 4, 3, 12, 4, 2])\n",
    "sales_zip = zip(sales, np.cumsum(sales))\n",
    "day = 0\n",
    "for perday, cumulative_sales in sales_zip:\n",
    "    day += 1\n",
    "    print(f\"{day:>2}일 판매량: {perday:>2} \\t 누적 판매 : {cumulative_sales:>2}\")"
   ],
   "id": "10375d787a4f46de",
   "outputs": [
    {
     "name": "stdout",
     "output_type": "stream",
     "text": [
      " 1일 판매량:  5 \t 누적 판매 :  5\n",
      " 2일 판매량:  7 \t 누적 판매 : 12\n",
      " 3일 판매량:  3 \t 누적 판매 : 15\n",
      " 4일 판매량:  6 \t 누적 판매 : 21\n",
      " 5일 판매량:  2 \t 누적 판매 : 23\n",
      " 6일 판매량:  4 \t 누적 판매 : 27\n",
      " 7일 판매량:  8 \t 누적 판매 : 35\n",
      " 8일 판매량:  7 \t 누적 판매 : 42\n",
      " 9일 판매량:  5 \t 누적 판매 : 47\n",
      "10일 판매량:  4 \t 누적 판매 : 51\n",
      "11일 판매량:  3 \t 누적 판매 : 54\n",
      "12일 판매량: 12 \t 누적 판매 : 66\n",
      "13일 판매량:  4 \t 누적 판매 : 70\n",
      "14일 판매량:  2 \t 누적 판매 : 72\n"
     ]
    }
   ],
   "execution_count": 31
  },
  {
   "metadata": {
    "ExecuteTime": {
     "end_time": "2024-07-17T03:05:38.071267Z",
     "start_time": "2024-07-17T03:05:38.067793Z"
    }
   },
   "cell_type": "code",
   "source": [
    "# 풀이2\n",
    "grand_sales = np.cumsum(sales)\n",
    "for i in range(len(sales)):\n",
    "    print(f\"{i + 1:>2}일 판매량: {sales[i]:>2} \\t 누적 판매 : {grand_sales[i]:>2}\")"
   ],
   "id": "7f2e434b7a49be3b",
   "outputs": [
    {
     "name": "stdout",
     "output_type": "stream",
     "text": [
      " 1일 판매량:  5 \t 누적 판매 :  5\n",
      " 2일 판매량:  7 \t 누적 판매 : 12\n",
      " 3일 판매량:  3 \t 누적 판매 : 15\n",
      " 4일 판매량:  6 \t 누적 판매 : 21\n",
      " 5일 판매량:  2 \t 누적 판매 : 23\n",
      " 6일 판매량:  4 \t 누적 판매 : 27\n",
      " 7일 판매량:  8 \t 누적 판매 : 35\n",
      " 8일 판매량:  7 \t 누적 판매 : 42\n",
      " 9일 판매량:  5 \t 누적 판매 : 47\n",
      "10일 판매량:  4 \t 누적 판매 : 51\n",
      "11일 판매량:  3 \t 누적 판매 : 54\n",
      "12일 판매량: 12 \t 누적 판매 : 66\n",
      "13일 판매량:  4 \t 누적 판매 : 70\n",
      "14일 판매량:  2 \t 누적 판매 : 72\n"
     ]
    }
   ],
   "execution_count": 34
  },
  {
   "metadata": {},
   "cell_type": "code",
   "outputs": [],
   "execution_count": null,
   "source": "",
   "id": "a71751f8554b264e"
  }
 ],
 "metadata": {
  "kernelspec": {
   "display_name": "Python 3",
   "language": "python",
   "name": "python3"
  },
  "language_info": {
   "codemirror_mode": {
    "name": "ipython",
    "version": 2
   },
   "file_extension": ".py",
   "mimetype": "text/x-python",
   "name": "python",
   "nbconvert_exporter": "python",
   "pygments_lexer": "ipython2",
   "version": "2.7.6"
  }
 },
 "nbformat": 4,
 "nbformat_minor": 5
}
