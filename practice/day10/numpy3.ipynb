{
 "cells": [
  {
   "cell_type": "code",
   "id": "initial_id",
   "metadata": {
    "collapsed": true,
    "ExecuteTime": {
     "end_time": "2024-07-17T01:37:38.744814Z",
     "start_time": "2024-07-17T01:37:38.713862Z"
    }
   },
   "source": [
    "import numpy as np\n",
    "arr=np.arange(1,10,1)\n",
    "print(arr)"
   ],
   "outputs": [
    {
     "name": "stdout",
     "output_type": "stream",
     "text": [
      "[1 2 3 4 5 6 7 8 9]\n"
     ]
    }
   ],
   "execution_count": 1
  },
  {
   "metadata": {
    "ExecuteTime": {
     "end_time": "2024-07-17T01:38:24.710187Z",
     "start_time": "2024-07-17T01:38:24.707433Z"
    }
   },
   "cell_type": "code",
   "source": [
    "arr1=np.reshape(arr,(3,3))\n",
    "print(arr1)"
   ],
   "id": "69f5dcc06befba2",
   "outputs": [
    {
     "name": "stdout",
     "output_type": "stream",
     "text": [
      "[[1 2 3]\n",
      " [4 5 6]\n",
      " [7 8 9]]\n"
     ]
    }
   ],
   "execution_count": 2
  },
  {
   "metadata": {
    "ExecuteTime": {
     "end_time": "2024-07-17T01:43:31.907666Z",
     "start_time": "2024-07-17T01:43:31.904074Z"
    }
   },
   "cell_type": "code",
   "source": [
    "arr3=np.arange(5,13)\n",
    "print(arr3)\n"
   ],
   "id": "be08411912d070a8",
   "outputs": [
    {
     "name": "stdout",
     "output_type": "stream",
     "text": [
      "[ 5  6  7  8  9 10 11 12]\n"
     ]
    }
   ],
   "execution_count": 3
  },
  {
   "metadata": {
    "ExecuteTime": {
     "end_time": "2024-07-17T01:43:47.016104Z",
     "start_time": "2024-07-17T01:43:47.012980Z"
    }
   },
   "cell_type": "code",
   "source": [
    "arr4=arr3.reshape(2,4)\n",
    "print(arr4)"
   ],
   "id": "d25550f789cca0f2",
   "outputs": [
    {
     "name": "stdout",
     "output_type": "stream",
     "text": [
      "[[ 5  6  7  8]\n",
      " [ 9 10 11 12]]\n"
     ]
    }
   ],
   "execution_count": 4
  },
  {
   "metadata": {},
   "cell_type": "code",
   "outputs": [],
   "execution_count": null,
   "source": "",
   "id": "33d1c83ef61765a4"
  }
 ],
 "metadata": {
  "kernelspec": {
   "display_name": "Python 3",
   "language": "python",
   "name": "python3"
  },
  "language_info": {
   "codemirror_mode": {
    "name": "ipython",
    "version": 2
   },
   "file_extension": ".py",
   "mimetype": "text/x-python",
   "name": "python",
   "nbconvert_exporter": "python",
   "pygments_lexer": "ipython2",
   "version": "2.7.6"
  }
 },
 "nbformat": 4,
 "nbformat_minor": 5
}
