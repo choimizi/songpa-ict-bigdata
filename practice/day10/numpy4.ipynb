{
 "cells": [
  {
   "cell_type": "code",
   "id": "initial_id",
   "metadata": {
    "collapsed": true,
    "ExecuteTime": {
     "end_time": "2024-07-17T01:48:49.955179Z",
     "start_time": "2024-07-17T01:48:49.923467Z"
    }
   },
   "source": "import numpy as np",
   "outputs": [],
   "execution_count": 1
  },
  {
   "metadata": {
    "ExecuteTime": {
     "end_time": "2024-07-17T01:54:33.297051Z",
     "start_time": "2024-07-17T01:54:33.292029Z"
    }
   },
   "cell_type": "code",
   "source": [
    "# 예제\n",
    "# arr=np.array([3,5,4,1,7])\n",
    "# 1. arr 배열에 원소 8을 추가\n",
    "# 2. arr 1번 인덱스 위치에 원소 10 삽입\n",
    "# 3. arr 5번 인덱스 위치에 원소 3 삽입\n",
    "# 4. arr 배열에 4번 인덱스 삭제\n",
    "# 5. arr 배열에 중복된 원소를 제거\n",
    "\n",
    "\n",
    "arr = np.array([3, 5, 4, 1, 7])\n",
    "# 1. arr 배열에 원소 8을 추가\n",
    "arr1 = np.append(arr, 8)\n",
    "arr1"
   ],
   "id": "54108e72ee24b29a",
   "outputs": [
    {
     "data": {
      "text/plain": [
       "array([3, 5, 4, 1, 7, 8])"
      ]
     },
     "execution_count": 25,
     "metadata": {},
     "output_type": "execute_result"
    }
   ],
   "execution_count": 25
  },
  {
   "metadata": {
    "ExecuteTime": {
     "end_time": "2024-07-17T01:54:36.735992Z",
     "start_time": "2024-07-17T01:54:36.731693Z"
    }
   },
   "cell_type": "code",
   "source": [
    "# 2. arr 1번 인덱스 위치에 원소 10 삽입\n",
    "arr2 = np.insert(arr1, 1, 10)\n",
    "arr2"
   ],
   "id": "5d833b7afed56b90",
   "outputs": [
    {
     "data": {
      "text/plain": [
       "array([ 3, 10,  5,  4,  1,  7,  8])"
      ]
     },
     "execution_count": 26,
     "metadata": {},
     "output_type": "execute_result"
    }
   ],
   "execution_count": 26
  },
  {
   "metadata": {
    "ExecuteTime": {
     "end_time": "2024-07-17T01:58:40.428869Z",
     "start_time": "2024-07-17T01:58:40.424492Z"
    }
   },
   "cell_type": "code",
   "source": [
    "# 3. arr 5번 인덱스 위치에 원소 3 삽입\n",
    "arr3 = np.insert(arr2, 5, 3)\n",
    "arr3"
   ],
   "id": "211a9cb68f16c8a",
   "outputs": [
    {
     "data": {
      "text/plain": [
       "array([ 3, 10,  5,  4,  1,  3,  7,  8])"
      ]
     },
     "execution_count": 30,
     "metadata": {},
     "output_type": "execute_result"
    }
   ],
   "execution_count": 30
  },
  {
   "metadata": {
    "ExecuteTime": {
     "end_time": "2024-07-17T01:58:42.483484Z",
     "start_time": "2024-07-17T01:58:42.477131Z"
    }
   },
   "cell_type": "code",
   "source": [
    "# 4. arr 배열에 4번 인덱스 삭제\n",
    "arr4 = np.delete(arr3, 4)\n",
    "arr4"
   ],
   "id": "aa4fbc141c3d797a",
   "outputs": [
    {
     "data": {
      "text/plain": [
       "array([ 3, 10,  5,  4,  3,  7,  8])"
      ]
     },
     "execution_count": 31,
     "metadata": {},
     "output_type": "execute_result"
    }
   ],
   "execution_count": 31
  },
  {
   "metadata": {
    "ExecuteTime": {
     "end_time": "2024-07-17T01:58:44.375968Z",
     "start_time": "2024-07-17T01:58:44.370287Z"
    }
   },
   "cell_type": "code",
   "source": [
    "# 5. arr 배열에 중복된 원소를 제거\n",
    "arr5 = np.unique(arr4)\n",
    "arr5"
   ],
   "id": "876b76a085f914f9",
   "outputs": [
    {
     "data": {
      "text/plain": [
       "array([ 3,  4,  5,  7,  8, 10])"
      ]
     },
     "execution_count": 32,
     "metadata": {},
     "output_type": "execute_result"
    }
   ],
   "execution_count": 32
  },
  {
   "metadata": {},
   "cell_type": "code",
   "outputs": [],
   "execution_count": null,
   "source": "",
   "id": "ccbdaf5517d12e5a"
  }
 ],
 "metadata": {
  "kernelspec": {
   "display_name": "Python 3",
   "language": "python",
   "name": "python3"
  },
  "language_info": {
   "codemirror_mode": {
    "name": "ipython",
    "version": 2
   },
   "file_extension": ".py",
   "mimetype": "text/x-python",
   "name": "python",
   "nbconvert_exporter": "python",
   "pygments_lexer": "ipython2",
   "version": "2.7.6"
  }
 },
 "nbformat": 4,
 "nbformat_minor": 5
}
